{
  "nbformat": 4,
  "nbformat_minor": 0,
  "metadata": {
    "colab": {
      "provenance": []
    },
    "kernelspec": {
      "name": "python3",
      "display_name": "Python 3"
    },
    "language_info": {
      "name": "python"
    }
  },
  "cells": [
    {
      "cell_type": "markdown",
      "source": [
        "# Introduction"
      ],
      "metadata": {
        "id": "oxtPmIRot8ru"
      }
    },
    {
      "cell_type": "markdown",
      "source": [
        "## Web Crawler Research"
      ],
      "metadata": {
        "id": "VWK-4B1ssmWU"
      }
    },
    {
      "cell_type": "code",
      "source": [
        "import requests\n",
        "x = requests.get('https://willowbendlc.com')\n",
        "print(x.text)"
      ],
      "metadata": {
        "colab": {
          "base_uri": "https://localhost:8080/"
        },
        "id": "4JNsL6GpBPPV",
        "outputId": "0cdf91c8-7b33-46b0-b315-f268560087ea",
        "collapsed": true
      },
      "execution_count": 33,
      "outputs": [
        {
          "output_type": "stream",
          "name": "stdout",
          "text": [
            "<!DOCTYPE html><html lang=\"en-CA\"><head><link rel=\"icon\" href=\"//img1.wsimg.com/isteam/ip/3373a061-5c71-4743-91b3-d0f1ecdee87a/favicon/3ea19da4-0533-4332-a8b2-cd2d704afe20.png/:/rs=w:16,h:16,m\" sizes=\"16x16\"/><link rel=\"icon\" href=\"//img1.wsimg.com/isteam/ip/3373a061-5c71-4743-91b3-d0f1ecdee87a/favicon/3ea19da4-0533-4332-a8b2-cd2d704afe20.png/:/rs=w:24,h:24,m\" sizes=\"24x24\"/><link rel=\"icon\" href=\"//img1.wsimg.com/isteam/ip/3373a061-5c71-4743-91b3-d0f1ecdee87a/favicon/3ea19da4-0533-4332-a8b2-cd2d704afe20.png/:/rs=w:32,h:32,m\" sizes=\"32x32\"/><link rel=\"icon\" href=\"//img1.wsimg.com/isteam/ip/3373a061-5c71-4743-91b3-d0f1ecdee87a/favicon/3ea19da4-0533-4332-a8b2-cd2d704afe20.png/:/rs=w:48,h:48,m\" sizes=\"48x48\"/><link rel=\"icon\" href=\"//img1.wsimg.com/isteam/ip/3373a061-5c71-4743-91b3-d0f1ecdee87a/favicon/3ea19da4-0533-4332-a8b2-cd2d704afe20.png/:/rs=w:64,h:64,m\" sizes=\"64x64\"/><meta charSet=\"utf-8\"/><meta http-equiv=\"X-UA-Compatible\" content=\"IE=edge\"/><meta name=\"viewport\" content=\"width=device-width, initial-scale=1\"/><title>Preschool Programs at Willow Bend Learning Center</title><meta name=\"description\" content=\"Explore our top-rated preschool programs designed to nurture your child&#x27;s growth and development. Schedule a tour today!\"/><meta name=\"author\" content=\"Willow Bend Learning Center\"/><meta name=\"generator\" content=\"Starfield Technologies; Go Daddy Website Builder 8.0.0000\"/><link rel=\"manifest\" href=\"/manifest.webmanifest\"/><link rel=\"apple-touch-icon\" sizes=\"57x57\" href=\"//img1.wsimg.com/isteam/ip/3373a061-5c71-4743-91b3-d0f1ecdee87a/logo.png/:/rs=w:57,h:57,m\"/><link rel=\"apple-touch-icon\" sizes=\"60x60\" href=\"//img1.wsimg.com/isteam/ip/3373a061-5c71-4743-91b3-d0f1ecdee87a/logo.png/:/rs=w:60,h:60,m\"/><link rel=\"apple-touch-icon\" sizes=\"72x72\" href=\"//img1.wsimg.com/isteam/ip/3373a061-5c71-4743-91b3-d0f1ecdee87a/logo.png/:/rs=w:72,h:72,m\"/><link rel=\"apple-touch-icon\" sizes=\"114x114\" href=\"//img1.wsimg.com/isteam/ip/3373a061-5c71-4743-91b3-d0f1ecdee87a/logo.png/:/rs=w:114,h:114,m\"/><link rel=\"apple-touch-icon\" sizes=\"120x120\" href=\"//img1.wsimg.com/isteam/ip/3373a061-5c71-4743-91b3-d0f1ecdee87a/logo.png/:/rs=w:120,h:120,m\"/><link rel=\"apple-touch-icon\" sizes=\"144x144\" href=\"//img1.wsimg.com/isteam/ip/3373a061-5c71-4743-91b3-d0f1ecdee87a/logo.png/:/rs=w:144,h:144,m\"/><link rel=\"apple-touch-icon\" sizes=\"152x152\" href=\"//img1.wsimg.com/isteam/ip/3373a061-5c71-4743-91b3-d0f1ecdee87a/logo.png/:/rs=w:152,h:152,m\"/><link rel=\"apple-touch-icon\" sizes=\"180x180\" href=\"//img1.wsimg.com/isteam/ip/3373a061-5c71-4743-91b3-d0f1ecdee87a/logo.png/:/rs=w:180,h:180,m\"/><meta property=\"og:url\" content=\"https://willowbendlc.com/\"/>\n",
            "<meta property=\"og:site_name\" content=\"Willow Bend Learning Center\"/>\n",
            "<meta property=\"og:title\" content=\"Willow Bend Learning Center\"/>\n",
            "<meta property=\"og:description\" content=\"Explore our top-rated preschool programs designed to nurture your child&#39;s growth and development. Schedule a tour today!\"/>\n",
            "<meta property=\"og:type\" content=\"website\"/>\n",
            "<meta property=\"og:image\" content=\"https://i.vimeocdn.com/video/1862224969-ce69b1202a5f9370d760b38d7d708962c8f2ddd1d45ebccf21ea8b2b1be5c8fc-d_1280x720?r=pad\"/>\n",
            "<meta property=\"og:locale\" content=\"en_CA\"/>\n",
            "<meta name=\"twitter:card\" content=\"summary\"/>\n",
            "<meta name=\"twitter:title\" content=\"Willow Bend Learning Center\"/>\n",
            "<meta name=\"twitter:description\" content=\"Willow Bend Learning Center\"/>\n",
            "<meta name=\"twitter:image\" content=\"https://i.vimeocdn.com/video/1862224969-ce69b1202a5f9370d760b38d7d708962c8f2ddd1d45ebccf21ea8b2b1be5c8fc-d_1280x720?r=pad\"/>\n",
            "<meta name=\"twitter:image:alt\" content=\"Willow Bend Learning Center\"/>\n",
            "<meta name=\"theme-color\" content=\"#fce785\"/>\n",
            "<meta name=\"google-site-verification\" content=\"de-eKNzTvZX87se9U6i9zTeNWROAOQPAm4G0MukSHOI\"/><style data-inline-fonts>@font-face {\n",
            "  font-family: 'Cantarell';\n",
            "  font-style: italic;\n",
            "  font-weight: 400;\n",
            "  font-display: swap;\n",
            "  src: url(https://img1.wsimg.com/gfonts/s/cantarell/v17/B50LF7ZDq37KMUvlO015iZJpNK0.woff) format('woff');\n",
            "}\n",
            "@font-face {\n",
            "  font-family: 'Cantarell';\n",
            "  font-style: italic;\n",
            "  font-weight: 700;\n",
            "  font-display: swap;\n",
            "  src: url(https://img1.wsimg.com/gfonts/s/cantarell/v17/B50WF7ZDq37KMUvlO015iZrSEb6dDY0.woff) format('woff');\n",
            "}\n",
            "@font-face {\n",
            "  font-family: 'Cantarell';\n",
            "  font-style: normal;\n",
            "  font-weight: 400;\n",
            "  font-display: swap;\n",
            "  src: url(https://img1.wsimg.com/gfonts/s/cantarell/v17/B50NF7ZDq37KMUvlO015jKJt.woff) format('woff');\n",
            "}\n",
            "@font-face {\n",
            "  font-family: 'Cantarell';\n",
            "  font-style: normal;\n",
            "  font-weight: 700;\n",
            "  font-display: swap;\n",
            "  src: url(https://img1.wsimg.com/gfonts/s/cantarell/v17/B50IF7ZDq37KMUvlO01xN4d-E46Z.woff) format('woff');\n",
            "}\n",
            "\n",
            "@font-face {\n",
            "  font-family: 'Poppins';\n",
            "  font-style: normal;\n",
            "  font-weight: 300;\n",
            "  font-display: swap;\n",
            "  src: url(https://img1.wsimg.com/gfonts/s/poppins/v21/pxiByp8kv8JHgFVrLDz8Z1xlEw.woff) format('woff');\n",
            "}\n",
            "@font-face {\n",
            "  font-family: 'Poppins';\n",
            "  font-style: normal;\n",
            "  font-weight: 400;\n",
            "  font-display: swap;\n",
            "  src: url(https://img1.wsimg.com/gfonts/s/poppins/v21/pxiEyp8kv8JHgFVrJJfedA.woff) format('woff');\n",
            "}\n",
            "@font-face {\n",
            "  font-family: 'Poppins';\n",
            "  font-style: normal;\n",
            "  font-weight: 600;\n",
            "  font-display: swap;\n",
            "  src: url(https://img1.wsimg.com/gfonts/s/poppins/v21/pxiByp8kv8JHgFVrLEj6Z1xlEw.woff) format('woff');\n",
            "}\n",
            "@font-face {\n",
            "  font-family: 'Poppins';\n",
            "  font-style: normal;\n",
            "  font-weight: 700;\n",
            "  font-display: swap;\n",
            "  src: url(https://img1.wsimg.com/gfonts/s/poppins/v21/pxiByp8kv8JHgFVrLCz7Z1xlEw.woff) format('woff');\n",
            "}\n",
            "\n",
            "@font-face {\n",
            "  font-family: 'Damion';\n",
            "  font-style: normal;\n",
            "  font-weight: 400;\n",
            "  font-display: swap;\n",
            "  src: url(https://img1.wsimg.com/gfonts/s/damion/v15/hv-XlzJ3KEUe_YZkamww.woff) format('woff');\n",
            "}\n",
            "</style><style>.x{-ms-text-size-adjust:100%;-webkit-text-size-adjust:100%;-webkit-tap-highlight-color:rgba(0,0,0,0);margin:0;box-sizing:border-box}.x *,.x :after,.x :before{box-sizing:inherit}.x-el a[href^=\"mailto:\"]:not(.x-el),.x-el a[href^=\"tel:\"]:not(.x-el){color:inherit;font-size:inherit;text-decoration:inherit}.x-el-article,.x-el-aside,.x-el-details,.x-el-figcaption,.x-el-figure,.x-el-footer,.x-el-header,.x-el-hgroup,.x-el-main,.x-el-menu,.x-el-nav,.x-el-section,.x-el-summary{display:block}.x-el-audio,.x-el-canvas,.x-el-progress,.x-el-video{display:inline-block;vertical-align:baseline}.x-el-audio:not([controls]){display:none;height:0}.x-el-template{display:none}.x-el-a{background-color:transparent;color:inherit}.x-el-a:active,.x-el-a:hover{outline:0}.x-el-abbr[title]{border-bottom:1px dotted}.x-el-b,.x-el-strong{font-weight:700}.x-el-dfn{font-style:italic}.x-el-mark{background:#ff0;color:#000}.x-el-small{font-size:80%}.x-el-sub,.x-el-sup{font-size:75%;line-height:0;position:relative;vertical-align:baseline}.x-el-sup{top:-.5em}.x-el-sub{bottom:-.25em}.x-el-img{vertical-align:middle;border:0}.x-el-svg:not(:root){overflow:hidden}.x-el-figure{margin:0}.x-el-hr{box-sizing:content-box;height:0}.x-el-pre{overflow:auto}.x-el-code,.x-el-kbd,.x-el-pre,.x-el-samp{font-family:monospace,monospace;font-size:1em}.x-el-button,.x-el-input,.x-el-optgroup,.x-el-select,.x-el-textarea{color:inherit;font:inherit;margin:0}.x-el-button{overflow:visible}.x-el-button,.x-el-select{text-transform:none}.x-el-button,.x-el-input[type=button],.x-el-input[type=reset],.x-el-input[type=submit]{-webkit-appearance:button;cursor:pointer}.x-el-button[disabled],.x-el-input[disabled]{cursor:default}.x-el-button::-moz-focus-inner,.x-el-input::-moz-focus-inner{border:0;padding:0}.x-el-input{line-height:normal}.x-el-input[type=checkbox],.x-el-input[type=radio]{box-sizing:border-box;padding:0}.x-el-input[type=number]::-webkit-inner-spin-button,.x-el-input[type=number]::-webkit-outer-spin-button{height:auto}.x-el-input[type=search]{-webkit-appearance:textfield;box-sizing:content-box}.x-el-input[type=search]::-webkit-search-cancel-button,.x-el-input[type=search]::-webkit-search-decoration{-webkit-appearance:none}.x-el-textarea{border:0}.x-el-fieldset{border:1px solid silver;margin:0 2px;padding:.35em .625em .75em}.x-el-legend{border:0;padding:0}.x-el-textarea{overflow:auto}.x-el-optgroup{font-weight:700}.x-el-table{border-collapse:collapse;border-spacing:0}.x-el-td,.x-el-th{padding:0}.x{-webkit-font-smoothing:antialiased}.x-el-hr{border:0}.x-el-fieldset,.x-el-input,.x-el-select,.x-el-textarea{margin-top:0;margin-bottom:0}.x-el-fieldset,.x-el-input[type=email],.x-el-input[type=text],.x-el-textarea{width:100%}.x-el-label{vertical-align:middle}.x-el-input{border-style:none;padding:.5em;vertical-align:middle}.x-el-select:not([multiple]){vertical-align:middle}.x-el-textarea{line-height:1.75;padding:.5em}.x-el.d-none{display:none!important}.sideline-footer{margin-top:auto}.disable-scroll{touch-action:none;overflow:hidden;position:fixed;max-width:100vw}@-webkit-keyframes loaderscale{0%{transform:scale(1);opacity:1}45%{transform:scale(.1);opacity:.7}80%{transform:scale(1);opacity:1}}@keyframes loaderscale{0%{transform:scale(1);opacity:1}45%{transform:scale(.1);opacity:.7}80%{transform:scale(1);opacity:1}}.x-loader svg{display:inline-block}.x-loader svg:first-child{-webkit-animation:loaderscale .75s cubic-bezier(.2,.68,.18,1.08) -.24s infinite;animation:loaderscale .75s cubic-bezier(.2,.68,.18,1.08) -.24s infinite}.x-loader svg:nth-child(2){-webkit-animation:loaderscale .75s cubic-bezier(.2,.68,.18,1.08) -.12s infinite;animation:loaderscale .75s cubic-bezier(.2,.68,.18,1.08) -.12s infinite}.x-loader svg:nth-child(3){-webkit-animation:loaderscale .75s cubic-bezier(.2,.68,.18,1.08) 0s infinite;animation:loaderscale .75s cubic-bezier(.2,.68,.18,1.08) 0s infinite}.x-icon>svg{transition:transform .33s ease-in-out}.x-icon>svg.rotate-90{transform:rotate(-90deg)}.x-icon>svg.rotate90{transform:rotate(90deg)}.x-icon>svg.rotate-180{transform:rotate(-180deg)}.x-icon>svg.rotate180{transform:rotate(180deg)}.x-rt ol,.x-rt ul{text-align:left}.x-rt p{margin:0}.mte-inline-block{display:inline-block}@media only screen and (min-device-width:1025px){:root select,_::-webkit-full-page-media,_:future{font-family:sans-serif!important}}\n",
            "\n",
            "</style>\n",
            "<style>/*\n",
            "Copyright (c) 2009 Dave Crossland <dave@lab6.com>\n",
            "\n",
            "This Font Software is licensed under the SIL Open Font License, Version 1.1.\n",
            "This license is copied below, and is also available with a FAQ at: http://scripts.sil.org/OFL\n",
            "\n",
            "—————————————————————————————-\n",
            "SIL OPEN FONT LICENSE Version 1.1 - 26 February 2007\n",
            "—————————————————————————————-\n",
            "*/\n",
            "\n",
            "/*\n",
            "Copyright 2014-2017 Indian Type Foundry (info@indiantypefoundry.com)\n",
            "\n",
            "This Font Software is licensed under the SIL Open Font License, Version 1.1.\n",
            "This license is copied below, and is also available with a FAQ at: http://scripts.sil.org/OFL\n",
            "\n",
            "—————————————————————————————-\n",
            "SIL OPEN FONT LICENSE Version 1.1 - 26 February 2007\n",
            "—————————————————————————————-\n",
            "*/\n",
            "\n",
            "/*\n",
            "Damion-Regular.ttf: Copyright (c) 2011 by vernon adams. All rights reserved.\n",
            "\n",
            "This Font Software is licensed under the SIL Open Font License, Version 1.1.\n",
            "This license is copied below, and is also available with a FAQ at: http://scripts.sil.org/OFL\n",
            "\n",
            "—————————————————————————————-\n",
            "SIL OPEN FONT LICENSE Version 1.1 - 26 February 2007\n",
            "—————————————————————————————-\n",
            "*/\n",
            "</style>\n",
            "<style data-glamor=\"cxs-default-sheet\">.x .c1-1{letter-spacing:normal}.x .c1-2{text-transform:none}.x .c1-3{background-color:rgb(255, 255, 255)}.x .c1-4{width:100%}.x .c1-5 > div{position:relative}.x .c1-6 > div{overflow:hidden}.x .c1-7 > div{margin-top:auto}.x .c1-8 > div{margin-right:auto}.x .c1-9 > div{margin-bottom:auto}.x .c1-a > div{margin-left:auto}.x .c1-b{font-family:'Poppins', arial, sans-serif}.x .c1-c{font-size:16px}.x .c1-h{padding-top:40px}.x .c1-i{padding-bottom:40px}.x .c1-j{padding:0 !important}.x .c1-k:before{content:\"\"}.x .c1-l:before{display:table}.x .c1-m:before{clear:both}.x .c1-n:after{content:\"\"}.x .c1-o:after{display:table}.x .c1-p:after{clear:both}.x .c1-s{position:relative}.x .c1-t{margin-bottom:24px}.x .c1-v{background-color:rgb(252, 231, 133)}.x .c1-w{padding-top:4px}.x .c1-x{padding-bottom:4px}.x .c1-y{transition:all .5s}.x .c1-z{z-index:1}.x .c1-10{margin-left:auto}.x .c1-11{margin-right:auto}.x .c1-12{padding-left:24px}.x .c1-13{padding-right:24px}.x .c1-14{max-width:100%}.x .c1-15{display:flex}.x .c1-16{align-items:center}.x .c1-17{justify-content:center}.x .c1-1c{color:rgb(5, 5, 5)}.x .c1-1d{width:40px}.x .c1-1e{max-height:33px}.x .c1-1g{padding-left:8px}.x .c1-1h{padding-right:8px}.x .c1-1i{letter-spacing:0.125em}.x .c1-1j{text-transform:uppercase}.x .c1-1k{word-wrap:break-word}.x .c1-1l{overflow-wrap:break-word}.x .c1-1m{line-height:1.5}.x .c1-1n{margin-top:0}.x .c1-1o{margin-bottom:0}.x .c1-1p{text-align:center}.x .c1-1q{padding-left:40px}.x .c1-1r{padding-right:40px}.x .c1-1s{color:rgb(22, 22, 22)}.x .c1-1t{font-weight:400}.x .c1-1x{display:none}.x .c1-1z{padding-top:32px}.x .c1-20{padding-bottom:32px}.x .c1-21{flex:1}.x .c1-22{justify-content:space-between}.x .c1-23{padding-top:24px}.x .c1-24{justify-content:flex-start}.x .c1-25{width:30%}.x .c1-26 a{text-decoration:none}.x .c1-27{vertical-align:center}.x .c1-28{color:rgb(125, 113, 59)}.x .c1-29{font-size:22px}.x .c1-2e{letter-spacing:inherit}.x .c1-2f{text-transform:inherit}.x .c1-2g{text-decoration:none}.x .c1-2h{display:inline}.x .c1-2i{cursor:pointer}.x .c1-2j{color:inherit !important}.x .c1-2k{font-size:inherit !important}.x .c1-2l{font-weight:inherit}.x .c1-2m:hover{color:rgb(72, 64, 19)}.x .c1-2n:active{color:rgb(48, 42, 10)}.x .c1-2o{width:40%}.x .c1-2p{text-transform:unset}.x .c1-2q{display:inline-block}.x .c1-2r{font-family:'Cantarell', Arial, sans-serif}.x .c1-2w{border-top:0px}.x .c1-2x{border-right:0px}.x .c1-2y{border-bottom:0px}.x .c1-2z{border-left:0px}.x .c1-30{width:auto}.x .c1-31{padding-top:0px}.x .c1-32{padding-right:0px}.x .c1-33{padding-bottom:0px}.x .c1-34{padding-left:0px}.x .c1-35{[object -object]:0px}.x .c1-37{vertical-align:middle}.x .c1-38{aspect-ratio:0.9724220623501199 / 1}.x .c1-39{object-fit:contain}.x .c1-3a{height:80px}.x .c1-3b{background-color:transparent}.x .c1-3c{transition:max-height .5s}.x .c1-3d{border-radius:0px !important}.x .c1-3v{justify-content:flex-end}.x .c1-3w{line-height:0}.x .c1-3z{color:rgb(153, 137, 50)}.x .c1-40{transition:}.x .c1-41{transform:}.x .c1-42{padding-top:6px}.x .c1-43{padding-right:6px}.x .c1-44{padding-bottom:6px}.x .c1-45{padding-left:6px}.x .c1-49{border-radius:0px}.x .c1-4a{box-shadow:0 3px 6px 3px rgba(0, 0, 0, 0.16)}.x .c1-4b{padding-top:16px}.x .c1-4c{padding-bottom:16px}.x .c1-4d{padding-left:16px}.x .c1-4e{padding-right:16px}.x .c1-4f{position:absolute}.x .c1-4g{right:0px}.x .c1-4h{top:initial}.x .c1-4i{white-space:nowrap}.x .c1-4j{max-height:none}.x .c1-4k{overflow-y:auto}.x .c1-4l{z-index:1003}.x .c1-4m{width:240px}.x .c1-4p{margin-bottom:16px}.x .c1-4q{display:block}.x .c1-4r{text-align:left}.x .c1-4s{padding-top:8px}.x .c1-4t{padding-bottom:8px}.x .c1-4u:last-child{margin-bottom:0}.x .c1-4v{color:rgb(162, 145, 53)}.x .c1-4w{color:rgb(94, 94, 94)}.x .c1-4x{border-color:rgb(226, 226, 226)}.x .c1-4y{border-bottom-width:1px}.x .c1-4z{border-style:solid}.x .c1-50{margin-top:16px}.x .c1-51 dropdown{position:absolute}.x .c1-52 dropdown{right:0px}.x .c1-53 dropdown{top:initial}.x .c1-54 dropdown{white-space:nowrap}.x .c1-55 dropdown{max-height:none}.x .c1-56 dropdown{overflow-y:auto}.x .c1-57 dropdown{display:none}.x .c1-58 dropdown{z-index:1003}.x .c1-59 dropdown{width:240px}.x .c1-5c listItem{display:block}.x .c1-5d listItem{text-align:left}.x .c1-5e listItem{margin-bottom:0}.x .c1-5f separator{margin-top:16px}.x .c1-5g separator{margin-bottom:16px}.x .c1-5h{font-weight:600}.x .c1-5i{padding-bottom:24px}.x .c1-5j{line-height:24px}.x .c1-5k{margin-left:0}.x .c1-5l{margin-right:0}.x .c1-5m{-webkit-margin-before:0}.x .c1-5n{-webkit-margin-after:0}.x .c1-5o{-webkit-padding-start:0}.x .c1-5p{color:rgb(87, 87, 87)}.x .c1-5q{margin-bottom:none}.x .c1-5r{list-style:none}.x .c1-5s{vertical-align:top}.x .c1-5t{padding-left:32px}.x .c1-5u{visibility:hidden}.x .c1-5v:first-child{margin-left:0}.x .c1-5w:first-child{padding-left:0}.x .c1-5x{letter-spacing:0.214em}.x .c1-5y{margin-bottom:-5px}.x .c1-5z{color:rgb(21, 21, 21)}.x .c1-60{font-size:14px}.x .c1-61{border-bottom:1px solid}.x .c1-62{border-color:rgb(153, 137, 50)}.x .c1-63:hover{color:rgb(125, 113, 59)}.x .c1-64:active{color:rgb(21, 21, 21)}.x .c1-69{color:inherit}.x .c1-6a{transition:transform .33s ease-in-out}.x .c1-6b{transform:rotate(0deg)}.x .c1-6c{top:32px}.x .c1-6d{max-height:45vh}.x .c1-6e:hover{color:rgb(130, 119, 65)}.x .c1-6f:active{color:rgb(130, 119, 65)}.x .c1-6g{margin-left:-6px}.x .c1-6h{margin-right:-6px}.x .c1-6i{margin-top:-6px}.x .c1-6j{margin-bottom:-6px}.x .c1-6k{margin-bottom:8px}.x .c1-6l{margin-top:8px}.x .c1-6m{color:rgb(27, 27, 27)}.x .c1-6n{border-color:rgb(162, 145, 53)}.x .c1-6o:active{color:rgb(27, 27, 27)}.x .c1-6p{cursor:default}.x .c1-6q{margin-left:24px}.x .c1-6s{width:15%}.x .c1-6t{width:70%}.x .c1-6v{background-color:rgb(253, 244, 208)}.x .c1-6w{position:fixed}.x .c1-6x{top:0px}.x .c1-6y{height:100%}.x .c1-6z{z-index:10002}.x .c1-70{padding-top:56px}.x .c1-71{-webkit-overflow-scrolling:touch}.x .c1-72{transform:translateX(-249vw)}.x .c1-73{overscroll-behavior:contain}.x .c1-74{box-shadow:0 2px 6px 0px rgba(0,0,0,0.2)}.x .c1-75{transition:transform .3s ease-in-out}.x .c1-76{overflow:hidden}.x .c1-77{flex-direction:column}.x .c1-78{text-shadow:none}.x .c1-79{color:black}.x .c1-7a{line-height:1.3em}.x .c1-7b{font-style:normal}.x .c1-7c{top:15px}.x .c1-7d{right:15px}.x .c1-7e{font-size:28px}.x .c1-7j{padding-right:32px}.x .c1-7k{overflow-x:hidden}.x .c1-7l{overscroll-behavior:none}.x .c1-7m{margin-bottom:32px}.x .c1-7n > :not(:first-child){margin-top:16px}.x .c1-7o{border-color:rgba(185, 185, 185, 0.5)}.x .c1-7p{border-bottom-width:0px}.x .c1-7q{border-bottom-style:solid}.x .c1-7r:last-child{border-bottom:0}.x .c1-7s{letter-spacing:0.136em}.x .c1-7t{min-width:200px}.x .c1-7v{margin-left:8px}.x .c1-7w{flex-shrink:0}.x .c1-7x{pointer-events:none}.x .c1-84:last-child{padding-bottom:24px}.x .c1-85{cursor:auto}.x .c1-8a{height:auto}.x .c1-8b{padding-bottom:56.25%}.x .c1-8c{bottom:0}.x .c1-8d{left:0}.x .c1-8e{z-index:unset}.x .c1-8f{aspect-ratio:auto}.x .c1-8h{flex-grow:1}.x .c1-8i{padding-bottom:56px}.x .c1-8j{background-color:rgb(241, 217, 83)}.x .c1-8u{max-width:750px}.x .c1-8v{width:inherit}.x .c1-8w{line-height:1.2}.x .c1-8x{line-height:1.25}.x .c1-8y{white-space:pre-line}.x .c1-8z{color:rgb(0, 0, 0)}.x .c1-90{word-wrap:normal !important}.x .c1-91{overflow-wrap:normal !important}.x .c1-92{overflow:visible}.x .c1-93{font-size:32px}.x .c1-98{flex-wrap:wrap}.x .c1-99{column-gap:24px}.x .c1-9a{row-gap:24px}.x .c1-9c{transition:all 0.3s}.x .c1-9d{border-style:none}.x .c1-9e{display:inline-flex}.x .c1-9f{min-height:56px}.x .c1-9g{color:rgb(219, 219, 219)}.x .c1-9h{background-color:rgb(22, 22, 22)}.x .c1-9i:hover{background-color:rgb(0, 0, 0)}.x .c1-9j:hover:after{box-shadow:1px 1px 0 rgba(0, 0, 0, 0.2)}.x .c1-9k:hover:after{background-position:100% 0}.x .c1-9l:after{background-color:transparent}.x .c1-9m:after{position:absolute}.x .c1-9n:after{top:0px}.x .c1-9o:after{bottom:0px}.x .c1-9p:after{right:0px}.x .c1-9q:after{left:0px}.x .c1-9r:after{width:100%}.x .c1-9s:after{height:100%}.x .c1-9t:after{transition:all .3s ease}.x .c1-9u:after{z-index:-1}.x .c1-9v:after{box-shadow:5px 5px 0 rgba(0, 0, 0, 0.2)}.x .c1-9w:after{border-radius:inherit}.x .c1-9x:after{opacity:1}.x .c1-9y:after{margin-top:auto}.x .c1-9z:after{margin-right:auto}.x .c1-a0:after{margin-bottom:auto}.x .c1-a1:after{margin-left:auto}.x .c1-a3{box-sizing:border-box}.x .c1-a4{flex-direction:row}.x .c1-a5{margin-right:-12px}.x .c1-a6{margin-left:-12px}.x .c1-ab{flex-shrink:1}.x .c1-ac{flex-basis:100%}.x .c1-ad{padding-right:12px}.x .c1-ae{padding-left:12px}.x .c1-an{aspect-ratio:1.3333333333333333 / 1}.x .c1-as > *{max-width:100%}.x .c1-at{align-items:flex-start}.x .c1-au > :nth-child(n){margin-bottom:24px}.x .c1-av  > :last-child{margin-bottom:0 !important}.x .c1-ay > p > ol{text-align:left}.x .c1-az > p > ol{display:block}.x .c1-b0 > p > ol{padding-left:1.3em}.x .c1-b1 > p > ol{margin-left:16px}.x .c1-b2 > p > ol{margin-right:16px}.x .c1-b3 > p > ol{margin-top:auto}.x .c1-b4 > p > ol{margin-bottom:auto}.x .c1-b5 > p > ul{text-align:left}.x .c1-b6 > p > ul{display:block}.x .c1-b7 > p > ul{padding-left:1.3em}.x .c1-b8 > p > ul{margin-left:16px}.x .c1-b9 > p > ul{margin-right:16px}.x .c1-ba > p > ul{margin-top:auto}.x .c1-bb > p > ul{margin-bottom:auto}.x .c1-bc > ul{text-align:left}.x .c1-bd > ul{display:block}.x .c1-be > ul{padding-left:1.3em}.x .c1-bf > ul{margin-left:16px}.x .c1-bg > ul{margin-right:16px}.x .c1-bh > ul{margin-top:auto}.x .c1-bi > ul{margin-bottom:auto}.x .c1-bj > ol{text-align:left}.x .c1-bk > ol{display:block}.x .c1-bl > ol{padding-left:1.3em}.x .c1-bm > ol{margin-left:16px}.x .c1-bn > ol{margin-right:16px}.x .c1-bo > ol{margin-top:auto}.x .c1-bp > ol{margin-bottom:auto}.x .c1-bq{color:rgb(78, 74, 61)}.x .c1-br{font-size:20px}.x .c1-bz{line-height:inherit}.x .c1-c0{font-style:italic}.x .c1-c1{text-decoration:line-through}.x .c1-c2{text-decoration:underline}.x .c1-c4{font-size:unset}.x .c1-c5{font-family:unset}.x .c1-c6{letter-spacing:unset}.x .c1-c7{flex-basis:0%}.x .c1-ca{margin-bottom:-24px}.x .c1-cd{color:white}.x .c1-ce{height:70px}.x .c1-cf{width:50px}.x .c1-cg{background:rgba(0, 0, 0, 0.5)}.x .c1-ch{outline:none}.x .c1-ci{right:0px}.x .c1-cj{opacity:0}.x .c1-ck{transition:opacity 0.5s}.x .c1-cl:hover{opacity:1}.x .c1-cm{color:rgb(255, 255, 255)}.x .c1-cn{transform:translateY(-50%)}.x .c1-co{background-color:rgba(22, 22, 22, 0.5)}.x .c1-cp{margin-top:300px}.x .c1-cq:hover{background-color:rgba(22, 22, 22, 0.5)}.x .c1-cr:active{background-color:rgba(22, 22, 22, 0.5)}.x .c1-cw > :nth-child(n){margin-bottom:0px}.x .c1-d0{margin-bottom:30px !important}.x .c1-d2{min-height:1px}.x .c1-d3{aspect-ratio:0.75 / 1}.x .c1-d5{border-width:0 !important}.x .c1-d6{aspect-ratio:1 / 1}.x .c1-d7{border-radius:50%}.x .c1-d9{color:rgb(130, 119, 65)}.x .c1-da:hover{color:rgb(80, 71, 22)}.x .c1-db:active{color:rgb(55, 48, 12)}.x .c1-dc{color:rgb(247, 247, 247)}.x .c1-dd{padding-left:none}.x .c1-de{padding-right:none}.x .c1-df{row-gap:0px}.x .c1-dg{column-gap:0px}.x .c1-dh [data-typography]{color:inherit}.x .c1-di{color:rgb(252, 231, 133)}.x .c1-dj:hover{color:rgb(195, 175, 66)}.x .c1-dk:active{color:rgb(252, 231, 133)}.x .c1-dl{margin-right:8px}.x .c1-dw{border-color: #999}.x .c1-dx{flex-grow:3}.x .c1-e0{letter-spacing:0.083em}.x .c1-e1{color:rgb(73, 70, 58)}.x .c1-e2{font-size:12px}.x .c1-e8:hover{color:rgb(64, 64, 64)}.x .c1-e9:active{color:rgb(22, 22, 22)}.x .c1-ea{z-index:10000}.x .c1-eb{transition:all 1s ease-in}.x .c1-ec{box-shadow:0 2px 6px 0px rgba(0,0,0,0.3)}.x .c1-ed{contain:content}.x .c1-ee{bottom:-500px}.x .c1-em{letter-spacing:0.045em}.x .c1-en{max-height:300px}.x .c1-ep{margin-top:24px}.x .c1-eq{margin-bottom:4px}.x .c1-er{word-break:break-word}.x .c1-es{flex-basis:50%}.x .c1-et{min-height:40px}.x .c1-eu:nth-child(2){margin-left:24px}</style>\n",
            "<style data-glamor=\"cxs-xs-sheet\">@media (max-width: 767px){.x .c1-q{padding-top:32px}}@media (max-width: 767px){.x .c1-r{padding-bottom:32px}}@media (max-width: 767px){.x .c1-1u{padding-left:0}}@media (max-width: 767px){.x .c1-1v{padding-right:0}}@media (max-width: 767px){.x .c1-2s{width:100%}}@media (max-width: 767px){.x .c1-2t{display:flex}}@media (max-width: 767px){.x .c1-2u{justify-content:center}}@media (max-width: 767px){.x .c1-3e{height:125px}}@media (max-width: 767px){.x .c1-3f{max-width:224px}}@media (max-width: 767px){.x .c1-3g{display:block}}@media (max-width: 767px){.x .c1-3h{max-height:110px}}@media (max-width: 767px){.x .c1-3i{margin-top:0}}@media (max-width: 767px){.x .c1-3j{margin-right:auto}}@media (max-width: 767px){.x .c1-3k{margin-bottom:0}}@media (max-width: 767px){.x .c1-3l{margin-left:auto}}@media (max-width: 767px){.x .c1-7y{top:unset}}@media (max-width: 767px){.x .c1-7z{transform:unset}}@media (max-width: 767px){.x .c1-80{left:8px}}@media (max-width: 767px){.x .c1-8g{display:none}}@media (max-width: 767px){.x .c1-9b{flex-direction:column}}@media (max-width: 767px){.x .c1-ao{height:calc((100vw - 48px)/1.3333333333333333)}}@media (max-width: 767px){.x .c1-aw > :nth-child(n){margin-bottom:24px}}@media (max-width: 767px){.x .c1-ax  > :last-child{margin-bottom:0 !important}}@media (max-width: 767px){.x .c1-bs > p > ul{margin-left:0px}}@media (max-width: 767px){.x .c1-bt > p > ul{margin-right:0px}}@media (max-width: 767px){.x .c1-bu > p > ul{padding-left:24px}}@media (max-width: 767px){.x .c1-d4{height:calc((100vw - 48px)/0.75)}}@media (max-width: 767px){.x .c1-d8{height:calc((100vw - 48px)/1)}}</style>\n",
            "<style data-glamor=\"cxs-sm-sheet\">@media (min-width: 768px){.x .c1-d{font-size:16px}}@media (min-width: 768px){.x .c1-u{margin-bottom:40px}}@media (min-width: 768px){.x .c1-18{width:100%}}@media (min-width: 768px){.x .c1-2a{font-size:22px}}@media (min-width: 768px) and (max-width: 1023px){.x .c1-2v{width:100%}}@media (min-width: 768px) and (max-width: 1023px){.x .c1-3m{display:block}}@media (min-width: 768px) and (max-width: 1023px){.x .c1-3n{max-height:80px}}@media (min-width: 768px) and (max-width: 1023px){.x .c1-3o{margin-top:0}}@media (min-width: 768px) and (max-width: 1023px){.x .c1-3p{margin-right:auto}}@media (min-width: 768px) and (max-width: 1023px){.x .c1-3q{margin-bottom:0}}@media (min-width: 768px) and (max-width: 1023px){.x .c1-3r{margin-left:auto}}@media (min-width: 768px) and (max-width: 1023px){.x .c1-4o{right:0px}}@media (min-width: 768px) and (max-width: 1023px){.x .c1-5b dropdown{right:0px}}@media (min-width: 768px){.x .c1-65{font-size:14px}}@media (min-width: 768px){.x .c1-7f{font-size:30px}}@media (min-width: 768px) and (max-width: 1023px){.x .c1-81{top:unset}}@media (min-width: 768px) and (max-width: 1023px){.x .c1-82{transform:unset}}@media (min-width: 768px) and (max-width: 1023px){.x .c1-83{left:8px}}@media (min-width: 768px){.x .c1-86{display:flex}}@media (min-width: 768px){.x .c1-87{flex-direction:row}}@media (min-width: 768px){.x .c1-88{min-height:unset}}@media (min-width: 768px){.x .c1-89{min-width:50%}}@media (min-width: 768px){.x .c1-8k{min-width:360px}}@media (min-width: 768px){.x .c1-8l{flex-basis:360px}}@media (min-width: 768px){.x .c1-8m{padding-top:40px}}@media (min-width: 768px){.x .c1-8n{padding-right:40px}}@media (min-width: 768px){.x .c1-8o{padding-bottom:40px}}@media (min-width: 768px){.x .c1-8p{padding-left:40px}}@media (min-width: 768px){.x .c1-8t{max-height:80vh}}@media (min-width: 768px){.x .c1-94{font-size:38px}}@media (min-width: 768px){.x .c1-a2{width:auto}}@media (min-width: 768px){.x .c1-a7{margin-top:0}}@media (min-width: 768px){.x .c1-a8{margin-right:-24px}}@media (min-width: 768px){.x .c1-a9{margin-bottom:0}}@media (min-width: 768px){.x .c1-aa{margin-left:-24px}}@media (min-width: 768px){.x .c1-af{flex-basis:83.33333333333334%}}@media (min-width: 768px){.x .c1-ag{max-width:83.33333333333334%}}@media (min-width: 768px){.x .c1-ah{padding-top:0}}@media (min-width: 768px){.x .c1-ai{padding-right:24px}}@media (min-width: 768px){.x .c1-aj{padding-bottom:0}}@media (min-width: 768px){.x .c1-ak{padding-left:24px}}@media (min-width: 768px){.x .c1-bv{font-size:20px}}@media (min-width: 768px){.x .c1-c3{margin-bottom:32px}}@media (min-width: 768px){.x .c1-cb{margin-bottom:-48px}}@media (min-width: 768px){.x .c1-cc{padding-bottom:48px}}@media (min-width: 768px){.x .c1-cu{flex-basis:50%}}@media (min-width: 768px){.x .c1-cv{max-width:50%}}@media (min-width: 768px){.x .c1-cx{position:absolute}}@media (min-width: 768px) and (max-width: 1023px){.x .c1-cz{position:relative}}@media (min-width: 768px){.x .c1-d1{object-fit:cover}}@media (min-width: 768px){.x .c1-dm{margin-left:16px}}@media (min-width: 768px){.x .c1-dn{margin-right:16px}}@media (min-width: 768px){.x .c1-e3{font-size:12px}}@media (min-width: 768px){.x .c1-ef{width:400px}}@media (min-width: 768px){.x .c1-eg{max-height:500px}}@media (min-width: 768px){.x .c1-eh{border-radius:7px}}@media (min-width: 768px){.x .c1-ei{margin-top:24px}}@media (min-width: 768px){.x .c1-ej{margin-right:24px}}@media (min-width: 768px){.x .c1-ek{margin-bottom:24px}}@media (min-width: 768px){.x .c1-el{margin-left:24px}}@media (min-width: 768px){.x .c1-eo{max-height:200px}}</style>\n",
            "<style data-glamor=\"cxs-md-sheet\">@media (min-width: 1024px){.x .c1-e{font-size:16px}}@media (min-width: 1024px){.x .c1-19{width:984px}}@media (min-width: 1024px){.x .c1-1f{padding-right:4px}}@media (min-width: 1024px){.x .c1-1w{padding-left:4px}}@media (min-width: 1024px){.x .c1-1y{display:block}}@media (min-width: 1024px){.x .c1-2b{font-size:22px}}@media (min-width: 1024px){.x .c1-36{display:inline-block}}@media (min-width: 1024px){.x .c1-3s{height:125px}}@media (min-width: 1024px){.x .c1-3t{width:auto}}@media (min-width: 1024px){.x .c1-3u{max-height:125px}}@media (min-width: 1024px){.x .c1-3x > :first-child{margin-left:24px}}@media (min-width: 1024px){.x .c1-3y{justify-content:inherit}}@media (min-width: 1024px){.x .c1-46{display:initial}}@media (min-width: 1024px){.x .c1-47{color:rgb(153, 137, 50)}}@media (min-width: 1024px){.x .c1-48:hover{color:rgb(21, 21, 21)}}@media (min-width: 1024px) and (max-width: 1279px){.x .c1-4n{right:0px}}@media (min-width: 1024px) and (max-width: 1279px){.x .c1-5a dropdown{right:0px}}@media (min-width: 1024px){.x .c1-66{font-size:14px}}@media (min-width: 1024px){.x .c1-6r{display:none}}@media (min-width: 1024px){.x .c1-6u > :first-child{margin-left:0px}}@media (min-width: 1024px){.x .c1-7g{font-size:30px}}@media (min-width: 1024px){.x .c1-7u{min-width:300px}}@media (min-width: 1024px){.x .c1-8q{max-width:100%}}@media (min-width: 1024px){.x .c1-8r{min-width:388px}}@media (min-width: 1024px){.x .c1-8s{flex-basis:388px}}@media (min-width: 1024px){.x .c1-95{font-size:38px}}@media (min-width: 1024px){.x .c1-al{flex-basis:33.33333333333333%}}@media (min-width: 1024px){.x .c1-am{max-width:33.33333333333333%}}@media (min-width: 1024px){.x .c1-ap{margin-bottom:0}}@media (min-width: 1024px){.x .c1-aq{flex-basis:66.66666666666666%}}@media (min-width: 1024px){.x .c1-ar{max-width:66.66666666666666%}}@media (min-width: 1024px){.x .c1-bw{font-size:20px}}@media (min-width: 1024px){.x .c1-c8{flex-basis:125%}}@media (min-width: 1024px){.x .c1-c9{max-width:125%}}@media (min-width: 1024px){.x .c1-cs{padding-top:8px}}@media (min-width: 1024px){.x .c1-ct{padding-bottom:8px}}@media (min-width: 1024px){.x .c1-cy{position:relative}}@media (min-width: 1024px){.x .c1-do{width:48px}}@media (min-width: 1024px){.x .c1-dp{height:48px}}@media (min-width: 1024px){.x .c1-dq{margin-left:24px}}@media (min-width: 1024px){.x .c1-dr{margin-right:24px}}@media (min-width: 1024px){.x .c1-ds{padding-top:0px}}@media (min-width: 1024px){.x .c1-dt{padding-right:0px}}@media (min-width: 1024px){.x .c1-du{padding-bottom:0px}}@media (min-width: 1024px){.x .c1-dv{padding-left:0px}}@media (min-width: 1024px){.x .c1-dy{flex-basis:0%}}@media (min-width: 1024px){.x .c1-dz{max-width:none}}@media (min-width: 1024px){.x .c1-e4{text-align:center}}@media (min-width: 1024px){.x .c1-e5{font-size:12px}}</style>\n",
            "<style data-glamor=\"cxs-lg-sheet\">@media (min-width: 1280px){.x .c1-f{font-size:16px}}@media (min-width: 1280px){.x .c1-1a{width:1160px}}@media (min-width: 1280px){.x .c1-2c{font-size:22px}}@media (min-width: 1280px){.x .c1-67{font-size:14px}}@media (min-width: 1280px){.x .c1-7h{font-size:32px}}@media (min-width: 1280px){.x .c1-96{font-size:44px}}@media (min-width: 1280px){.x .c1-bx{font-size:20px}}@media (min-width: 1280px){.x .c1-e6{font-size:12px}}</style>\n",
            "<style data-glamor=\"cxs-xl-sheet\">@media (min-width: 1536px){.x .c1-g{font-size:18px}}@media (min-width: 1536px){.x .c1-1b{width:1280px}}@media (min-width: 1536px){.x .c1-2d{font-size:24px}}@media (min-width: 1536px){.x .c1-68{font-size:16px}}@media (min-width: 1536px){.x .c1-7i{font-size:36px}}@media (min-width: 1536px){.x .c1-97{font-size:48px}}@media (min-width: 1536px){.x .c1-by{font-size:23px}}@media (min-width: 1536px){.x .c1-e7{font-size:14px}}</style>\n",
            "<style>@keyframes opacity-bounce { \n",
            "      0% {opacity: 0;transform: translateY(100%); } \n",
            "      60% { transform: translateY(-20%); } \n",
            "      100% { opacity: 1; transform: translateY(0); }\n",
            "    }</style>\n",
            "<style>.gd-ad-flex-parent {\n",
            "          animation-name: opacity-bounce; \n",
            "          animation-duration: 800ms; \n",
            "          animation-delay: 400ms; \n",
            "          animation-fill-mode: forwards; \n",
            "          animation-timing-function: ease; \n",
            "          opacity: 0;</style>\n",
            "<style>@keyframes sway-left { 0%, 100% { transform: rotate(0deg); } 50% { transform: rotate(-8deg); }}</style>\n",
            "<style>@keyframes sway-right { 0%, 100% { transform: rotate(0deg); } 50% { transform: rotate(8deg); }}</style>\n",
            "<style id=\"carousel-stylesheet\">.carousel {\n",
            "  text-align: center;\n",
            "  position: relative;\n",
            "  opacity: 0;\n",
            "  margin: 0 auto;\n",
            "  transition: opacity 0.5s;\n",
            "}\n",
            ".carousel .carousel-container-inner {\n",
            "  margin: 0 auto;\n",
            "  position: relative;\n",
            "}\n",
            ".carousel .carousel-viewport {\n",
            "  overflow: hidden;\n",
            "  white-space: nowrap;\n",
            "  text-align: left;\n",
            "}\n",
            ".carousel .carousel-arrow-default {\n",
            "  border: 3px solid !important;\n",
            "  border-radius: 50%;\n",
            "  color: rgba(255, 255, 255, 0.9);\n",
            "  height: 32px;\n",
            "  width: 32px;\n",
            "  font-weight: 900;\n",
            "  background: rgba(0, 0, 0, 0.15);\n",
            "}\n",
            ".carousel .carousel-arrow {\n",
            "  position: absolute;\n",
            "  z-index: 1;\n",
            "  bottom: 23px;\n",
            "  padding: 0;\n",
            "  cursor: pointer;\n",
            "  border: none;\n",
            "}\n",
            ".carousel .carousel-arrow:focus {\n",
            "  outline: none;\n",
            "}\n",
            ".carousel .carousel-arrow:before {\n",
            "  font-size: 19px;\n",
            "  display: block;\n",
            "  margin-top: -2px;\n",
            "}\n",
            ".carousel .carousel-arrow:disabled {\n",
            "  cursor: not-allowed;\n",
            "  opacity: 0.5;\n",
            "}\n",
            ".carousel .carousel-left-arrow {\n",
            "  left: 23px;\n",
            "}\n",
            ".carousel .carousel-right-arrow {\n",
            "  right: 23px;\n",
            "}\n",
            ".carousel .carousel-left-arrow.carousel-arrow-default:before {\n",
            "  content: '<';\n",
            "  padding-right: 2px;\n",
            "}\n",
            ".carousel .carousel-right-arrow.carousel-arrow-default:before {\n",
            "  content: '>';\n",
            "  padding-left: 2px;\n",
            "}\n",
            ".carousel .carousel-track {\n",
            "  list-style: none;\n",
            "  padding: 0;\n",
            "  margin: 0;\n",
            "  touch-action: pan-y pinch-zoom;\n",
            "}\n",
            ".carousel .carousel-track .carousel-slide {\n",
            "  display: inline-block;\n",
            "  opacity: 0.7;\n",
            "  transition: opacity 0.5s ease-in-out;\n",
            "}\n",
            ".carousel .carousel-track .carousel-slide > * {\n",
            "  display: block;\n",
            "  white-space: normal;\n",
            "}\n",
            ".carousel .carousel-track .carousel-slide.carousel-slide-loading {\n",
            "  background: rgba(204, 204, 204, 0.7);\n",
            "}\n",
            ".carousel .carousel-track .carousel-slide.carousel-slide-fade {\n",
            "  position: absolute;\n",
            "  left: 50%;\n",
            "  transform: translateX(-50%);\n",
            "  opacity: 0;\n",
            "}\n",
            ".carousel .carousel-track .carousel-slide.carousel-slide-selected {\n",
            "  opacity: 1;\n",
            "  z-index: 1;\n",
            "}\n",
            ".carousel.loaded {\n",
            "  opacity: 1;\n",
            "}\n",
            ".carousel .carousel-dots {\n",
            "  list-style: none;\n",
            "  padding: 0;\n",
            "  margin: 0;\n",
            "  position: absolute;\n",
            "  left: 0;\n",
            "  right: 0;\n",
            "  bottom: -30px;\n",
            "  text-align: center;\n",
            "}\n",
            ".carousel .carousel-dots li {\n",
            "  display: inline-block;\n",
            "}\n",
            ".carousel .carousel-dots button {\n",
            "  border: 0;\n",
            "  background: transparent;\n",
            "  font-size: 1.1em;\n",
            "  cursor: pointer;\n",
            "  color: #CCC;\n",
            "  padding-left: 6px;\n",
            "  padding-right: 6px;\n",
            "}\n",
            ".carousel .carousel-dots button.selected {\n",
            "  color: black;\n",
            "}\n",
            ".carousel .carousel-dots button:focus {\n",
            "  outline: none;\n",
            "}\n",
            "[dir=\"rtl\"] .carousel .carousel-viewport {\n",
            "  text-align: right;\n",
            "}\n",
            "[dir=\"rtl\"] .carousel .carousel-left-arrow {\n",
            "  left: unset;\n",
            "  right: 23px;\n",
            "}\n",
            "[dir=\"rtl\"] .carousel .carousel-right-arrow {\n",
            "  right: unset;\n",
            "  left: 23px;\n",
            "}\n",
            "[dir=\"rtl\"] .carousel .carousel-left-arrow.carousel-arrow-default:before {\n",
            "  padding-left: 2px;\n",
            "  padding-right: unset;\n",
            "}\n",
            "[dir=\"rtl\"] .carousel .carousel-right-arrow.carousel-arrow-default:before {\n",
            "  padding-right: 2px;\n",
            "  padding-left: unset;\n",
            "}</style>\n",
            "<style>.page-inner { background-color: rgb(252, 231, 133); min-height: 100vh; }</style>\n",
            "<script>\"use strict\";\n",
            "\n",
            "if ('serviceWorker' in navigator) {\n",
            "  window.addEventListener('load', function () {\n",
            "    navigator.serviceWorker.register('/sw.js');\n",
            "  });\n",
            "}</script></head>\n",
            "<body class=\"x  x-fonts-cantarell x-fonts-poppins x-fonts-damion\"><div id=\"layout-3373-a-061-5-c-71-4743-91-b-3-d-0-f-1-ecdee-87-a\" class=\"layout layout-layout layout-layout-layout-27 locale-en-CA lang-en\"><div data-ux=\"Page\" id=\"page-49641\" class=\"x-el x-el-div x-el c1-1 c1-2 c1-3 c1-4 c1-5 c1-6 c1-7 c1-8 c1-9 c1-a c1-b c1-c c1-d c1-e c1-f c1-g c1-1 c1-2 c1-b c1-c c1-d c1-e c1-f c1-g\"><div data-ux=\"Block\" class=\"x-el x-el-div page-inner c1-1 c1-2 c1-b c1-c c1-d c1-e c1-f c1-g\"><div id=\"f25ddda9-513e-44fd-9cb3-d86ca54d2ae5\" class=\"widget widget-header widget-header-header-9\"><div data-ux=\"Header\" role=\"main\" data-aid=\"HEADER_WIDGET\" id=\"n-49642\" class=\"x-el x-el-div x-el x-el c1-1 c1-2 c1-b c1-c c1-d c1-e c1-f c1-g c1-1 c1-2 c1-3 c1-b c1-c c1-d c1-e c1-f c1-g c1-1 c1-2 c1-b c1-c c1-d c1-e c1-f c1-g\"><div> <div id=\"freemium-ad-49643\"></div><section data-ux=\"Section\" data-aid=\"HEADER_SECTION\" class=\"x-el x-el-section c1-1 c1-2 c1-3 c1-h c1-i c1-j c1-b c1-c c1-k c1-l c1-m c1-n c1-o c1-p c1-q c1-r c1-d c1-e c1-f c1-g\"><div data-ux=\"Block\" class=\"x-el x-el-div c1-1 c1-2 c1-s c1-t c1-b c1-c c1-u c1-d c1-e c1-f c1-g\"><div role=\"banner\" data-ux=\"PromoBannerSeasonal\" data-aid=\"BANNER_RENDERED\" categoryOverride=\"accent\" class=\"x-el x-el-div c1-1 c1-2 c1-v c1-w c1-x c1-y c1-s c1-z c1-b c1-c c1-d c1-e c1-f c1-g\"><div data-ux=\"PromoBannerContainer\" class=\"x-el x-el-div c1-1 c1-2 c1-10 c1-11 c1-12 c1-13 c1-14 c1-15 c1-16 c1-17 c1-b c1-c c1-18 c1-d c1-19 c1-e c1-1a c1-f c1-1b c1-g\"><svg data-ux=\"SVG\" viewBox=\"0 0 34.26 27.83\" dataAids=\"SEASONAL_SUMMER_LEFT_ICON_RENDERED\" class=\"x-el x-el-svg c1-1 c1-2 c1-1c c1-1d c1-1e c1-w c1-x c1-b c1-c c1-d c1-1f c1-e c1-f c1-g\"><g stroke=\"currentColor\" fill=\"none\" stroke-width=\"1px\"><path d=\"M15,13.89s5-12.13,18.31-8L27.9,9.24a.56.56,0,0,1-.68-.09,2.49,2.49,0,0,0-1.72-.86l.68,1.52a.71.71,0,0,1-.24.87l-3,2.12a.22.22,0,0,1-.32-.08c-.18-.38-.58-1.06-1.21-1.06,0,0,.76,1.92.38,2.23C21.73,13.89,18,16.45,15,13.89Z\" style=\"transform-origin:50% 50%;transform:rotate(5deg);animation:sway-right 3s infinite\"></path><g style=\"transform-origin:50% 30%;transform:rotate(0deg);animation:sway-left 3s infinite;animation-delay:1.5s\"><path d=\"M15.09,14.37S14.75,1.26.81.42l3.92,5a.56.56,0,0,0,.67.16,2.49,2.49,0,0,1,1.91-.2L6.14,6.6a.71.71,0,0,0-.08.9l1.83,2.68\"></path><path d=\"M8.95,10.23A1.18,1.18,0,0,1,10,10s-.3.33-.6.73\"></path></g><path d=\"M15,13.25S8.9,7,1.72,13l4.21.66a.37.37,0,0,0,.4-.23,1.66,1.66,0,0,1,.84-1l0,1.11a.47.47,0,0,0,.37.48l2.42.54a.15.15,0,0,0,.18-.13c0-.28.09-.8.48-1,0,0,0,1.38.33,1.47C10.92,14.95,13.89,15.58,15,13.25Z\" style=\"transform-origin:50% 30%;transform:rotate(0deg);animation:sway-left 3s infinite;animation-delay:1.7s\"></path><path d=\"M9.55,10.56\"></path><path d=\"M11.51,26.92A13.24,13.24,0,0,1,15,13.83s-2.4,10.3-.34,13.32a.19.19,0,0,1-.15.31H12.23A.74.74,0,0,1,11.51,26.92Z\"></path><path d=\"M11.15,21.47s.89-1.07,1.61-.83\"></path></g></svg><div data-ux=\"Block\" class=\"x-el x-el-div c1-1 c1-2 c1-1g c1-1h c1-b c1-c c1-d c1-e c1-f c1-g\"><p data-ux=\"PromoBannerText\" data-aid=\"BANNER_TEXT_RENDERED\" data-typography=\"HeadingBeta\" class=\"x-el x-el-p c1-1i c1-1j c1-1k c1-1l c1-1m c1-1n c1-1o c1-1p c1-1q c1-1r c1-b c1-c c1-1s c1-1t c1-1u c1-1v c1-d c1-e c1-f c1-g\">Willow Bend Learning Center</p></div><svg data-ux=\"SVG\" viewBox=\"0 0 34.26 27.83\" dataAids=\"SEASONAL_SUMMER_RIGHT_ICON_RENDERED\" class=\"x-el x-el-svg c1-1 c1-2 c1-1c c1-1d c1-1e c1-w c1-x c1-b c1-c c1-d c1-1w c1-e c1-f c1-g\"><g stroke=\"currentColor\" fill=\"none\" stroke-width=\"1px\"><path d=\"M19.21,13.89s-5-12.13-18.31-8l5.46,3.3A.56.56,0,0,0,7,9.15a2.49,2.49,0,0,1,1.72-.86L8.08,9.81a.71.71,0,0,0,.24.87l3,2.12a.22.22,0,0,0,.32-.08c.18-.38.58-1.06,1.21-1.06,0,0-.76,1.92-.38,2.23C12.53,13.89,16.28,16.45,19.21,13.89Z\" style=\"transform-origin:50% 50%;transform:rotate(5deg);animation:sway-left 3s infinite\"></path><path d=\"M19.17,14.37S19.51,1.26,33.46.42l-3.92,5a.56.56,0,0,1-.67.16,2.49,2.49,0,0,0-1.91-.2L28.12,6.6a.71.71,0,0,1,.08.9l-1.83,2.68\" style=\"transform-origin:50% 50%;transform:rotate(0deg);animation:sway-right 3s infinite;animation-delay:1.5s\"></path><path d=\"M19.21,13.25S25.37,7,32.54,13l-4.21.66a.37.37,0,0,1-.4-.23,1.66,1.66,0,0,0-.84-1l0,1.11a.47.47,0,0,1-.37.48l-2.42.54a.15.15,0,0,1-.18-.13c0-.28-.09-.8-.48-1,0,0,0,1.38-.33,1.47C23.34,14.95,20.38,15.58,19.21,13.25Z\" style=\"transform-origin:50% 30%;transform:rotate(0deg);animation:sway-right 3s infinite;animation-delay:1.7s\"></path><path d=\"M22.75,26.92a13.24,13.24,0,0,0-3.54-13.1s2.4,10.3.34,13.32a.19.19,0,0,0,.15.31H22A.74.74,0,0,0,22.75,26.92Z\"></path><path d=\"M23.11,21.47s-.89-1.07-1.61-.83\"></path></g></svg></div></div><div data-ux=\"Block\" class=\"x-el x-el-div c1-1 c1-2 c1-b c1-c c1-d c1-e c1-f c1-g\"><div data-ux=\"Container\" class=\"x-el x-el-div c1-1 c1-2 c1-10 c1-11 c1-12 c1-13 c1-14 c1-s c1-b c1-c c1-18 c1-d c1-19 c1-e c1-1a c1-f c1-1b c1-g\"><div data-ux=\"Block\" class=\"x-el x-el-div c1-1 c1-2 c1-1x c1-b c1-c c1-d c1-1y c1-e c1-f c1-g\"><nav data-ux=\"Block\" class=\"x-el x-el-nav c1-1 c1-2 c1-4 c1-1z c1-20 c1-b c1-c c1-d c1-e c1-f c1-g\"><div data-ux=\"Block\" class=\"x-el x-el-div c1-1 c1-2 c1-21 c1-15 c1-22 c1-16 c1-23 c1-b c1-c c1-d c1-e c1-f c1-g\"><div data-ux=\"Block\" class=\"x-el x-el-div c1-1 c1-2 c1-15 c1-24 c1-25 c1-b c1-c c1-d c1-e c1-f c1-g\"><p data-ux=\"Phone\" data-aid=\"HEADER_PHONE_RENDERED\" data-tccl=\"ux2.header.phone_number.click,click\" data-typography=\"BodyGamma\" class=\"x-el x-el-p c1-1 c1-2 c1-1k c1-1l c1-1m c1-1n c1-1o c1-26 c1-1p c1-27 c1-b c1-28 c1-29 c1-1t c1-2a c1-2b c1-2c c1-2d\">☎️ <a rel=\"\" role=\"link\" aria-haspopup=\"false\" data-ux=\"Link\" href=\"tel:9728671871\" data-typography=\"LinkAlpha\" class=\"x-el x-el-a c1-2e c1-2f c1-2g c1-1k c1-1l c1-2h c1-2i c1-b c1-2j c1-2k c1-14 c1-2l c1-2m c1-2n\" data-tccl=\"ux2.HEADER.header9.Section.Default.Link.Default.49645.click,click\">972-867-1871</a> </p></div><div data-ux=\"Block\" class=\"x-el x-el-div c1-1 c1-2 c1-17 c1-1p c1-2o c1-b c1-c c1-d c1-e c1-f c1-g\"><div data-ux=\"Block\" data-aid=\"HEADER_LOGO_RENDERED\" class=\"x-el x-el-div c1-1 c1-2p c1-1t c1-2q c1-2r c1-c c1-2s c1-2t c1-2u c1-2v c1-d c1-e c1-f c1-g\"><a rel=\"\" role=\"link\" aria-haspopup=\"menu\" data-ux=\"Link\" data-page=\"0392fede-6c02-4162-8b0d-1efad5bca25c\" title=\"Willow Bend Learning Center\" href=\"/\" data-typography=\"LinkAlpha\" class=\"x-el x-el-a c1-2e c1-2f c1-2g c1-1k c1-1l c1-2h c1-2i c1-2w c1-2x c1-2y c1-2z c1-14 c1-30 c1-b c1-28 c1-c c1-2l c1-2m c1-2n c1-d c1-e c1-f c1-g\" data-tccl=\"ux2.HEADER.header9.Logo.Default.Link.Default.49646.click,click\"><div data-ux=\"Block\" class=\"x-el x-el-div c1-1 c1-2 c1-31 c1-32 c1-33 c1-34 c1-35 c1-b c1-c c1-d c1-36 c1-e c1-f c1-g\"><img src=\"//img1.wsimg.com/isteam/ip/3373a061-5c71-4743-91b3-d0f1ecdee87a/logo.png/:/rs=h:125,cg:true,m/qt=q:95\" srcSet=\"//img1.wsimg.com/isteam/ip/3373a061-5c71-4743-91b3-d0f1ecdee87a/logo.png/:/rs=w:122,h:125,cg:true,m/cr=w:122,h:125/qt=q:95, //img1.wsimg.com/isteam/ip/3373a061-5c71-4743-91b3-d0f1ecdee87a/logo.png/:/rs=w:243,h:250,cg:true,m/cr=w:243,h:250/qt=q:95 2x, //img1.wsimg.com/isteam/ip/3373a061-5c71-4743-91b3-d0f1ecdee87a/logo.png/:/rs=w:365,h:375,cg:true,m/cr=w:365,h:375/qt=q:95 3x\" alt=\"Willow Bend Learning Center\" data-ux=\"ImageLogo\" data-aid=\"HEADER_LOGO_IMAGE_RENDERED\" id=\"n-49642\" class=\"x-el x-el-img c1-1 c1-2 c1-4 c1-14 c1-10 c1-11 c1-1n c1-1o c1-37 c1-38 c1-39 c1-3a c1-3b c1-3c c1-31 c1-32 c1-33 c1-34 c1-3d c1-35 c1-b c1-c c1-3e c1-3f c1-3g c1-3h c1-3i c1-3j c1-3k c1-3l c1-3m c1-3n c1-3o c1-3p c1-3q c1-3r c1-d c1-3s c1-3t c1-3u c1-e c1-f c1-g\"/></div></a></div></div><div data-ux=\"Block\" class=\"x-el x-el-div c1-1 c1-2 c1-15 c1-3v c1-16 c1-25 c1-b c1-c c1-d c1-e c1-f c1-g\"><div data-ux=\"UtilitiesMenu\" id=\"n-4964249647-utility-menu\" class=\"x-el x-el-div c1-1 c1-2 c1-15 c1-16 c1-3w c1-b c1-c c1-3v c1-d c1-3x c1-3y c1-e c1-f c1-g\"><span data-ux=\"Element\" class=\"x-el x-el-span c1-1 c1-2 c1-b c1-c c1-d c1-e c1-f c1-g\"><div data-ux=\"Element\" id=\"bs-1\" class=\"x-el x-el-div c1-1 c1-2 c1-2q c1-b c1-c c1-d c1-e c1-f c1-g\"></div></span><span data-ux=\"Element\" id=\"n-4964249647-membership-icon\" class=\"x-el x-el-span c1-1 c1-2 c1-s c1-15 c1-2i c1-b c1-c c1-d c1-e c1-f c1-g\"><div data-ux=\"Block\" class=\"x-el x-el-div c1-1 c1-2 c1-15 c1-16 c1-b c1-c c1-d c1-e c1-f c1-g\"><span data-ux=\"Element\" class=\"x-el x-el-span membership-icon-logged-out c1-1 c1-2 c1-b c1-c c1-d c1-e c1-f c1-g\"><div data-ux=\"Element\" id=\"bs-2\" class=\"x-el x-el-div c1-1 c1-2 c1-b c1-c c1-d c1-e c1-f c1-g\"><a rel=\"\" role=\"button\" aria-haspopup=\"menu\" data-ux=\"UtilitiesMenuLink\" data-toggle-ignore=\"true\" id=\"49648\" aria-expanded=\"false\" data-aid=\"MEMBERSHIP_ICON_DESKTOP_RENDERED\" data-edit-interactive=\"true\" href=\"#\" data-typography=\"false\" class=\"x-el x-el-a c1-1 c1-2 c1-2g c1-1k c1-1l c1-2h c1-2i c1-3w c1-3z c1-b c1-c c1-d c1-e c1-f c1-g\" data-tccl=\"ux2.HEADER.header9.UtilitiesMenu.Default.Link.Dropdown.49649.click,click\"><div style=\"pointer-events:auto;display:flex;align-items:center\" data-aid=\"MEMBERSHIP_ICON_DESKTOP_RENDERED\"><svg viewBox=\"0 0 24 24\" fill=\"currentColor\" width=\"40px\" height=\"40px\" data-ux=\"UtilitiesMenuIcon\" data-typography=\"false\" class=\"x-el x-el-svg c1-1 c1-2 c1-3z c1-2q c1-40 c1-41 c1-37 c1-42 c1-43 c1-44 c1-45 c1-3w c1-s c1-2i c1-b c1-c c1-d c1-46 c1-47 c1-e c1-48 c1-f c1-g\"><path fill-rule=\"evenodd\" d=\"M16.056 8.255a4.254 4.254 0 1 1-8.507 0 4.254 4.254 0 0 1 8.507 0zm3.052 11.71H4.496a.503.503 0 0 1-.46-.693 8.326 8.326 0 0 1 7.766-5.328 8.326 8.326 0 0 1 7.766 5.328.503.503 0 0 1-.46.694z\"></path></svg></div></a></div></span><span data-ux=\"Element\" class=\"x-el x-el-span membership-icon-logged-in c1-1 c1-2 c1-1x c1-b c1-c c1-d c1-e c1-f c1-g\"><div data-ux=\"Element\" id=\"bs-3\" class=\"x-el x-el-div c1-1 c1-2 c1-b c1-c c1-d c1-e c1-f c1-g\"><a rel=\"\" role=\"button\" aria-haspopup=\"menu\" data-ux=\"UtilitiesMenuLink\" data-toggle-ignore=\"true\" id=\"49650\" aria-expanded=\"false\" data-aid=\"MEMBERSHIP_ICON_DESKTOP_RENDERED\" data-edit-interactive=\"true\" href=\"#\" data-typography=\"false\" class=\"x-el x-el-a c1-1 c1-2 c1-2g c1-1k c1-1l c1-2h c1-2i c1-3w c1-3z c1-b c1-c c1-d c1-e c1-f c1-g\" data-tccl=\"ux2.HEADER.header9.UtilitiesMenu.Default.Link.Dropdown.49651.click,click\"><div style=\"pointer-events:auto;display:flex;align-items:center\" data-aid=\"MEMBERSHIP_ICON_DESKTOP_RENDERED\"><svg viewBox=\"0 0 24 24\" fill=\"currentColor\" width=\"40px\" height=\"40px\" data-ux=\"UtilitiesMenuIcon\" data-typography=\"false\" class=\"x-el x-el-svg c1-1 c1-2 c1-3z c1-2q c1-40 c1-41 c1-37 c1-42 c1-43 c1-44 c1-45 c1-3w c1-s c1-2i c1-b c1-c c1-d c1-46 c1-47 c1-e c1-48 c1-f c1-g\"><path fill-rule=\"evenodd\" d=\"M16.056 8.255a4.254 4.254 0 1 1-8.507 0 4.254 4.254 0 0 1 8.507 0zm3.052 11.71H4.496a.503.503 0 0 1-.46-.693 8.326 8.326 0 0 1 7.766-5.328 8.326 8.326 0 0 1 7.766 5.328.503.503 0 0 1-.46.694z\"></path></svg></div></a></div></span><div data-ux=\"Block\" class=\"x-el x-el-div c1-1 c1-2 c1-b c1-c c1-d c1-e c1-f c1-g\"><script><!--googleoff: all--></script><ul data-ux=\"Dropdown\" role=\"menu\" id=\"n-4964249647-membershipId-loggedout\" class=\"x-el x-el-ul membership-sign-out c1-1 c1-2 c1-49 c1-4a c1-3 c1-4b c1-4c c1-4d c1-4e c1-4f c1-4g c1-4h c1-4i c1-4j c1-4k c1-1x c1-4l c1-4m c1-b c1-c c1-4n c1-4o c1-d c1-e c1-f c1-g\"><li data-ux=\"ListItem\" role=\"menuitem\" class=\"x-el x-el-li c1-1 c1-2 c1-2j c1-4p c1-4q c1-4r c1-2i c1-4s c1-1h c1-4t c1-1g c1-b c1-c c1-4u c1-d c1-e c1-f c1-g\"><a rel=\"\" role=\"link\" aria-haspopup=\"false\" data-ux=\"UtilitiesMenuLink\" data-edit-interactive=\"true\" id=\"n-4964249647-membership-sign-in\" aria-labelledby=\"n-4964249647-membershipId-loggedout\" href=\"/m/account\" data-typography=\"false\" class=\"x-el x-el-a c1-1 c1-2 c1-2g c1-1k c1-1l c1-2h c1-2i c1-3w c1-4v c1-b c1-c c1-d c1-e c1-f c1-g\" data-tccl=\"ux2.HEADER.header9.UtilitiesMenu.Menu.Link.Default.49652.click,click\">Sign In</a></li><li data-ux=\"ListItem\" role=\"menuitem\" class=\"x-el x-el-li c1-1 c1-2 c1-2j c1-4p c1-4q c1-4r c1-2i c1-4s c1-1h c1-4t c1-1g c1-b c1-c c1-4u c1-d c1-e c1-f c1-g\"><a rel=\"\" role=\"link\" aria-haspopup=\"false\" data-ux=\"UtilitiesMenuLink\" data-edit-interactive=\"true\" id=\"n-4964249647-membership-create-account\" aria-labelledby=\"n-4964249647-membershipId-loggedout\" href=\"/m/create-account\" data-typography=\"false\" class=\"x-el x-el-a c1-1 c1-2 c1-2g c1-1k c1-1l c1-2h c1-2i c1-3w c1-4v c1-b c1-c c1-d c1-e c1-f c1-g\" data-tccl=\"ux2.HEADER.header9.UtilitiesMenu.Menu.Link.Default.49653.click,click\">Create Account</a></li><li data-ux=\"ListItem\" role=\"menuitem\" class=\"x-el x-el-li c1-1 c1-2 c1-4w c1-1o c1-4q c1-4r c1-b c1-c c1-4u c1-d c1-e c1-f c1-g\"><hr aria-hidden=\"true\" role=\"separator\" data-ux=\"HR\" class=\"x-el x-el-hr c1-1 c1-2 c1-4x c1-4y c1-4z c1-50 c1-4p c1-4 c1-b c1-c c1-d c1-e c1-f c1-g\"/></li><li data-ux=\"ListItem\" role=\"menuitem\" class=\"x-el x-el-li c1-1 c1-2 c1-2j c1-4p c1-4q c1-4r c1-2i c1-4s c1-1h c1-4t c1-1g c1-b c1-c c1-4u c1-d c1-e c1-f c1-g\"><a rel=\"\" role=\"link\" aria-haspopup=\"false\" data-ux=\"UtilitiesMenuLink\" data-edit-interactive=\"true\" id=\"n-4964249647-membership-bookings-logged-out\" aria-labelledby=\"n-4964249647-membershipId-loggedout\" href=\"/m/bookings\" data-typography=\"false\" class=\"x-el x-el-a c1-1 c1-2 c1-2g c1-1k c1-1l c1-2h c1-2i c1-3w c1-4v c1-b c1-c c1-d c1-e c1-f c1-g\" data-tccl=\"ux2.HEADER.header9.UtilitiesMenu.Menu.Link.Default.49654.click,click\">Bookings</a></li><li data-ux=\"ListItem\" role=\"menuitem\" class=\"x-el x-el-li c1-1 c1-2 c1-2j c1-4p c1-4q c1-4r c1-2i c1-4s c1-1h c1-4t c1-1g c1-b c1-c c1-4u c1-d c1-e c1-f c1-g\"><a rel=\"\" role=\"link\" aria-haspopup=\"false\" data-ux=\"UtilitiesMenuLink\" data-edit-interactive=\"true\" id=\"n-4964249647-membership-account-logged-out\" aria-labelledby=\"n-4964249647-membershipId-loggedout\" href=\"/m/account\" data-typography=\"false\" class=\"x-el x-el-a c1-1 c1-2 c1-2g c1-1k c1-1l c1-2h c1-2i c1-3w c1-4v c1-b c1-c c1-d c1-e c1-f c1-g\" data-tccl=\"ux2.HEADER.header9.UtilitiesMenu.Menu.Link.Default.49655.click,click\">My Account</a></li></ul><ul data-ux=\"Dropdown\" role=\"menu\" id=\"n-4964249647-membershipId\" class=\"x-el x-el-ul membership-sign-in c1-1 c1-2 c1-49 c1-4a c1-3 c1-4b c1-4c c1-4d c1-4e c1-4f c1-4g c1-4h c1-4i c1-4j c1-4k c1-1x c1-4l c1-4m c1-b c1-c c1-4n c1-4o c1-d c1-e c1-f c1-g\"><li data-ux=\"ListItem\" role=\"menuitem\" class=\"x-el x-el-li c1-1 c1-2 c1-4w c1-1o c1-4q c1-4r c1-b c1-c c1-4u c1-d c1-e c1-f c1-g\"><p data-ux=\"Text\" id=\"n-4964249647-membership-header\" data-typography=\"BodyAlpha\" class=\"x-el x-el-p c1-1 c1-2 c1-1k c1-1l c1-1m c1-1n c1-4p c1-51 c1-52 c1-53 c1-54 c1-55 c1-56 c1-57 c1-58 c1-59 c1-5a c1-5b c1-5c c1-5d c1-5e c1-5f c1-5g c1-b c1-5h c1-4w c1-c c1-d c1-e c1-f c1-g\">Signed in as:</p></li><li data-ux=\"ListItem\" role=\"menuitem\" class=\"x-el x-el-li c1-1 c1-2 c1-2j c1-4p c1-4q c1-4r c1-2i c1-4s c1-1h c1-4t c1-1g c1-b c1-c c1-4u c1-d c1-e c1-f c1-g\"><p data-ux=\"Text\" id=\"n-4964249647-membership-email\" data-aid=\"MEMBERSHIP_EMAIL_ADDRESS\" data-typography=\"BodyAlpha\" class=\"x-el x-el-p c1-1 c1-2 c1-1k c1-1l c1-1m c1-1n c1-1o c1-51 c1-52 c1-53 c1-54 c1-55 c1-56 c1-57 c1-58 c1-59 c1-5a c1-5b c1-5c c1-5d c1-5e c1-5f c1-5g c1-b c1-4w c1-c c1-1t c1-d c1-e c1-f c1-g\">filler@godaddy.com</p></li><li data-ux=\"ListItem\" role=\"menuitem\" class=\"x-el x-el-li c1-1 c1-2 c1-4w c1-1o c1-4q c1-4r c1-b c1-c c1-4u c1-d c1-e c1-f c1-g\"><hr aria-hidden=\"true\" role=\"separator\" data-ux=\"HR\" class=\"x-el x-el-hr c1-1 c1-2 c1-4x c1-4y c1-4z c1-50 c1-4p c1-4 c1-b c1-c c1-d c1-e c1-f c1-g\"/></li><li data-ux=\"ListItem\" role=\"menuitem\" class=\"x-el x-el-li c1-1 c1-2 c1-2j c1-4p c1-4q c1-4r c1-2i c1-4s c1-1h c1-4t c1-1g c1-b c1-c c1-4u c1-d c1-e c1-f c1-g\"><a rel=\"\" role=\"link\" aria-haspopup=\"false\" data-ux=\"UtilitiesMenuLink\" data-edit-interactive=\"true\" id=\"n-4964249647-membership-bookings-logged-in\" aria-labelledby=\"n-4964249647-membershipId\" href=\"/m/bookings\" data-typography=\"false\" class=\"x-el x-el-a c1-1 c1-2 c1-2g c1-1k c1-1l c1-2h c1-2i c1-3w c1-4v c1-b c1-c c1-d c1-e c1-f c1-g\" data-tccl=\"ux2.HEADER.header9.UtilitiesMenu.Menu.Link.Default.49656.click,click\">Bookings</a></li><li data-ux=\"ListItem\" role=\"menuitem\" class=\"x-el x-el-li c1-1 c1-2 c1-2j c1-4p c1-4q c1-4r c1-2i c1-4s c1-1h c1-4t c1-1g c1-b c1-c c1-4u c1-d c1-e c1-f c1-g\"><a rel=\"\" role=\"link\" aria-haspopup=\"false\" data-ux=\"UtilitiesMenuLink\" data-edit-interactive=\"true\" id=\"n-4964249647-membership-account-logged-in\" aria-labelledby=\"n-4964249647-membershipId\" href=\"/m/account\" data-typography=\"false\" class=\"x-el x-el-a c1-1 c1-2 c1-2g c1-1k c1-1l c1-2h c1-2i c1-3w c1-4v c1-b c1-c c1-d c1-e c1-f c1-g\" data-tccl=\"ux2.HEADER.header9.UtilitiesMenu.Menu.Link.Default.49657.click,click\">My Account</a></li><li data-ux=\"ListItem\" role=\"menuitem\" class=\"x-el x-el-li c1-1 c1-2 c1-2j c1-4p c1-4q c1-4r c1-2i c1-4s c1-1h c1-4t c1-1g c1-b c1-c c1-4u c1-d c1-e c1-f c1-g\"><p data-ux=\"Text\" id=\"n-4964249647-membership-sign-out\" data-aid=\"MEMBERSHIP_SIGNOUT_LINK\" data-typography=\"BodyAlpha\" class=\"x-el x-el-p c1-1 c1-2 c1-1k c1-1l c1-1m c1-1n c1-1o c1-51 c1-52 c1-53 c1-54 c1-55 c1-56 c1-57 c1-58 c1-59 c1-5a c1-5b c1-5c c1-5d c1-5e c1-5f c1-5g c1-b c1-4w c1-c c1-1t c1-d c1-e c1-f c1-g\">Sign out</p></li></ul><script><!--googleon: all--></script></div></div></span></div></div></div><div data-ux=\"Block\" class=\"x-el x-el-div c1-1 c1-2 c1-21 c1-15 c1-22 c1-16 c1-23 c1-5i c1-b c1-c c1-d c1-e c1-f c1-g\"><div data-ux=\"Block\" id=\"navBar-49644\" class=\"x-el x-el-div c1-1 c1-2 c1-21 c1-15 c1-17 c1-b c1-c c1-d c1-e c1-f c1-g\"><nav data-ux=\"Nav\" data-aid=\"HEADER_NAV_RENDERED\" role=\"navigation\" class=\"x-el x-el-nav c1-1 c1-2 c1-14 c1-5j c1-b c1-c c1-d c1-e c1-f c1-g\"><ul data-ux=\"List\" id=\"nav-49658\" class=\"x-el x-el-ul c1-1 c1-2 c1-1n c1-1o c1-5k c1-5l c1-5m c1-5n c1-5o c1-s c1-31 c1-32 c1-33 c1-34 c1-b c1-c c1-d c1-e c1-f c1-g\"><li data-ux=\"ListItemInline\" class=\"x-el x-el-li nav-item c1-1 c1-2 c1-5p c1-5k c1-5q c1-2q c1-5r c1-5s c1-5t c1-4i c1-s c1-5u c1-b c1-c c1-5v c1-5w c1-d c1-e c1-f c1-g\"><a rel=\"\" role=\"link\" aria-haspopup=\"menu\" data-ux=\"NavLinkActive\" target=\"\" data-page=\"0392fede-6c02-4162-8b0d-1efad5bca25c\" data-edit-interactive=\"true\" href=\"/\" data-typography=\"NavAlpha\" class=\"x-el x-el-a c1-5x c1-1j c1-2g c1-1k c1-1l c1-4q c1-2i c1-5y c1-b c1-5z c1-60 c1-1t c1-61 c1-62 c1-x c1-63 c1-64 c1-65 c1-66 c1-67 c1-68\" data-tccl=\"ux2.HEADER.header9.Nav.Default.Link.Active.49660.click,click\">Home</a></li><li data-ux=\"ListItemInline\" class=\"x-el x-el-li nav-item c1-1 c1-2 c1-5p c1-5k c1-5q c1-2q c1-5r c1-5s c1-5t c1-4i c1-s c1-5u c1-b c1-c c1-5v c1-5w c1-d c1-e c1-f c1-g\"><div data-ux=\"Element\" id=\"bs-4\" class=\"x-el x-el-div c1-1 c1-2 c1-b c1-c c1-d c1-e c1-f c1-g\"><a rel=\"\" role=\"button\" aria-haspopup=\"menu\" data-ux=\"NavLinkDropdown\" data-toggle-ignore=\"true\" id=\"49661\" aria-expanded=\"false\" data-aid=\"NAV_DROPDOWN\" data-edit-interactive=\"true\" href=\"#\" data-typography=\"NavAlpha\" class=\"x-el x-el-a c1-5x c1-1j c1-2g c1-1k c1-1l c1-15 c1-2i c1-16 c1-b c1-5z c1-60 c1-1t c1-63 c1-64 c1-65 c1-66 c1-67 c1-68\" data-tccl=\"ux2.HEADER.header9.Nav.Default.Link.Dropdown.49662.click,click\"><div style=\"pointer-events:none;display:flex;align-items:center\" data-aid=\"NAV_DROPDOWN\"><span style=\"margin-right:4px\">About Us</span><svg viewBox=\"0 0 24 24\" fill=\"currentColor\" width=\"16\" height=\"16\" data-ux=\"Icon\" class=\"x-el x-el-svg c1-1 c1-2 c1-69 c1-2q c1-6a c1-6b c1-37 c1-s c1-2i c1-b c1-60 c1-65 c1-66 c1-67 c1-68\"><path fill-rule=\"evenodd\" d=\"M19.774 7.86c.294-.335.04-.839-.423-.84L4.538 7c-.447-.001-.698.48-.425.81l7.204 8.693a.56.56 0 0 0 .836.011l7.621-8.654z\"></path></svg></div></a></div><ul data-ux=\"Dropdown\" role=\"menu\" id=\"b4ff33ae-1758-46a2-bc00-a21caa2f9f5c-nav-49658-toggleId\" class=\"x-el x-el-ul c1-1 c1-2 c1-49 c1-4a c1-3 c1-4b c1-4c c1-4d c1-4e c1-4f c1-6c c1-4i c1-6d c1-4k c1-1x c1-4l c1-b c1-c c1-4n c1-4o c1-d c1-e c1-f c1-g\"><li data-ux=\"ListItem\" role=\"menuitem\" class=\"x-el x-el-li c1-1 c1-2 c1-4w c1-1o c1-4q c1-4r c1-b c1-c c1-4u c1-d c1-e c1-f c1-g\"><a rel=\"\" role=\"link\" aria-haspopup=\"false\" data-ux=\"NavMenuLink\" target=\"\" data-page=\"b4a32416-47e3-4622-a4f4-6e78dfbc54ba\" data-edit-interactive=\"true\" aria-labelledby=\"b4ff33ae-1758-46a2-bc00-a21caa2f9f5c-nav-49658-toggleId\" href=\"/faculty\" data-typography=\"SubNavAlpha\" class=\"x-el x-el-a c1-1 c1-2 c1-2g c1-1k c1-1l c1-2q c1-2i c1-w c1-x c1-b c1-4w c1-60 c1-1t c1-6e c1-6f c1-65 c1-66 c1-67 c1-68\" data-tccl=\"ux2.HEADER.header9.Nav.Menu.Link.Default.49663.click,click\">Faculty</a></li><li data-ux=\"ListItem\" role=\"menuitem\" class=\"x-el x-el-li c1-1 c1-2 c1-4w c1-1o c1-4q c1-4r c1-b c1-c c1-4u c1-d c1-e c1-f c1-g\"><a rel=\"\" role=\"link\" aria-haspopup=\"false\" data-ux=\"NavMenuLink\" target=\"\" data-page=\"4b7edcb9-93b7-4c39-8fba-9a9597fb7886\" data-edit-interactive=\"true\" aria-labelledby=\"b4ff33ae-1758-46a2-bc00-a21caa2f9f5c-nav-49658-toggleId\" href=\"/testimonials\" data-typography=\"SubNavAlpha\" class=\"x-el x-el-a c1-1 c1-2 c1-2g c1-1k c1-1l c1-2q c1-2i c1-w c1-x c1-b c1-4w c1-60 c1-1t c1-6e c1-6f c1-65 c1-66 c1-67 c1-68\" data-tccl=\"ux2.HEADER.header9.Nav.Menu.Link.Default.49664.click,click\">Testimonials</a></li><li data-ux=\"ListItem\" role=\"menuitem\" class=\"x-el x-el-li c1-1 c1-2 c1-4w c1-1o c1-4q c1-4r c1-b c1-c c1-4u c1-d c1-e c1-f c1-g\"><a rel=\"\" role=\"link\" aria-haspopup=\"false\" data-ux=\"NavMenuLink\" target=\"\" data-page=\"27fcb62c-0d53-4f35-bec2-2908b04bfb7e\" data-edit-interactive=\"true\" aria-labelledby=\"b4ff33ae-1758-46a2-bc00-a21caa2f9f5c-nav-49658-toggleId\" href=\"/fees\" data-typography=\"SubNavAlpha\" class=\"x-el x-el-a c1-1 c1-2 c1-2g c1-1k c1-1l c1-2q c1-2i c1-w c1-x c1-b c1-4w c1-60 c1-1t c1-6e c1-6f c1-65 c1-66 c1-67 c1-68\" data-tccl=\"ux2.HEADER.header9.Nav.Menu.Link.Default.49665.click,click\">Fees</a></li></ul></li><li data-ux=\"ListItemInline\" class=\"x-el x-el-li nav-item c1-1 c1-2 c1-5p c1-5k c1-5q c1-2q c1-5r c1-5s c1-5t c1-4i c1-s c1-5u c1-b c1-c c1-5v c1-5w c1-d c1-e c1-f c1-g\"><div data-ux=\"Element\" id=\"bs-5\" class=\"x-el x-el-div c1-1 c1-2 c1-b c1-c c1-d c1-e c1-f c1-g\"><a rel=\"\" role=\"button\" aria-haspopup=\"menu\" data-ux=\"NavLinkDropdown\" data-toggle-ignore=\"true\" id=\"49666\" aria-expanded=\"false\" data-aid=\"NAV_DROPDOWN\" data-edit-interactive=\"true\" href=\"#\" data-typography=\"NavAlpha\" class=\"x-el x-el-a c1-5x c1-1j c1-2g c1-1k c1-1l c1-15 c1-2i c1-16 c1-b c1-5z c1-60 c1-1t c1-63 c1-64 c1-65 c1-66 c1-67 c1-68\" data-tccl=\"ux2.HEADER.header9.Nav.Default.Link.Dropdown.49667.click,click\"><div style=\"pointer-events:none;display:flex;align-items:center\" data-aid=\"NAV_DROPDOWN\"><span style=\"margin-right:4px\">Programs</span><svg viewBox=\"0 0 24 24\" fill=\"currentColor\" width=\"16\" height=\"16\" data-ux=\"Icon\" class=\"x-el x-el-svg c1-1 c1-2 c1-69 c1-2q c1-6a c1-6b c1-37 c1-s c1-2i c1-b c1-60 c1-65 c1-66 c1-67 c1-68\"><path fill-rule=\"evenodd\" d=\"M19.774 7.86c.294-.335.04-.839-.423-.84L4.538 7c-.447-.001-.698.48-.425.81l7.204 8.693a.56.56 0 0 0 .836.011l7.621-8.654z\"></path></svg></div></a></div><ul data-ux=\"Dropdown\" role=\"menu\" id=\"64f1ee69-8a33-4d46-af8a-86024b00a6fd-nav-49658-toggleId\" class=\"x-el x-el-ul c1-1 c1-2 c1-49 c1-4a c1-3 c1-4b c1-4c c1-4d c1-4e c1-4f c1-6c c1-4i c1-6d c1-4k c1-1x c1-4l c1-b c1-c c1-4n c1-4o c1-d c1-e c1-f c1-g\"><li data-ux=\"ListItem\" role=\"menuitem\" class=\"x-el x-el-li c1-1 c1-2 c1-4w c1-1o c1-4q c1-4r c1-b c1-c c1-4u c1-d c1-e c1-f c1-g\"><a rel=\"\" role=\"link\" aria-haspopup=\"false\" data-ux=\"NavMenuLink\" target=\"\" data-page=\"9ee01b10-ab0c-4d59-830e-08c9b02e0804\" data-edit-interactive=\"true\" aria-labelledby=\"64f1ee69-8a33-4d46-af8a-86024b00a6fd-nav-49658-toggleId\" href=\"/infants\" data-typography=\"SubNavAlpha\" class=\"x-el x-el-a c1-1 c1-2 c1-2g c1-1k c1-1l c1-2q c1-2i c1-w c1-x c1-b c1-4w c1-60 c1-1t c1-6e c1-6f c1-65 c1-66 c1-67 c1-68\" data-tccl=\"ux2.HEADER.header9.Nav.Menu.Link.Default.49668.click,click\">Infants</a></li><li data-ux=\"ListItem\" role=\"menuitem\" class=\"x-el x-el-li c1-1 c1-2 c1-4w c1-1o c1-4q c1-4r c1-b c1-c c1-4u c1-d c1-e c1-f c1-g\"><a rel=\"\" role=\"link\" aria-haspopup=\"false\" data-ux=\"NavMenuLink\" target=\"\" data-page=\"c924713a-8a7d-439c-8e2a-d1a227b03421\" data-edit-interactive=\"true\" aria-labelledby=\"64f1ee69-8a33-4d46-af8a-86024b00a6fd-nav-49658-toggleId\" href=\"/toddlers-1\" data-typography=\"SubNavAlpha\" class=\"x-el x-el-a c1-1 c1-2 c1-2g c1-1k c1-1l c1-2q c1-2i c1-w c1-x c1-b c1-4w c1-60 c1-1t c1-6e c1-6f c1-65 c1-66 c1-67 c1-68\" data-tccl=\"ux2.HEADER.header9.Nav.Menu.Link.Default.49669.click,click\">Toddlers</a></li><li data-ux=\"ListItem\" role=\"menuitem\" class=\"x-el x-el-li c1-1 c1-2 c1-4w c1-1o c1-4q c1-4r c1-b c1-c c1-4u c1-d c1-e c1-f c1-g\"><a rel=\"\" role=\"link\" aria-haspopup=\"false\" data-ux=\"NavMenuLink\" target=\"\" data-page=\"1d2025a5-f394-4ad4-a492-c765a1cdcf62\" data-edit-interactive=\"true\" aria-labelledby=\"64f1ee69-8a33-4d46-af8a-86024b00a6fd-nav-49658-toggleId\" href=\"/pre-school-1\" data-typography=\"SubNavAlpha\" class=\"x-el x-el-a c1-1 c1-2 c1-2g c1-1k c1-1l c1-2q c1-2i c1-w c1-x c1-b c1-4w c1-60 c1-1t c1-6e c1-6f c1-65 c1-66 c1-67 c1-68\" data-tccl=\"ux2.HEADER.header9.Nav.Menu.Link.Default.49670.click,click\">Pre-School</a></li><li data-ux=\"ListItem\" role=\"menuitem\" class=\"x-el x-el-li c1-1 c1-2 c1-4w c1-1o c1-4q c1-4r c1-b c1-c c1-4u c1-d c1-e c1-f c1-g\"><a rel=\"\" role=\"link\" aria-haspopup=\"false\" data-ux=\"NavMenuLink\" target=\"\" data-page=\"91eb0200-513e-4880-b735-19c50d39d3d6\" data-edit-interactive=\"true\" aria-labelledby=\"64f1ee69-8a33-4d46-af8a-86024b00a6fd-nav-49658-toggleId\" href=\"/after-school-1\" data-typography=\"SubNavAlpha\" class=\"x-el x-el-a c1-1 c1-2 c1-2g c1-1k c1-1l c1-2q c1-2i c1-w c1-x c1-b c1-4w c1-60 c1-1t c1-6e c1-6f c1-65 c1-66 c1-67 c1-68\" data-tccl=\"ux2.HEADER.header9.Nav.Menu.Link.Default.49671.click,click\">After School</a></li><li data-ux=\"ListItem\" role=\"menuitem\" class=\"x-el x-el-li c1-1 c1-2 c1-4w c1-1o c1-4q c1-4r c1-b c1-c c1-4u c1-d c1-e c1-f c1-g\"><a rel=\"\" role=\"link\" aria-haspopup=\"false\" data-ux=\"NavMenuLink\" target=\"\" data-page=\"388786b2-fc5f-4bdc-8613-24096d1c7527\" data-edit-interactive=\"true\" aria-labelledby=\"64f1ee69-8a33-4d46-af8a-86024b00a6fd-nav-49658-toggleId\" href=\"/summer-camp\" data-typography=\"SubNavAlpha\" class=\"x-el x-el-a c1-1 c1-2 c1-2g c1-1k c1-1l c1-2q c1-2i c1-w c1-x c1-b c1-4w c1-60 c1-1t c1-6e c1-6f c1-65 c1-66 c1-67 c1-68\" data-tccl=\"ux2.HEADER.header9.Nav.Menu.Link.Default.49672.click,click\">Summer Camp</a></li><li data-ux=\"ListItem\" role=\"menuitem\" class=\"x-el x-el-li c1-1 c1-2 c1-4w c1-1o c1-4q c1-4r c1-b c1-c c1-4u c1-d c1-e c1-f c1-g\"><a rel=\"\" role=\"link\" aria-haspopup=\"false\" data-ux=\"NavMenuLink\" target=\"\" data-page=\"cecd4731-78a6-49d4-85ab-d22fa79830e9\" data-edit-interactive=\"true\" aria-labelledby=\"64f1ee69-8a33-4d46-af8a-86024b00a6fd-nav-49658-toggleId\" href=\"/fees-1\" data-typography=\"SubNavAlpha\" class=\"x-el x-el-a c1-1 c1-2 c1-2g c1-1k c1-1l c1-2q c1-2i c1-w c1-x c1-b c1-4w c1-60 c1-1t c1-6e c1-6f c1-65 c1-66 c1-67 c1-68\" data-tccl=\"ux2.HEADER.header9.Nav.Menu.Link.Default.49673.click,click\">Fees</a></li></ul></li><li data-ux=\"ListItemInline\" class=\"x-el x-el-li nav-item c1-1 c1-2 c1-5p c1-5k c1-5q c1-2q c1-5r c1-5s c1-5t c1-4i c1-s c1-5u c1-b c1-c c1-5v c1-5w c1-d c1-e c1-f c1-g\"><div data-ux=\"Element\" id=\"bs-6\" class=\"x-el x-el-div c1-1 c1-2 c1-b c1-c c1-d c1-e c1-f c1-g\"><a rel=\"\" role=\"button\" aria-haspopup=\"menu\" data-ux=\"NavLinkDropdown\" data-toggle-ignore=\"true\" id=\"49674\" aria-expanded=\"false\" data-aid=\"NAV_DROPDOWN\" data-edit-interactive=\"true\" href=\"#\" data-typography=\"NavAlpha\" class=\"x-el x-el-a c1-5x c1-1j c1-2g c1-1k c1-1l c1-15 c1-2i c1-16 c1-b c1-5z c1-60 c1-1t c1-63 c1-64 c1-65 c1-66 c1-67 c1-68\" data-tccl=\"ux2.HEADER.header9.Nav.Default.Link.Dropdown.49675.click,click\"><div style=\"pointer-events:none;display:flex;align-items:center\" data-aid=\"NAV_DROPDOWN\"><span style=\"margin-right:4px\">Parent Forum</span><svg viewBox=\"0 0 24 24\" fill=\"currentColor\" width=\"16\" height=\"16\" data-ux=\"Icon\" class=\"x-el x-el-svg c1-1 c1-2 c1-69 c1-2q c1-6a c1-6b c1-37 c1-s c1-2i c1-b c1-60 c1-65 c1-66 c1-67 c1-68\"><path fill-rule=\"evenodd\" d=\"M19.774 7.86c.294-.335.04-.839-.423-.84L4.538 7c-.447-.001-.698.48-.425.81l7.204 8.693a.56.56 0 0 0 .836.011l7.621-8.654z\"></path></svg></div></a></div><ul data-ux=\"Dropdown\" role=\"menu\" id=\"bfcd3c47-522d-4455-b848-1d95464cd8f1-nav-49658-toggleId\" class=\"x-el x-el-ul c1-1 c1-2 c1-49 c1-4a c1-3 c1-4b c1-4c c1-4d c1-4e c1-4f c1-6c c1-4i c1-6d c1-4k c1-1x c1-4l c1-b c1-c c1-4n c1-4o c1-d c1-e c1-f c1-g\"><li data-ux=\"ListItem\" role=\"menuitem\" class=\"x-el x-el-li c1-1 c1-2 c1-4w c1-1o c1-4q c1-4r c1-b c1-c c1-4u c1-d c1-e c1-f c1-g\"><a rel=\"\" role=\"link\" aria-haspopup=\"false\" data-ux=\"NavMenuLink\" target=\"\" data-page=\"4f50f9fd-0642-4119-b18a-e088aa1e3042\" data-edit-interactive=\"true\" aria-labelledby=\"bfcd3c47-522d-4455-b848-1d95464cd8f1-nav-49658-toggleId\" href=\"/calendar\" data-typography=\"SubNavAlpha\" class=\"x-el x-el-a c1-1 c1-2 c1-2g c1-1k c1-1l c1-2q c1-2i c1-w c1-x c1-b c1-4w c1-60 c1-1t c1-6e c1-6f c1-65 c1-66 c1-67 c1-68\" data-tccl=\"ux2.HEADER.header9.Nav.Menu.Link.Default.49676.click,click\">Calendar</a></li><li data-ux=\"ListItem\" role=\"menuitem\" class=\"x-el x-el-li c1-1 c1-2 c1-4w c1-1o c1-4q c1-4r c1-b c1-c c1-4u c1-d c1-e c1-f c1-g\"><a rel=\"\" role=\"link\" aria-haspopup=\"false\" data-ux=\"NavMenuLink\" target=\"\" data-page=\"31e89c0c-1617-48b5-84e8-b63b39c9ac8f\" data-edit-interactive=\"true\" aria-labelledby=\"bfcd3c47-522d-4455-b848-1d95464cd8f1-nav-49658-toggleId\" href=\"/newsletter\" data-typography=\"SubNavAlpha\" class=\"x-el x-el-a c1-1 c1-2 c1-2g c1-1k c1-1l c1-2q c1-2i c1-w c1-x c1-b c1-4w c1-60 c1-1t c1-6e c1-6f c1-65 c1-66 c1-67 c1-68\" data-tccl=\"ux2.HEADER.header9.Nav.Menu.Link.Default.49677.click,click\">Newsletter</a></li><li data-ux=\"ListItem\" role=\"menuitem\" class=\"x-el x-el-li c1-1 c1-2 c1-4w c1-1o c1-4q c1-4r c1-b c1-c c1-4u c1-d c1-e c1-f c1-g\"><a rel=\"\" role=\"link\" aria-haspopup=\"false\" data-ux=\"NavMenuLink\" target=\"\" data-page=\"92ae9b0a-6cd9-4900-91cd-d96bc70fa943\" data-edit-interactive=\"true\" aria-labelledby=\"bfcd3c47-522d-4455-b848-1d95464cd8f1-nav-49658-toggleId\" href=\"/menu\" data-typography=\"SubNavAlpha\" class=\"x-el x-el-a c1-1 c1-2 c1-2g c1-1k c1-1l c1-2q c1-2i c1-w c1-x c1-b c1-4w c1-60 c1-1t c1-6e c1-6f c1-65 c1-66 c1-67 c1-68\" data-tccl=\"ux2.HEADER.header9.Nav.Menu.Link.Default.49678.click,click\">Menu</a></li><li data-ux=\"ListItem\" role=\"menuitem\" class=\"x-el x-el-li c1-1 c1-2 c1-4w c1-1o c1-4q c1-4r c1-b c1-c c1-4u c1-d c1-e c1-f c1-g\"><a rel=\"\" role=\"link\" aria-haspopup=\"false\" data-ux=\"NavMenuLink\" target=\"\" data-page=\"86faedd8-2931-4a4f-9100-6cf63cf0ab7e\" data-edit-interactive=\"true\" aria-labelledby=\"bfcd3c47-522d-4455-b848-1d95464cd8f1-nav-49658-toggleId\" href=\"/forms\" data-typography=\"SubNavAlpha\" class=\"x-el x-el-a c1-1 c1-2 c1-2g c1-1k c1-1l c1-2q c1-2i c1-w c1-x c1-b c1-4w c1-60 c1-1t c1-6e c1-6f c1-65 c1-66 c1-67 c1-68\" data-tccl=\"ux2.HEADER.header9.Nav.Menu.Link.Default.49679.click,click\">Forms</a></li><li data-ux=\"ListItem\" role=\"menuitem\" class=\"x-el x-el-li c1-1 c1-2 c1-4w c1-1o c1-4q c1-4r c1-b c1-c c1-4u c1-d c1-e c1-f c1-g\"><a rel=\"\" role=\"link\" aria-haspopup=\"false\" data-ux=\"NavMenuLink\" target=\"\" data-page=\"6b49b91e-2e1c-4a31-966f-db4a20d8b956\" data-edit-interactive=\"true\" aria-labelledby=\"bfcd3c47-522d-4455-b848-1d95464cd8f1-nav-49658-toggleId\" href=\"/class-schedules\" data-typography=\"SubNavAlpha\" class=\"x-el x-el-a c1-1 c1-2 c1-2g c1-1k c1-1l c1-2q c1-2i c1-w c1-x c1-b c1-4w c1-60 c1-1t c1-6e c1-6f c1-65 c1-66 c1-67 c1-68\" data-tccl=\"ux2.HEADER.header9.Nav.Menu.Link.Default.49680.click,click\">Class Schedules</a></li></ul></li><li data-ux=\"ListItemInline\" class=\"x-el x-el-li nav-item c1-1 c1-2 c1-5p c1-5k c1-5q c1-2q c1-5r c1-5s c1-5t c1-4i c1-s c1-5u c1-b c1-c c1-5v c1-5w c1-d c1-e c1-f c1-g\"><a rel=\"\" role=\"link\" aria-haspopup=\"false\" data-ux=\"NavLink\" target=\"\" data-page=\"f7c62fe6-2b8b-4899-b348-6afa07df7394\" data-edit-interactive=\"true\" href=\"/willow-blog\" data-typography=\"NavAlpha\" class=\"x-el x-el-a c1-5x c1-1j c1-2g c1-1k c1-1l c1-4q c1-2i c1-6g c1-6h c1-6i c1-6j c1-45 c1-43 c1-42 c1-44 c1-b c1-5z c1-60 c1-1t c1-63 c1-64 c1-65 c1-66 c1-67 c1-68\" data-tccl=\"ux2.HEADER.header9.Nav.Default.Link.Default.49681.click,click\">Willow Blog</a></li><li data-ux=\"ListItemInline\" class=\"x-el x-el-li nav-item c1-1 c1-2 c1-5p c1-5k c1-5q c1-2q c1-5r c1-5s c1-5t c1-4i c1-s c1-5u c1-b c1-c c1-5v c1-5w c1-d c1-e c1-f c1-g\"><div data-ux=\"Element\" id=\"bs-7\" class=\"x-el x-el-div c1-1 c1-2 c1-b c1-c c1-d c1-e c1-f c1-g\"><a rel=\"\" role=\"button\" aria-haspopup=\"menu\" data-ux=\"NavLinkDropdown\" data-toggle-ignore=\"true\" id=\"49682\" aria-expanded=\"false\" data-aid=\"NAV_MORE\" data-edit-interactive=\"true\" href=\"#\" data-typography=\"NavAlpha\" class=\"x-el x-el-a c1-5x c1-1j c1-2g c1-1k c1-1l c1-15 c1-2i c1-16 c1-b c1-5z c1-60 c1-1t c1-63 c1-64 c1-65 c1-66 c1-67 c1-68\" data-tccl=\"ux2.HEADER.header9.Nav.Default.Link.Dropdown.49683.click,click\"><div style=\"pointer-events:none;display:flex;align-items:center\" data-aid=\"NAV_MORE\"><span style=\"margin-right:4px\">More</span><svg viewBox=\"0 0 24 24\" fill=\"currentColor\" width=\"16\" height=\"16\" data-ux=\"Icon\" class=\"x-el x-el-svg c1-1 c1-2 c1-69 c1-2q c1-6a c1-6b c1-37 c1-s c1-2i c1-b c1-60 c1-65 c1-66 c1-67 c1-68\"><path fill-rule=\"evenodd\" d=\"M19.774 7.86c.294-.335.04-.839-.423-.84L4.538 7c-.447-.001-.698.48-.425.81l7.204 8.693a.56.56 0 0 0 .836.011l7.621-8.654z\"></path></svg></div></a></div><ul data-ux=\"Dropdown\" role=\"menu\" id=\"more-49659\" class=\"x-el x-el-ul c1-1 c1-2 c1-49 c1-4a c1-3 c1-4b c1-4c c1-4d c1-4e c1-4f c1-4g c1-6c c1-4i c1-6d c1-4k c1-1x c1-4l c1-b c1-c c1-4n c1-4o c1-d c1-e c1-f c1-g\"><li data-ux=\"ListItem\" role=\"menuitem\" class=\"x-el x-el-li c1-1 c1-2 c1-4w c1-1o c1-4q c1-4r c1-b c1-c c1-4u c1-d c1-e c1-f c1-g\"><a rel=\"\" role=\"link\" aria-haspopup=\"menu\" data-ux=\"NavMoreMenuLinkActive\" target=\"\" data-page=\"0392fede-6c02-4162-8b0d-1efad5bca25c\" data-edit-interactive=\"true\" aria-labelledby=\"more-49659\" href=\"/\" data-typography=\"NavAlpha\" class=\"x-el x-el-a c1-5x c1-1j c1-2g c1-1k c1-1l c1-2q c1-2i c1-6k c1-6l c1-1m c1-b c1-6m c1-60 c1-1t c1-61 c1-6n c1-x c1-6e c1-6o c1-65 c1-66 c1-67 c1-68\" data-tccl=\"ux2.HEADER.header9.Nav.MoreMenu.Link.Active.49684.click,click\">Home</a></li><li data-ux=\"ListItem\" role=\"menuitem\" class=\"x-el x-el-li c1-1 c1-2 c1-4w c1-1o c1-4q c1-4r c1-b c1-c c1-4u c1-d c1-e c1-f c1-g\"><div data-ux=\"Block\" class=\"x-el x-el-div c1-1 c1-2 c1-b c1-c c1-d c1-e c1-f c1-g\"><a rel=\"\" role=\"link\" aria-haspopup=\"menu\" data-ux=\"NavMoreMenuLink\" data-ignore-close=\"true\" data-edit-interactive=\"true\" aria-labelledby=\"more-49659\" data-typography=\"NavAlpha\" class=\"x-el x-el-a c1-5x c1-1j c1-2g c1-1k c1-1l c1-2q c1-6p c1-6l c1-1o c1-1m c1-b c1-6m c1-60 c1-1t c1-6e c1-6o c1-65 c1-66 c1-67 c1-68\" data-tccl=\"ux2.HEADER.header9.Nav.MoreMenu.Link.Default.49685.click,click\">About Us</a><ul data-ux=\"NavListNested\" role=\"menu\" class=\"x-el x-el-ul c1-1 c1-2 c1-1n c1-1o c1-6q c1-5l c1-5m c1-5n c1-5o c1-b c1-c c1-d c1-e c1-f c1-g\"><li data-ux=\"ListItem\" role=\"menuitem\" class=\"x-el x-el-li c1-1 c1-2 c1-4w c1-1o c1-4q c1-4r c1-b c1-c c1-4u c1-d c1-e c1-f c1-g\"><a rel=\"\" role=\"link\" aria-haspopup=\"false\" data-ux=\"NavMoreMenuLinkNested\" target=\"\" data-page=\"b4a32416-47e3-4622-a4f4-6e78dfbc54ba\" data-edit-interactive=\"true\" aria-labelledby=\"more-49659\" href=\"/faculty\" data-typography=\"SubNavAlpha\" class=\"x-el x-el-a c1-1 c1-2 c1-2g c1-1k c1-1l c1-2q c1-2i c1-w c1-x c1-b c1-4w c1-60 c1-1t c1-6e c1-6f c1-65 c1-66 c1-67 c1-68\" data-tccl=\"ux2.HEADER.header9.Nav.MoreMenu.Link.Nested.49686.click,click\">Faculty</a></li><li data-ux=\"ListItem\" role=\"menuitem\" class=\"x-el x-el-li c1-1 c1-2 c1-4w c1-1o c1-4q c1-4r c1-b c1-c c1-4u c1-d c1-e c1-f c1-g\"><a rel=\"\" role=\"link\" aria-haspopup=\"false\" data-ux=\"NavMoreMenuLinkNested\" target=\"\" data-page=\"4b7edcb9-93b7-4c39-8fba-9a9597fb7886\" data-edit-interactive=\"true\" aria-labelledby=\"more-49659\" href=\"/testimonials\" data-typography=\"SubNavAlpha\" class=\"x-el x-el-a c1-1 c1-2 c1-2g c1-1k c1-1l c1-2q c1-2i c1-w c1-x c1-b c1-4w c1-60 c1-1t c1-6e c1-6f c1-65 c1-66 c1-67 c1-68\" data-tccl=\"ux2.HEADER.header9.Nav.MoreMenu.Link.Nested.49687.click,click\">Testimonials</a></li><li data-ux=\"ListItem\" role=\"menuitem\" class=\"x-el x-el-li c1-1 c1-2 c1-4w c1-1o c1-4q c1-4r c1-b c1-c c1-4u c1-d c1-e c1-f c1-g\"><a rel=\"\" role=\"link\" aria-haspopup=\"false\" data-ux=\"NavMoreMenuLinkNested\" target=\"\" data-page=\"27fcb62c-0d53-4f35-bec2-2908b04bfb7e\" data-edit-interactive=\"true\" aria-labelledby=\"more-49659\" href=\"/fees\" data-typography=\"SubNavAlpha\" class=\"x-el x-el-a c1-1 c1-2 c1-2g c1-1k c1-1l c1-2q c1-2i c1-w c1-x c1-b c1-4w c1-60 c1-1t c1-6e c1-6f c1-65 c1-66 c1-67 c1-68\" data-tccl=\"ux2.HEADER.header9.Nav.MoreMenu.Link.Nested.49688.click,click\">Fees</a></li></ul></div></li><li data-ux=\"ListItem\" role=\"menuitem\" class=\"x-el x-el-li c1-1 c1-2 c1-4w c1-1o c1-4q c1-4r c1-b c1-c c1-4u c1-d c1-e c1-f c1-g\"><div data-ux=\"Block\" class=\"x-el x-el-div c1-1 c1-2 c1-b c1-c c1-d c1-e c1-f c1-g\"><a rel=\"\" role=\"link\" aria-haspopup=\"menu\" data-ux=\"NavMoreMenuLink\" data-ignore-close=\"true\" data-edit-interactive=\"true\" aria-labelledby=\"more-49659\" data-typography=\"NavAlpha\" class=\"x-el x-el-a c1-5x c1-1j c1-2g c1-1k c1-1l c1-2q c1-6p c1-6l c1-1o c1-1m c1-b c1-6m c1-60 c1-1t c1-6e c1-6o c1-65 c1-66 c1-67 c1-68\" data-tccl=\"ux2.HEADER.header9.Nav.MoreMenu.Link.Default.49689.click,click\">Programs</a><ul data-ux=\"NavListNested\" role=\"menu\" class=\"x-el x-el-ul c1-1 c1-2 c1-1n c1-1o c1-6q c1-5l c1-5m c1-5n c1-5o c1-b c1-c c1-d c1-e c1-f c1-g\"><li data-ux=\"ListItem\" role=\"menuitem\" class=\"x-el x-el-li c1-1 c1-2 c1-4w c1-1o c1-4q c1-4r c1-b c1-c c1-4u c1-d c1-e c1-f c1-g\"><a rel=\"\" role=\"link\" aria-haspopup=\"false\" data-ux=\"NavMoreMenuLinkNested\" target=\"\" data-page=\"9ee01b10-ab0c-4d59-830e-08c9b02e0804\" data-edit-interactive=\"true\" aria-labelledby=\"more-49659\" href=\"/infants\" data-typography=\"SubNavAlpha\" class=\"x-el x-el-a c1-1 c1-2 c1-2g c1-1k c1-1l c1-2q c1-2i c1-w c1-x c1-b c1-4w c1-60 c1-1t c1-6e c1-6f c1-65 c1-66 c1-67 c1-68\" data-tccl=\"ux2.HEADER.header9.Nav.MoreMenu.Link.Nested.49690.click,click\">Infants</a></li><li data-ux=\"ListItem\" role=\"menuitem\" class=\"x-el x-el-li c1-1 c1-2 c1-4w c1-1o c1-4q c1-4r c1-b c1-c c1-4u c1-d c1-e c1-f c1-g\"><a rel=\"\" role=\"link\" aria-haspopup=\"false\" data-ux=\"NavMoreMenuLinkNested\" target=\"\" data-page=\"c924713a-8a7d-439c-8e2a-d1a227b03421\" data-edit-interactive=\"true\" aria-labelledby=\"more-49659\" href=\"/toddlers-1\" data-typography=\"SubNavAlpha\" class=\"x-el x-el-a c1-1 c1-2 c1-2g c1-1k c1-1l c1-2q c1-2i c1-w c1-x c1-b c1-4w c1-60 c1-1t c1-6e c1-6f c1-65 c1-66 c1-67 c1-68\" data-tccl=\"ux2.HEADER.header9.Nav.MoreMenu.Link.Nested.49691.click,click\">Toddlers</a></li><li data-ux=\"ListItem\" role=\"menuitem\" class=\"x-el x-el-li c1-1 c1-2 c1-4w c1-1o c1-4q c1-4r c1-b c1-c c1-4u c1-d c1-e c1-f c1-g\"><a rel=\"\" role=\"link\" aria-haspopup=\"false\" data-ux=\"NavMoreMenuLinkNested\" target=\"\" data-page=\"1d2025a5-f394-4ad4-a492-c765a1cdcf62\" data-edit-interactive=\"true\" aria-labelledby=\"more-49659\" href=\"/pre-school-1\" data-typography=\"SubNavAlpha\" class=\"x-el x-el-a c1-1 c1-2 c1-2g c1-1k c1-1l c1-2q c1-2i c1-w c1-x c1-b c1-4w c1-60 c1-1t c1-6e c1-6f c1-65 c1-66 c1-67 c1-68\" data-tccl=\"ux2.HEADER.header9.Nav.MoreMenu.Link.Nested.49692.click,click\">Pre-School</a></li><li data-ux=\"ListItem\" role=\"menuitem\" class=\"x-el x-el-li c1-1 c1-2 c1-4w c1-1o c1-4q c1-4r c1-b c1-c c1-4u c1-d c1-e c1-f c1-g\"><a rel=\"\" role=\"link\" aria-haspopup=\"false\" data-ux=\"NavMoreMenuLinkNested\" target=\"\" data-page=\"91eb0200-513e-4880-b735-19c50d39d3d6\" data-edit-interactive=\"true\" aria-labelledby=\"more-49659\" href=\"/after-school-1\" data-typography=\"SubNavAlpha\" class=\"x-el x-el-a c1-1 c1-2 c1-2g c1-1k c1-1l c1-2q c1-2i c1-w c1-x c1-b c1-4w c1-60 c1-1t c1-6e c1-6f c1-65 c1-66 c1-67 c1-68\" data-tccl=\"ux2.HEADER.header9.Nav.MoreMenu.Link.Nested.49693.click,click\">After School</a></li><li data-ux=\"ListItem\" role=\"menuitem\" class=\"x-el x-el-li c1-1 c1-2 c1-4w c1-1o c1-4q c1-4r c1-b c1-c c1-4u c1-d c1-e c1-f c1-g\"><a rel=\"\" role=\"link\" aria-haspopup=\"false\" data-ux=\"NavMoreMenuLinkNested\" target=\"\" data-page=\"388786b2-fc5f-4bdc-8613-24096d1c7527\" data-edit-interactive=\"true\" aria-labelledby=\"more-49659\" href=\"/summer-camp\" data-typography=\"SubNavAlpha\" class=\"x-el x-el-a c1-1 c1-2 c1-2g c1-1k c1-1l c1-2q c1-2i c1-w c1-x c1-b c1-4w c1-60 c1-1t c1-6e c1-6f c1-65 c1-66 c1-67 c1-68\" data-tccl=\"ux2.HEADER.header9.Nav.MoreMenu.Link.Nested.49694.click,click\">Summer Camp</a></li><li data-ux=\"ListItem\" role=\"menuitem\" class=\"x-el x-el-li c1-1 c1-2 c1-4w c1-1o c1-4q c1-4r c1-b c1-c c1-4u c1-d c1-e c1-f c1-g\"><a rel=\"\" role=\"link\" aria-haspopup=\"false\" data-ux=\"NavMoreMenuLinkNested\" target=\"\" data-page=\"cecd4731-78a6-49d4-85ab-d22fa79830e9\" data-edit-interactive=\"true\" aria-labelledby=\"more-49659\" href=\"/fees-1\" data-typography=\"SubNavAlpha\" class=\"x-el x-el-a c1-1 c1-2 c1-2g c1-1k c1-1l c1-2q c1-2i c1-w c1-x c1-b c1-4w c1-60 c1-1t c1-6e c1-6f c1-65 c1-66 c1-67 c1-68\" data-tccl=\"ux2.HEADER.header9.Nav.MoreMenu.Link.Nested.49695.click,click\">Fees</a></li></ul></div></li><li data-ux=\"ListItem\" role=\"menuitem\" class=\"x-el x-el-li c1-1 c1-2 c1-4w c1-1o c1-4q c1-4r c1-b c1-c c1-4u c1-d c1-e c1-f c1-g\"><div data-ux=\"Block\" class=\"x-el x-el-div c1-1 c1-2 c1-b c1-c c1-d c1-e c1-f c1-g\"><a rel=\"\" role=\"link\" aria-haspopup=\"menu\" data-ux=\"NavMoreMenuLink\" data-ignore-close=\"true\" data-edit-interactive=\"true\" aria-labelledby=\"more-49659\" data-typography=\"NavAlpha\" class=\"x-el x-el-a c1-5x c1-1j c1-2g c1-1k c1-1l c1-2q c1-6p c1-6l c1-1o c1-1m c1-b c1-6m c1-60 c1-1t c1-6e c1-6o c1-65 c1-66 c1-67 c1-68\" data-tccl=\"ux2.HEADER.header9.Nav.MoreMenu.Link.Default.49696.click,click\">Parent Forum</a><ul data-ux=\"NavListNested\" role=\"menu\" class=\"x-el x-el-ul c1-1 c1-2 c1-1n c1-1o c1-6q c1-5l c1-5m c1-5n c1-5o c1-b c1-c c1-d c1-e c1-f c1-g\"><li data-ux=\"ListItem\" role=\"menuitem\" class=\"x-el x-el-li c1-1 c1-2 c1-4w c1-1o c1-4q c1-4r c1-b c1-c c1-4u c1-d c1-e c1-f c1-g\"><a rel=\"\" role=\"link\" aria-haspopup=\"false\" data-ux=\"NavMoreMenuLinkNested\" target=\"\" data-page=\"4f50f9fd-0642-4119-b18a-e088aa1e3042\" data-edit-interactive=\"true\" aria-labelledby=\"more-49659\" href=\"/calendar\" data-typography=\"SubNavAlpha\" class=\"x-el x-el-a c1-1 c1-2 c1-2g c1-1k c1-1l c1-2q c1-2i c1-w c1-x c1-b c1-4w c1-60 c1-1t c1-6e c1-6f c1-65 c1-66 c1-67 c1-68\" data-tccl=\"ux2.HEADER.header9.Nav.MoreMenu.Link.Nested.49697.click,click\">Calendar</a></li><li data-ux=\"ListItem\" role=\"menuitem\" class=\"x-el x-el-li c1-1 c1-2 c1-4w c1-1o c1-4q c1-4r c1-b c1-c c1-4u c1-d c1-e c1-f c1-g\"><a rel=\"\" role=\"link\" aria-haspopup=\"false\" data-ux=\"NavMoreMenuLinkNested\" target=\"\" data-page=\"31e89c0c-1617-48b5-84e8-b63b39c9ac8f\" data-edit-interactive=\"true\" aria-labelledby=\"more-49659\" href=\"/newsletter\" data-typography=\"SubNavAlpha\" class=\"x-el x-el-a c1-1 c1-2 c1-2g c1-1k c1-1l c1-2q c1-2i c1-w c1-x c1-b c1-4w c1-60 c1-1t c1-6e c1-6f c1-65 c1-66 c1-67 c1-68\" data-tccl=\"ux2.HEADER.header9.Nav.MoreMenu.Link.Nested.49698.click,click\">Newsletter</a></li><li data-ux=\"ListItem\" role=\"menuitem\" class=\"x-el x-el-li c1-1 c1-2 c1-4w c1-1o c1-4q c1-4r c1-b c1-c c1-4u c1-d c1-e c1-f c1-g\"><a rel=\"\" role=\"link\" aria-haspopup=\"false\" data-ux=\"NavMoreMenuLinkNested\" target=\"\" data-page=\"92ae9b0a-6cd9-4900-91cd-d96bc70fa943\" data-edit-interactive=\"true\" aria-labelledby=\"more-49659\" href=\"/menu\" data-typography=\"SubNavAlpha\" class=\"x-el x-el-a c1-1 c1-2 c1-2g c1-1k c1-1l c1-2q c1-2i c1-w c1-x c1-b c1-4w c1-60 c1-1t c1-6e c1-6f c1-65 c1-66 c1-67 c1-68\" data-tccl=\"ux2.HEADER.header9.Nav.MoreMenu.Link.Nested.49699.click,click\">Menu</a></li><li data-ux=\"ListItem\" role=\"menuitem\" class=\"x-el x-el-li c1-1 c1-2 c1-4w c1-1o c1-4q c1-4r c1-b c1-c c1-4u c1-d c1-e c1-f c1-g\"><a rel=\"\" role=\"link\" aria-haspopup=\"false\" data-ux=\"NavMoreMenuLinkNested\" target=\"\" data-page=\"86faedd8-2931-4a4f-9100-6cf63cf0ab7e\" data-edit-interactive=\"true\" aria-labelledby=\"more-49659\" href=\"/forms\" data-typography=\"SubNavAlpha\" class=\"x-el x-el-a c1-1 c1-2 c1-2g c1-1k c1-1l c1-2q c1-2i c1-w c1-x c1-b c1-4w c1-60 c1-1t c1-6e c1-6f c1-65 c1-66 c1-67 c1-68\" data-tccl=\"ux2.HEADER.header9.Nav.MoreMenu.Link.Nested.49700.click,click\">Forms</a></li><li data-ux=\"ListItem\" role=\"menuitem\" class=\"x-el x-el-li c1-1 c1-2 c1-4w c1-1o c1-4q c1-4r c1-b c1-c c1-4u c1-d c1-e c1-f c1-g\"><a rel=\"\" role=\"link\" aria-haspopup=\"false\" data-ux=\"NavMoreMenuLinkNested\" target=\"\" data-page=\"6b49b91e-2e1c-4a31-966f-db4a20d8b956\" data-edit-interactive=\"true\" aria-labelledby=\"more-49659\" href=\"/class-schedules\" data-typography=\"SubNavAlpha\" class=\"x-el x-el-a c1-1 c1-2 c1-2g c1-1k c1-1l c1-2q c1-2i c1-w c1-x c1-b c1-4w c1-60 c1-1t c1-6e c1-6f c1-65 c1-66 c1-67 c1-68\" data-tccl=\"ux2.HEADER.header9.Nav.MoreMenu.Link.Nested.49701.click,click\">Class Schedules</a></li></ul></div></li><li data-ux=\"ListItem\" role=\"menuitem\" class=\"x-el x-el-li c1-1 c1-2 c1-4w c1-1o c1-4q c1-4r c1-b c1-c c1-4u c1-d c1-e c1-f c1-g\"><a rel=\"\" role=\"link\" aria-haspopup=\"false\" data-ux=\"NavMoreMenuLink\" target=\"\" data-page=\"f7c62fe6-2b8b-4899-b348-6afa07df7394\" data-edit-interactive=\"true\" aria-labelledby=\"more-49659\" href=\"/willow-blog\" data-typography=\"NavAlpha\" class=\"x-el x-el-a c1-5x c1-1j c1-2g c1-1k c1-1l c1-2q c1-2i c1-6l c1-6k c1-1m c1-b c1-6m c1-60 c1-1t c1-6e c1-6o c1-65 c1-66 c1-67 c1-68\" data-tccl=\"ux2.HEADER.header9.Nav.MoreMenu.Link.Default.49702.click,click\">Willow Blog</a></li></ul></li></ul></nav></div></div></nav></div><div data-ux=\"Block\" class=\"x-el x-el-div c1-1 c1-2 c1-15 c1-b c1-c c1-d c1-6r c1-e c1-f c1-g\"><nav data-ux=\"Block\" class=\"x-el x-el-nav c1-1 c1-2 c1-4 c1-b c1-c c1-d c1-e c1-f c1-g\"><div data-ux=\"Block\" class=\"x-el x-el-div c1-1 c1-2 c1-4b c1-4 c1-b c1-c c1-d c1-e c1-f c1-g\"><p data-ux=\"Phone\" data-aid=\"HEADER_PHONE_RENDERED\" data-tccl=\"ux2.header.phone_number.click,click\" data-typography=\"BodyGamma\" class=\"x-el x-el-p c1-1 c1-2 c1-1k c1-1l c1-1m c1-1n c1-1o c1-26 c1-1p c1-27 c1-b c1-28 c1-29 c1-1t c1-2a c1-2b c1-2c c1-2d\">☎️ <a rel=\"\" role=\"link\" aria-haspopup=\"false\" data-ux=\"Link\" href=\"tel:9728671871\" data-typography=\"LinkAlpha\" class=\"x-el x-el-a c1-2e c1-2f c1-2g c1-1k c1-1l c1-2h c1-2i c1-b c1-2j c1-2k c1-14 c1-2l c1-2m c1-2n\" data-tccl=\"ux2.HEADER.header9.Section.Default.Link.Default.49703.click,click\">972-867-1871</a> </p></div><div data-ux=\"Block\" class=\"x-el x-el-div c1-1 c1-2 c1-4 c1-15 c1-22 c1-16 c1-23 c1-5i c1-b c1-c c1-d c1-e c1-f c1-g\"><div data-ux=\"Block\" class=\"x-el x-el-div c1-1 c1-2 c1-6s c1-31 c1-32 c1-33 c1-34 c1-35 c1-b c1-c c1-d c1-e c1-f c1-g\"><div data-ux=\"Element\" id=\"bs-8\" class=\"x-el x-el-div c1-1 c1-2 c1-b c1-c c1-d c1-e c1-f c1-g\"><a rel=\"\" role=\"button\" aria-haspopup=\"menu\" data-ux=\"LinkDropdown\" data-toggle-ignore=\"true\" id=\"49704\" aria-expanded=\"false\" toggleId=\"n-49642-navId-mobile\" icon=\"hamburger\" data-edit-interactive=\"true\" data-aid=\"HAMBURGER_MENU_LINK\" aria-label=\"Hamburger Site Navigation Icon\" href=\"#\" data-typography=\"LinkAlpha\" class=\"x-el x-el-a c1-2e c1-2f c1-2g c1-1k c1-1l c1-15 c1-2i c1-16 c1-24 c1-2w c1-2x c1-2y c1-2z c1-5z c1-b c1-c c1-2l c1-63 c1-2n c1-d c1-6r c1-e c1-f c1-g\" data-tccl=\"ux2.HEADER.header9.Section.Default.Link.Dropdown.49705.click,click\"><svg viewBox=\"0 0 24 24\" fill=\"currentColor\" width=\"40px\" height=\"40px\" data-ux=\"IconHamburger\" class=\"x-el x-el-svg c1-1 c1-2 c1-3z c1-2q c1-5s c1-42 c1-43 c1-44 c1-45 c1-b c1-c c1-d c1-e c1-f c1-g\"><path fill-rule=\"evenodd\" d=\"M19 8H5a1 1 0 1 1 0-2h14a1 1 0 0 1 0 2zm0 5.097H5a1 1 0 1 1 0-2h14a1 1 0 1 1 0 2zm0 5.25H5a1 1 0 1 1 0-2h14a1 1 0 1 1 0 2z\"></path></svg></a></div></div><div data-ux=\"Block\" class=\"x-el x-el-div c1-1 c1-2 c1-6t c1-1p c1-15 c1-b c1-c c1-d c1-e c1-f c1-g\"><div data-ux=\"Block\" data-aid=\"HEADER_LOGO_RENDERED\" class=\"x-el x-el-div c1-1 c1-2p c1-1t c1-2q c1-2r c1-c c1-2s c1-2t c1-2u c1-2v c1-d c1-e c1-f c1-g\"><a rel=\"\" role=\"link\" aria-haspopup=\"menu\" data-ux=\"Link\" data-page=\"0392fede-6c02-4162-8b0d-1efad5bca25c\" title=\"Willow Bend Learning Center\" href=\"/\" data-typography=\"LinkAlpha\" class=\"x-el x-el-a c1-2e c1-2f c1-2g c1-1k c1-1l c1-2h c1-2i c1-2w c1-2x c1-2y c1-2z c1-14 c1-30 c1-b c1-28 c1-c c1-2l c1-2m c1-2n c1-d c1-e c1-f c1-g\" data-tccl=\"ux2.HEADER.header9.Logo.Default.Link.Default.49706.click,click\"><div data-ux=\"Block\" class=\"x-el x-el-div c1-1 c1-2 c1-31 c1-32 c1-33 c1-34 c1-35 c1-b c1-c c1-d c1-36 c1-e c1-f c1-g\"><img src=\"//img1.wsimg.com/isteam/ip/3373a061-5c71-4743-91b3-d0f1ecdee87a/logo.png/:/rs=h:125,cg:true,m/qt=q:95\" srcSet=\"//img1.wsimg.com/isteam/ip/3373a061-5c71-4743-91b3-d0f1ecdee87a/logo.png/:/rs=w:122,h:125,cg:true,m/cr=w:122,h:125/qt=q:95, //img1.wsimg.com/isteam/ip/3373a061-5c71-4743-91b3-d0f1ecdee87a/logo.png/:/rs=w:243,h:250,cg:true,m/cr=w:243,h:250/qt=q:95 2x, //img1.wsimg.com/isteam/ip/3373a061-5c71-4743-91b3-d0f1ecdee87a/logo.png/:/rs=w:365,h:375,cg:true,m/cr=w:365,h:375/qt=q:95 3x\" alt=\"Willow Bend Learning Center\" data-ux=\"ImageLogo\" data-aid=\"HEADER_LOGO_IMAGE_RENDERED\" id=\"n-49642\" class=\"x-el x-el-img c1-1 c1-2 c1-4 c1-14 c1-10 c1-11 c1-1n c1-1o c1-37 c1-38 c1-39 c1-3a c1-3b c1-3c c1-31 c1-32 c1-33 c1-34 c1-3d c1-35 c1-b c1-c c1-3e c1-3f c1-3g c1-3h c1-3i c1-3j c1-3k c1-3l c1-3m c1-3n c1-3o c1-3p c1-3q c1-3r c1-d c1-3s c1-3t c1-3u c1-e c1-f c1-g\"/></div></a></div></div><div data-ux=\"Block\" class=\"x-el x-el-div c1-1 c1-2 c1-6s c1-31 c1-32 c1-33 c1-34 c1-35 c1-b c1-c c1-d c1-e c1-f c1-g\"><div data-ux=\"UtilitiesMenu\" id=\"n-4964249707-utility-menu\" class=\"x-el x-el-div c1-1 c1-2 c1-15 c1-16 c1-3w c1-b c1-c c1-3v c1-d c1-6u c1-3y c1-e c1-f c1-g\"><span data-ux=\"Element\" class=\"x-el x-el-span c1-1 c1-2 c1-b c1-c c1-d c1-e c1-f c1-g\"><div data-ux=\"Element\" id=\"bs-9\" class=\"x-el x-el-div c1-1 c1-2 c1-2q c1-b c1-c c1-d c1-e c1-f c1-g\"></div></span></div></div></div><div role=\"navigation\" data-ux=\"NavigationDrawer\" id=\"n-49642-navId-mobile\" class=\"x-el x-el-div c1-1 c1-2 c1-6v c1-6w c1-6x c1-4 c1-6y c1-4k c1-6z c1-70 c1-71 c1-72 c1-73 c1-74 c1-75 c1-76 c1-15 c1-77 c1-b c1-c c1-d c1-e c1-f c1-g\"><div data-ux=\"Block\" class=\"x-el x-el-div c1-1 c1-2 c1-12 c1-13 c1-b c1-c c1-d c1-e c1-f c1-g\"><div data-ux=\"Membership\" class=\"x-el x-el-div membership-header-logged-in c1-1 c1-2 c1-20 c1-b c1-c c1-d c1-e c1-f c1-g\"><div data-ux=\"Container\" class=\"x-el x-el-div c1-1 c1-2 c1-10 c1-11 c1-12 c1-13 c1-14 c1-b c1-c c1-18 c1-d c1-19 c1-e c1-1a c1-f c1-1b c1-g\"><p data-ux=\"TextMajor\" id=\"n-49642-membership-header\" data-typography=\"BodyAlpha\" class=\"x-el x-el-p c1-1 c1-2 c1-1k c1-1l c1-1m c1-1n c1-1o c1-78 c1-b c1-4w c1-c c1-1t c1-d c1-e c1-f c1-g\">Signed in as:</p><p data-ux=\"Text\" id=\"n-49642-membership-email\" data-typography=\"BodyAlpha\" class=\"x-el x-el-p c1-1 c1-2 c1-1k c1-1l c1-1m c1-1n c1-1o c1-b c1-4w c1-c c1-1t c1-d c1-e c1-f c1-g\">filler@godaddy.com</p></div></div><svg viewBox=\"0 0 24 24\" fill=\"currentColor\" width=\"40px\" height=\"40px\" data-ux=\"NavigationDrawerCloseIcon\" data-edit-interactive=\"true\" data-close=\"true\" class=\"x-el x-el-svg c1-1 c1-2 c1-79 c1-2q c1-37 c1-42 c1-43 c1-44 c1-45 c1-2i c1-7a c1-7b c1-4f c1-7c c1-7d c1-7e c1-b c1-6e c1-7f c1-7g c1-7h c1-7i\"><path fill-rule=\"evenodd\" d=\"M19.245 4.313a1.065 1.065 0 0 0-1.508 0L11.78 10.27 5.82 4.313A1.065 1.065 0 1 0 4.312 5.82l5.958 5.958-5.958 5.959a1.067 1.067 0 0 0 1.508 1.508l5.959-5.958 5.958 5.958a1.065 1.065 0 1 0 1.508-1.508l-5.958-5.959 5.958-5.958a1.065 1.065 0 0 0 0-1.508\"></path></svg></div><div data-ux=\"NavigationDrawerContainer\" id=\"n-49642-navContainerId-mobile\" class=\"x-el x-el-div c1-1 c1-2 c1-10 c1-11 c1-5t c1-7j c1-14 c1-4k c1-7k c1-4 c1-7l c1-b c1-c c1-18 c1-d c1-19 c1-e c1-1a c1-f c1-1b c1-g\"><div data-ux=\"Block\" class=\"x-el x-el-div c1-1 c1-2 c1-15 c1-24 c1-16 c1-7m c1-77 c1-7n c1-b c1-c c1-d c1-e c1-f c1-g\"></div><div data-ux=\"Block\" id=\"n-49642-navLinksContentId-mobile\" class=\"x-el x-el-div c1-1 c1-2 c1-b c1-c c1-d c1-e c1-f c1-g\"><ul data-ux=\"NavigationDrawerList\" id=\"n-49642-navListId-mobile\" class=\"x-el x-el-ul c1-1 c1-2 c1-1n c1-1o c1-5k c1-5l c1-5m c1-5n c1-5o c1-33 c1-4r c1-31 c1-34 c1-32 c1-1k c1-1l c1-b c1-c c1-d c1-e c1-f c1-g\"><li role=\"menuitem\" data-ux=\"NavigationDrawerListItem\" class=\"x-el x-el-li c1-1 c1-2 c1-4w c1-1o c1-4q c1-7o c1-7p c1-7q c1-b c1-c c1-4u c1-7r c1-d c1-e c1-f c1-g\"><a rel=\"\" role=\"link\" aria-haspopup=\"menu\" data-ux=\"NavigationDrawerLinkActive\" target=\"\" data-page=\"0392fede-6c02-4162-8b0d-1efad5bca25c\" data-edit-interactive=\"true\" data-close=\"true\" href=\"/\" data-typography=\"NavBeta\" class=\"x-el x-el-a c1-7s c1-1j c1-2g c1-1k c1-1l c1-15 c1-2i c1-4b c1-4c c1-12 c1-13 c1-16 c1-7t c1-22 c1-b c1-6m c1-29 c1-5h c1-6e c1-6f c1-2a c1-7u c1-2b c1-2c c1-2d\" data-tccl=\"ux2.HEADER.header9.NavigationDrawer.Default.Link.Active.49708.click,click\"><span>Home</span></a></li><li role=\"menuitem\" data-ux=\"NavigationDrawerListItem\" class=\"x-el x-el-li c1-1 c1-2 c1-4w c1-1o c1-4q c1-7o c1-7p c1-7q c1-b c1-c c1-4u c1-7r c1-d c1-e c1-f c1-g\"><div data-ux=\"Element\" id=\"bs-10\" class=\"x-el x-el-div c1-1 c1-2 c1-b c1-c c1-d c1-e c1-f c1-g\"><div data-ux=\"Block\" class=\"x-el x-el-div c1-1 c1-2 c1-b c1-c c1-d c1-e c1-f c1-g\"><a rel=\"\" role=\"button\" aria-haspopup=\"menu\" data-ux=\"NavigationDrawerLink\" data-toggle-ignore=\"true\" id=\"49709\" aria-expanded=\"false\" data-edit-interactive=\"true\" href=\"#\" data-typography=\"NavBeta\" class=\"x-el x-el-a c1-7s c1-1j c1-2g c1-1k c1-1l c1-15 c1-2i c1-4b c1-4c c1-12 c1-13 c1-16 c1-7t c1-22 c1-b c1-6m c1-29 c1-1t c1-6e c1-6f c1-2a c1-7u c1-2b c1-2c c1-2d\" data-tccl=\"ux2.HEADER.header9.NavigationDrawer.Default.Link.Dropdown.49710.click,click\"><span style=\"pointer-events:none\">About Us</span><svg viewBox=\"0 0 24 24\" fill=\"currentColor\" width=\"16\" height=\"16\" data-ux=\"NavigationDrawerIcon\" class=\"x-el x-el-svg c1-1 c1-2 c1-69 c1-2q c1-6a c1-6b c1-37 c1-s c1-7v c1-7w c1-7x c1-b c1-29 c1-7y c1-7z c1-80 c1-81 c1-82 c1-83 c1-2a c1-2b c1-2c c1-2d\"><path fill-rule=\"evenodd\" d=\"M19.774 7.86c.294-.335.04-.839-.423-.84L4.538 7c-.447-.001-.698.48-.425.81l7.204 8.693a.56.56 0 0 0 .836.011l7.621-8.654z\"></path></svg></a><ul data-ux=\"NavigationDrawerList\" role=\"menu\" class=\"x-el x-el-ul c1-1 c1-2 c1-1n c1-1o c1-5k c1-5l c1-5m c1-5n c1-5o c1-33 c1-1x c1-b c1-c c1-d c1-e c1-f c1-g\"><li role=\"menuitem\" data-ux=\"NavigationDrawerListItem\" class=\"x-el x-el-li c1-1 c1-2 c1-4w c1-1o c1-4q c1-7o c1-7p c1-7q c1-b c1-c c1-4u c1-7r c1-84 c1-d c1-e c1-f c1-g\"><a rel=\"\" role=\"link\" aria-haspopup=\"false\" data-ux=\"NavigationDrawerSubLink\" target=\"\" data-page=\"b4a32416-47e3-4622-a4f4-6e78dfbc54ba\" data-edit-interactive=\"true\" data-close=\"true\" data-aid=\"MOBILE_NAV_SUBLINK\" href=\"/faculty\" data-typography=\"SubNavBeta\" class=\"x-el x-el-a c1-1 c1-2 c1-2g c1-1k c1-1l c1-4q c1-2i c1-4s c1-4t c1-1q c1-13 c1-16 c1-7t c1-22 c1-1t c1-b c1-4w c1-c c1-6e c1-6f c1-d c1-7u c1-e c1-f c1-g\" data-tccl=\"ux2.HEADER.header9.NavigationDrawer.Sub.Link.Default.49711.click,click\"><span>Faculty</span></a></li><li role=\"menuitem\" data-ux=\"NavigationDrawerListItem\" class=\"x-el x-el-li c1-1 c1-2 c1-4w c1-1o c1-4q c1-7o c1-7p c1-7q c1-b c1-c c1-4u c1-7r c1-84 c1-d c1-e c1-f c1-g\"><a rel=\"\" role=\"link\" aria-haspopup=\"false\" data-ux=\"NavigationDrawerSubLink\" target=\"\" data-page=\"4b7edcb9-93b7-4c39-8fba-9a9597fb7886\" data-edit-interactive=\"true\" data-close=\"true\" data-aid=\"MOBILE_NAV_SUBLINK\" href=\"/testimonials\" data-typography=\"SubNavBeta\" class=\"x-el x-el-a c1-1 c1-2 c1-2g c1-1k c1-1l c1-4q c1-2i c1-4s c1-4t c1-1q c1-13 c1-16 c1-7t c1-22 c1-1t c1-b c1-4w c1-c c1-6e c1-6f c1-d c1-7u c1-e c1-f c1-g\" data-tccl=\"ux2.HEADER.header9.NavigationDrawer.Sub.Link.Default.49712.click,click\"><span>Testimonials</span></a></li><li role=\"menuitem\" data-ux=\"NavigationDrawerListItem\" class=\"x-el x-el-li c1-1 c1-2 c1-4w c1-1o c1-4q c1-7o c1-7p c1-7q c1-b c1-c c1-4u c1-7r c1-84 c1-d c1-e c1-f c1-g\"><a rel=\"\" role=\"link\" aria-haspopup=\"false\" data-ux=\"NavigationDrawerSubLink\" target=\"\" data-page=\"27fcb62c-0d53-4f35-bec2-2908b04bfb7e\" data-edit-interactive=\"true\" data-close=\"true\" data-aid=\"MOBILE_NAV_SUBLINK\" href=\"/fees\" data-typography=\"SubNavBeta\" class=\"x-el x-el-a c1-1 c1-2 c1-2g c1-1k c1-1l c1-4q c1-2i c1-4s c1-4t c1-1q c1-13 c1-16 c1-7t c1-22 c1-1t c1-b c1-4w c1-c c1-6e c1-6f c1-d c1-7u c1-e c1-f c1-g\" data-tccl=\"ux2.HEADER.header9.NavigationDrawer.Sub.Link.Default.49713.click,click\"><span>Fees</span></a></li></ul></div></div></li><li role=\"menuitem\" data-ux=\"NavigationDrawerListItem\" class=\"x-el x-el-li c1-1 c1-2 c1-4w c1-1o c1-4q c1-7o c1-7p c1-7q c1-b c1-c c1-4u c1-7r c1-d c1-e c1-f c1-g\"><div data-ux=\"Element\" id=\"bs-11\" class=\"x-el x-el-div c1-1 c1-2 c1-b c1-c c1-d c1-e c1-f c1-g\"><div data-ux=\"Block\" class=\"x-el x-el-div c1-1 c1-2 c1-b c1-c c1-d c1-e c1-f c1-g\"><a rel=\"\" role=\"button\" aria-haspopup=\"menu\" data-ux=\"NavigationDrawerLink\" data-toggle-ignore=\"true\" id=\"49714\" aria-expanded=\"false\" data-edit-interactive=\"true\" href=\"#\" data-typography=\"NavBeta\" class=\"x-el x-el-a c1-7s c1-1j c1-2g c1-1k c1-1l c1-15 c1-2i c1-4b c1-4c c1-12 c1-13 c1-16 c1-7t c1-22 c1-b c1-6m c1-29 c1-1t c1-6e c1-6f c1-2a c1-7u c1-2b c1-2c c1-2d\" data-tccl=\"ux2.HEADER.header9.NavigationDrawer.Default.Link.Dropdown.49715.click,click\"><span style=\"pointer-events:none\">Programs</span><svg viewBox=\"0 0 24 24\" fill=\"currentColor\" width=\"16\" height=\"16\" data-ux=\"NavigationDrawerIcon\" class=\"x-el x-el-svg c1-1 c1-2 c1-69 c1-2q c1-6a c1-6b c1-37 c1-s c1-7v c1-7w c1-7x c1-b c1-29 c1-7y c1-7z c1-80 c1-81 c1-82 c1-83 c1-2a c1-2b c1-2c c1-2d\"><path fill-rule=\"evenodd\" d=\"M19.774 7.86c.294-.335.04-.839-.423-.84L4.538 7c-.447-.001-.698.48-.425.81l7.204 8.693a.56.56 0 0 0 .836.011l7.621-8.654z\"></path></svg></a><ul data-ux=\"NavigationDrawerList\" role=\"menu\" class=\"x-el x-el-ul c1-1 c1-2 c1-1n c1-1o c1-5k c1-5l c1-5m c1-5n c1-5o c1-33 c1-1x c1-b c1-c c1-d c1-e c1-f c1-g\"><li role=\"menuitem\" data-ux=\"NavigationDrawerListItem\" class=\"x-el x-el-li c1-1 c1-2 c1-4w c1-1o c1-4q c1-7o c1-7p c1-7q c1-b c1-c c1-4u c1-7r c1-84 c1-d c1-e c1-f c1-g\"><a rel=\"\" role=\"link\" aria-haspopup=\"false\" data-ux=\"NavigationDrawerSubLink\" target=\"\" data-page=\"9ee01b10-ab0c-4d59-830e-08c9b02e0804\" data-edit-interactive=\"true\" data-close=\"true\" data-aid=\"MOBILE_NAV_SUBLINK\" href=\"/infants\" data-typography=\"SubNavBeta\" class=\"x-el x-el-a c1-1 c1-2 c1-2g c1-1k c1-1l c1-4q c1-2i c1-4s c1-4t c1-1q c1-13 c1-16 c1-7t c1-22 c1-1t c1-b c1-4w c1-c c1-6e c1-6f c1-d c1-7u c1-e c1-f c1-g\" data-tccl=\"ux2.HEADER.header9.NavigationDrawer.Sub.Link.Default.49716.click,click\"><span>Infants</span></a></li><li role=\"menuitem\" data-ux=\"NavigationDrawerListItem\" class=\"x-el x-el-li c1-1 c1-2 c1-4w c1-1o c1-4q c1-7o c1-7p c1-7q c1-b c1-c c1-4u c1-7r c1-84 c1-d c1-e c1-f c1-g\"><a rel=\"\" role=\"link\" aria-haspopup=\"false\" data-ux=\"NavigationDrawerSubLink\" target=\"\" data-page=\"c924713a-8a7d-439c-8e2a-d1a227b03421\" data-edit-interactive=\"true\" data-close=\"true\" data-aid=\"MOBILE_NAV_SUBLINK\" href=\"/toddlers-1\" data-typography=\"SubNavBeta\" class=\"x-el x-el-a c1-1 c1-2 c1-2g c1-1k c1-1l c1-4q c1-2i c1-4s c1-4t c1-1q c1-13 c1-16 c1-7t c1-22 c1-1t c1-b c1-4w c1-c c1-6e c1-6f c1-d c1-7u c1-e c1-f c1-g\" data-tccl=\"ux2.HEADER.header9.NavigationDrawer.Sub.Link.Default.49717.click,click\"><span>Toddlers</span></a></li><li role=\"menuitem\" data-ux=\"NavigationDrawerListItem\" class=\"x-el x-el-li c1-1 c1-2 c1-4w c1-1o c1-4q c1-7o c1-7p c1-7q c1-b c1-c c1-4u c1-7r c1-84 c1-d c1-e c1-f c1-g\"><a rel=\"\" role=\"link\" aria-haspopup=\"false\" data-ux=\"NavigationDrawerSubLink\" target=\"\" data-page=\"1d2025a5-f394-4ad4-a492-c765a1cdcf62\" data-edit-interactive=\"true\" data-close=\"true\" data-aid=\"MOBILE_NAV_SUBLINK\" href=\"/pre-school-1\" data-typography=\"SubNavBeta\" class=\"x-el x-el-a c1-1 c1-2 c1-2g c1-1k c1-1l c1-4q c1-2i c1-4s c1-4t c1-1q c1-13 c1-16 c1-7t c1-22 c1-1t c1-b c1-4w c1-c c1-6e c1-6f c1-d c1-7u c1-e c1-f c1-g\" data-tccl=\"ux2.HEADER.header9.NavigationDrawer.Sub.Link.Default.49718.click,click\"><span>Pre-School</span></a></li><li role=\"menuitem\" data-ux=\"NavigationDrawerListItem\" class=\"x-el x-el-li c1-1 c1-2 c1-4w c1-1o c1-4q c1-7o c1-7p c1-7q c1-b c1-c c1-4u c1-7r c1-84 c1-d c1-e c1-f c1-g\"><a rel=\"\" role=\"link\" aria-haspopup=\"false\" data-ux=\"NavigationDrawerSubLink\" target=\"\" data-page=\"91eb0200-513e-4880-b735-19c50d39d3d6\" data-edit-interactive=\"true\" data-close=\"true\" data-aid=\"MOBILE_NAV_SUBLINK\" href=\"/after-school-1\" data-typography=\"SubNavBeta\" class=\"x-el x-el-a c1-1 c1-2 c1-2g c1-1k c1-1l c1-4q c1-2i c1-4s c1-4t c1-1q c1-13 c1-16 c1-7t c1-22 c1-1t c1-b c1-4w c1-c c1-6e c1-6f c1-d c1-7u c1-e c1-f c1-g\" data-tccl=\"ux2.HEADER.header9.NavigationDrawer.Sub.Link.Default.49719.click,click\"><span>After School</span></a></li><li role=\"menuitem\" data-ux=\"NavigationDrawerListItem\" class=\"x-el x-el-li c1-1 c1-2 c1-4w c1-1o c1-4q c1-7o c1-7p c1-7q c1-b c1-c c1-4u c1-7r c1-84 c1-d c1-e c1-f c1-g\"><a rel=\"\" role=\"link\" aria-haspopup=\"false\" data-ux=\"NavigationDrawerSubLink\" target=\"\" data-page=\"388786b2-fc5f-4bdc-8613-24096d1c7527\" data-edit-interactive=\"true\" data-close=\"true\" data-aid=\"MOBILE_NAV_SUBLINK\" href=\"/summer-camp\" data-typography=\"SubNavBeta\" class=\"x-el x-el-a c1-1 c1-2 c1-2g c1-1k c1-1l c1-4q c1-2i c1-4s c1-4t c1-1q c1-13 c1-16 c1-7t c1-22 c1-1t c1-b c1-4w c1-c c1-6e c1-6f c1-d c1-7u c1-e c1-f c1-g\" data-tccl=\"ux2.HEADER.header9.NavigationDrawer.Sub.Link.Default.49720.click,click\"><span>Summer Camp</span></a></li><li role=\"menuitem\" data-ux=\"NavigationDrawerListItem\" class=\"x-el x-el-li c1-1 c1-2 c1-4w c1-1o c1-4q c1-7o c1-7p c1-7q c1-b c1-c c1-4u c1-7r c1-84 c1-d c1-e c1-f c1-g\"><a rel=\"\" role=\"link\" aria-haspopup=\"false\" data-ux=\"NavigationDrawerSubLink\" target=\"\" data-page=\"cecd4731-78a6-49d4-85ab-d22fa79830e9\" data-edit-interactive=\"true\" data-close=\"true\" data-aid=\"MOBILE_NAV_SUBLINK\" href=\"/fees-1\" data-typography=\"SubNavBeta\" class=\"x-el x-el-a c1-1 c1-2 c1-2g c1-1k c1-1l c1-4q c1-2i c1-4s c1-4t c1-1q c1-13 c1-16 c1-7t c1-22 c1-1t c1-b c1-4w c1-c c1-6e c1-6f c1-d c1-7u c1-e c1-f c1-g\" data-tccl=\"ux2.HEADER.header9.NavigationDrawer.Sub.Link.Default.49721.click,click\"><span>Fees</span></a></li></ul></div></div></li><li role=\"menuitem\" data-ux=\"NavigationDrawerListItem\" class=\"x-el x-el-li c1-1 c1-2 c1-4w c1-1o c1-4q c1-7o c1-7p c1-7q c1-b c1-c c1-4u c1-7r c1-d c1-e c1-f c1-g\"><div data-ux=\"Element\" id=\"bs-12\" class=\"x-el x-el-div c1-1 c1-2 c1-b c1-c c1-d c1-e c1-f c1-g\"><div data-ux=\"Block\" class=\"x-el x-el-div c1-1 c1-2 c1-b c1-c c1-d c1-e c1-f c1-g\"><a rel=\"\" role=\"button\" aria-haspopup=\"menu\" data-ux=\"NavigationDrawerLink\" data-toggle-ignore=\"true\" id=\"49722\" aria-expanded=\"false\" data-edit-interactive=\"true\" href=\"#\" data-typography=\"NavBeta\" class=\"x-el x-el-a c1-7s c1-1j c1-2g c1-1k c1-1l c1-15 c1-2i c1-4b c1-4c c1-12 c1-13 c1-16 c1-7t c1-22 c1-b c1-6m c1-29 c1-1t c1-6e c1-6f c1-2a c1-7u c1-2b c1-2c c1-2d\" data-tccl=\"ux2.HEADER.header9.NavigationDrawer.Default.Link.Dropdown.49723.click,click\"><span style=\"pointer-events:none\">Parent Forum</span><svg viewBox=\"0 0 24 24\" fill=\"currentColor\" width=\"16\" height=\"16\" data-ux=\"NavigationDrawerIcon\" class=\"x-el x-el-svg c1-1 c1-2 c1-69 c1-2q c1-6a c1-6b c1-37 c1-s c1-7v c1-7w c1-7x c1-b c1-29 c1-7y c1-7z c1-80 c1-81 c1-82 c1-83 c1-2a c1-2b c1-2c c1-2d\"><path fill-rule=\"evenodd\" d=\"M19.774 7.86c.294-.335.04-.839-.423-.84L4.538 7c-.447-.001-.698.48-.425.81l7.204 8.693a.56.56 0 0 0 .836.011l7.621-8.654z\"></path></svg></a><ul data-ux=\"NavigationDrawerList\" role=\"menu\" class=\"x-el x-el-ul c1-1 c1-2 c1-1n c1-1o c1-5k c1-5l c1-5m c1-5n c1-5o c1-33 c1-1x c1-b c1-c c1-d c1-e c1-f c1-g\"><li role=\"menuitem\" data-ux=\"NavigationDrawerListItem\" class=\"x-el x-el-li c1-1 c1-2 c1-4w c1-1o c1-4q c1-7o c1-7p c1-7q c1-b c1-c c1-4u c1-7r c1-84 c1-d c1-e c1-f c1-g\"><a rel=\"\" role=\"link\" aria-haspopup=\"false\" data-ux=\"NavigationDrawerSubLink\" target=\"\" data-page=\"4f50f9fd-0642-4119-b18a-e088aa1e3042\" data-edit-interactive=\"true\" data-close=\"true\" data-aid=\"MOBILE_NAV_SUBLINK\" href=\"/calendar\" data-typography=\"SubNavBeta\" class=\"x-el x-el-a c1-1 c1-2 c1-2g c1-1k c1-1l c1-4q c1-2i c1-4s c1-4t c1-1q c1-13 c1-16 c1-7t c1-22 c1-1t c1-b c1-4w c1-c c1-6e c1-6f c1-d c1-7u c1-e c1-f c1-g\" data-tccl=\"ux2.HEADER.header9.NavigationDrawer.Sub.Link.Default.49724.click,click\"><span>Calendar</span></a></li><li role=\"menuitem\" data-ux=\"NavigationDrawerListItem\" class=\"x-el x-el-li c1-1 c1-2 c1-4w c1-1o c1-4q c1-7o c1-7p c1-7q c1-b c1-c c1-4u c1-7r c1-84 c1-d c1-e c1-f c1-g\"><a rel=\"\" role=\"link\" aria-haspopup=\"false\" data-ux=\"NavigationDrawerSubLink\" target=\"\" data-page=\"31e89c0c-1617-48b5-84e8-b63b39c9ac8f\" data-edit-interactive=\"true\" data-close=\"true\" data-aid=\"MOBILE_NAV_SUBLINK\" href=\"/newsletter\" data-typography=\"SubNavBeta\" class=\"x-el x-el-a c1-1 c1-2 c1-2g c1-1k c1-1l c1-4q c1-2i c1-4s c1-4t c1-1q c1-13 c1-16 c1-7t c1-22 c1-1t c1-b c1-4w c1-c c1-6e c1-6f c1-d c1-7u c1-e c1-f c1-g\" data-tccl=\"ux2.HEADER.header9.NavigationDrawer.Sub.Link.Default.49725.click,click\"><span>Newsletter</span></a></li><li role=\"menuitem\" data-ux=\"NavigationDrawerListItem\" class=\"x-el x-el-li c1-1 c1-2 c1-4w c1-1o c1-4q c1-7o c1-7p c1-7q c1-b c1-c c1-4u c1-7r c1-84 c1-d c1-e c1-f c1-g\"><a rel=\"\" role=\"link\" aria-haspopup=\"false\" data-ux=\"NavigationDrawerSubLink\" target=\"\" data-page=\"92ae9b0a-6cd9-4900-91cd-d96bc70fa943\" data-edit-interactive=\"true\" data-close=\"true\" data-aid=\"MOBILE_NAV_SUBLINK\" href=\"/menu\" data-typography=\"SubNavBeta\" class=\"x-el x-el-a c1-1 c1-2 c1-2g c1-1k c1-1l c1-4q c1-2i c1-4s c1-4t c1-1q c1-13 c1-16 c1-7t c1-22 c1-1t c1-b c1-4w c1-c c1-6e c1-6f c1-d c1-7u c1-e c1-f c1-g\" data-tccl=\"ux2.HEADER.header9.NavigationDrawer.Sub.Link.Default.49726.click,click\"><span>Menu</span></a></li><li role=\"menuitem\" data-ux=\"NavigationDrawerListItem\" class=\"x-el x-el-li c1-1 c1-2 c1-4w c1-1o c1-4q c1-7o c1-7p c1-7q c1-b c1-c c1-4u c1-7r c1-84 c1-d c1-e c1-f c1-g\"><a rel=\"\" role=\"link\" aria-haspopup=\"false\" data-ux=\"NavigationDrawerSubLink\" target=\"\" data-page=\"86faedd8-2931-4a4f-9100-6cf63cf0ab7e\" data-edit-interactive=\"true\" data-close=\"true\" data-aid=\"MOBILE_NAV_SUBLINK\" href=\"/forms\" data-typography=\"SubNavBeta\" class=\"x-el x-el-a c1-1 c1-2 c1-2g c1-1k c1-1l c1-4q c1-2i c1-4s c1-4t c1-1q c1-13 c1-16 c1-7t c1-22 c1-1t c1-b c1-4w c1-c c1-6e c1-6f c1-d c1-7u c1-e c1-f c1-g\" data-tccl=\"ux2.HEADER.header9.NavigationDrawer.Sub.Link.Default.49727.click,click\"><span>Forms</span></a></li><li role=\"menuitem\" data-ux=\"NavigationDrawerListItem\" class=\"x-el x-el-li c1-1 c1-2 c1-4w c1-1o c1-4q c1-7o c1-7p c1-7q c1-b c1-c c1-4u c1-7r c1-84 c1-d c1-e c1-f c1-g\"><a rel=\"\" role=\"link\" aria-haspopup=\"false\" data-ux=\"NavigationDrawerSubLink\" target=\"\" data-page=\"6b49b91e-2e1c-4a31-966f-db4a20d8b956\" data-edit-interactive=\"true\" data-close=\"true\" data-aid=\"MOBILE_NAV_SUBLINK\" href=\"/class-schedules\" data-typography=\"SubNavBeta\" class=\"x-el x-el-a c1-1 c1-2 c1-2g c1-1k c1-1l c1-4q c1-2i c1-4s c1-4t c1-1q c1-13 c1-16 c1-7t c1-22 c1-1t c1-b c1-4w c1-c c1-6e c1-6f c1-d c1-7u c1-e c1-f c1-g\" data-tccl=\"ux2.HEADER.header9.NavigationDrawer.Sub.Link.Default.49728.click,click\"><span>Class Schedules</span></a></li></ul></div></div></li><li role=\"menuitem\" data-ux=\"NavigationDrawerListItem\" class=\"x-el x-el-li c1-1 c1-2 c1-4w c1-1o c1-4q c1-7o c1-7p c1-7q c1-b c1-c c1-4u c1-7r c1-d c1-e c1-f c1-g\"><a rel=\"\" role=\"link\" aria-haspopup=\"false\" data-ux=\"NavigationDrawerLink\" target=\"\" data-page=\"f7c62fe6-2b8b-4899-b348-6afa07df7394\" data-edit-interactive=\"true\" data-close=\"true\" href=\"/willow-blog\" data-typography=\"NavBeta\" class=\"x-el x-el-a c1-7s c1-1j c1-2g c1-1k c1-1l c1-15 c1-2i c1-4b c1-4c c1-12 c1-13 c1-16 c1-7t c1-22 c1-b c1-6m c1-29 c1-1t c1-6e c1-6f c1-2a c1-7u c1-2b c1-2c c1-2d\" data-tccl=\"ux2.HEADER.header9.NavigationDrawer.Default.Link.Default.49729.click,click\"><span>Willow Blog</span></a></li></ul><div data-ux=\"Block\" class=\"x-el x-el-div c1-1 c1-2 c1-b c1-c c1-4q c1-d c1-6r c1-e c1-f c1-g\"><div data-ux=\"Membership\" class=\"x-el x-el-div c1-1 c1-2 c1-b c1-c c1-d c1-e c1-f c1-g\"><p data-ux=\"MembershipHeading\" data-typography=\"BodyAlpha\" class=\"x-el x-el-p c1-1 c1-2 c1-1k c1-1l c1-1m c1-6l c1-6k c1-12 c1-13 c1-33 c1-85 c1-b c1-4w c1-c c1-1t c1-d c1-e c1-f c1-g\">Account</p><ul data-ux=\"List\" role=\"menu\" class=\"x-el x-el-ul membership-links-logged-in c1-1 c1-2 c1-1n c1-1o c1-5k c1-5l c1-5m c1-5n c1-5o c1-4r c1-31 c1-33 c1-34 c1-32 c1-1k c1-1l c1-b c1-c c1-d c1-e c1-f c1-g\"><li role=\"menuitem\" data-ux=\"MembershipListItem\" class=\"x-el x-el-li c1-1 c1-2 c1-4w c1-1o c1-4q c1-7o c1-7p c1-7q c1-b c1-c c1-4u c1-7r c1-d c1-e c1-f c1-g\"><hr aria-hidden=\"true\" role=\"separator\" data-ux=\"MembershipHR\" class=\"x-el x-el-hr c1-1 c1-2 c1-4x c1-4y c1-4z c1-1n c1-1o c1-4 c1-b c1-c c1-d c1-e c1-f c1-g\"/></li><li role=\"menuitem\" data-ux=\"MembershipListItem\" class=\"x-el x-el-li c1-1 c1-2 c1-4w c1-1o c1-4q c1-7o c1-7p c1-7q c1-b c1-c c1-4u c1-7r c1-d c1-e c1-f c1-g\"><a rel=\"\" role=\"link\" aria-haspopup=\"false\" data-ux=\"MembershipLink\" data-edit-interactive=\"true\" id=\"n-49642-membership-bookings-logged-in\" name=\"Bookings\" dataAid=\"MEMBERSHIP_BOOKINGS_LINK\" href=\"/m/bookings\" data-typography=\"NavBeta\" class=\"x-el x-el-a c1-7s c1-1j c1-2g c1-1k c1-1l c1-15 c1-2i c1-4b c1-4c c1-12 c1-13 c1-16 c1-7t c1-22 c1-b c1-6m c1-29 c1-1t c1-6e c1-6f c1-2a c1-7u c1-2b c1-2c c1-2d\" data-tccl=\"ux2.HEADER.header9.Membership.Default.Link.Default.49738.click,click\">Bookings</a></li><li role=\"menuitem\" data-ux=\"MembershipListItem\" class=\"x-el x-el-li c1-1 c1-2 c1-4w c1-1o c1-4q c1-7o c1-7p c1-7q c1-b c1-c c1-4u c1-7r c1-d c1-e c1-f c1-g\"><a rel=\"\" role=\"link\" aria-haspopup=\"false\" data-ux=\"MembershipLink\" data-edit-interactive=\"true\" id=\"n-49642-membership-account-logged-in\" name=\"My Account\" dataAid=\"MEMBERSHIP_ACCOUNT_LINK\" href=\"/m/account\" data-typography=\"NavBeta\" class=\"x-el x-el-a c1-7s c1-1j c1-2g c1-1k c1-1l c1-15 c1-2i c1-4b c1-4c c1-12 c1-13 c1-16 c1-7t c1-22 c1-b c1-6m c1-29 c1-1t c1-6e c1-6f c1-2a c1-7u c1-2b c1-2c c1-2d\" data-tccl=\"ux2.HEADER.header9.Membership.Default.Link.Default.49739.click,click\">My Account</a></li><li role=\"menuitem\" data-ux=\"MembershipListItem\" class=\"x-el x-el-li c1-1 c1-2 c1-4w c1-1o c1-4q c1-7o c1-7p c1-7q c1-b c1-c c1-4u c1-7r c1-d c1-e c1-f c1-g\"><p data-ux=\"Text\" id=\"n-49642-membership-sign-out\" data-aid=\"MEMBERSHIP_SIGNOUT_LINK\" data-typography=\"BodyAlpha\" class=\"x-el x-el-p c1-1 c1-2 c1-1k c1-1l c1-1m c1-1n c1-1o c1-b c1-4w c1-c c1-1t c1-d c1-e c1-f c1-g\">Sign out</p></li></ul><ul data-ux=\"List\" role=\"menu\" class=\"x-el x-el-ul membership-links-logged-out c1-1 c1-2 c1-1n c1-1o c1-5k c1-5l c1-5m c1-5n c1-5o c1-4r c1-31 c1-33 c1-34 c1-32 c1-1k c1-1l c1-b c1-c c1-d c1-e c1-f c1-g\"><li role=\"menuitem\" data-ux=\"MembershipListItem\" class=\"x-el x-el-li c1-1 c1-2 c1-4w c1-1o c1-4q c1-7o c1-7p c1-7q c1-b c1-c c1-4u c1-7r c1-d c1-e c1-f c1-g\"><hr aria-hidden=\"true\" role=\"separator\" data-ux=\"MembershipHR\" class=\"x-el x-el-hr c1-1 c1-2 c1-4x c1-4y c1-4z c1-1n c1-1o c1-4 c1-b c1-c c1-d c1-e c1-f c1-g\"/></li><li role=\"menuitem\" data-ux=\"MembershipListItem\" class=\"x-el x-el-li c1-1 c1-2 c1-4w c1-1o c1-4q c1-7o c1-7p c1-7q c1-b c1-c c1-4u c1-7r c1-d c1-e c1-f c1-g\"><a rel=\"\" role=\"link\" aria-haspopup=\"false\" data-ux=\"MembershipLink\" data-edit-interactive=\"true\" id=\"n-49642-membership-sign-in\" name=\"Sign In\" dataAid=\"MEMBERSHIP_SIGNIN_LINK\" href=\"/m/account\" data-typography=\"NavBeta\" class=\"x-el x-el-a c1-7s c1-1j c1-2g c1-1k c1-1l c1-15 c1-2i c1-4b c1-4c c1-12 c1-13 c1-16 c1-7t c1-22 c1-b c1-6m c1-29 c1-1t c1-6e c1-6f c1-2a c1-7u c1-2b c1-2c c1-2d\" data-tccl=\"ux2.HEADER.header9.Membership.Default.Link.Default.49740.click,click\">Sign In</a></li><li role=\"menuitem\" data-ux=\"MembershipListItem\" class=\"x-el x-el-li c1-1 c1-2 c1-4w c1-1o c1-4q c1-7o c1-7p c1-7q c1-b c1-c c1-4u c1-7r c1-d c1-e c1-f c1-g\"><a rel=\"\" role=\"link\" aria-haspopup=\"false\" data-ux=\"MembershipLink\" data-edit-interactive=\"true\" id=\"n-49642-membership-bookings-logged-out\" name=\"Bookings\" dataAid=\"MEMBERSHIP_BOOKINGS_LINK\" href=\"/m/bookings\" data-typography=\"NavBeta\" class=\"x-el x-el-a c1-7s c1-1j c1-2g c1-1k c1-1l c1-15 c1-2i c1-4b c1-4c c1-12 c1-13 c1-16 c1-7t c1-22 c1-b c1-6m c1-29 c1-1t c1-6e c1-6f c1-2a c1-7u c1-2b c1-2c c1-2d\" data-tccl=\"ux2.HEADER.header9.Membership.Default.Link.Default.49741.click,click\">Bookings</a></li><li role=\"menuitem\" data-ux=\"MembershipListItem\" class=\"x-el x-el-li c1-1 c1-2 c1-4w c1-1o c1-4q c1-7o c1-7p c1-7q c1-b c1-c c1-4u c1-7r c1-d c1-e c1-f c1-g\"><a rel=\"\" role=\"link\" aria-haspopup=\"false\" data-ux=\"MembershipLink\" data-edit-interactive=\"true\" id=\"n-49642-membership-account-logged-out\" name=\"My Account\" dataAid=\"MEMBERSHIP_ACCOUNT_LINK\" href=\"/m/account\" data-typography=\"NavBeta\" class=\"x-el x-el-a c1-7s c1-1j c1-2g c1-1k c1-1l c1-15 c1-2i c1-4b c1-4c c1-12 c1-13 c1-16 c1-7t c1-22 c1-b c1-6m c1-29 c1-1t c1-6e c1-6f c1-2a c1-7u c1-2b c1-2c c1-2d\" data-tccl=\"ux2.HEADER.header9.Membership.Default.Link.Default.49742.click,click\">My Account</a></li></ul></div></div></div></div></div></nav></div></div></div><div data-ux=\"Container\" class=\"x-el x-el-div c1-1 c1-2 c1-10 c1-11 c1-12 c1-13 c1-14 c1-31 c1-33 c1-1n c1-1o c1-b c1-c c1-18 c1-d c1-19 c1-e c1-1a c1-f c1-1b c1-g\"><div data-ux=\"Block\" class=\"x-el x-el-div c1-1 c1-2 c1-s c1-b c1-c c1-86 c1-87 c1-88 c1-d c1-e c1-f c1-g\"><div data-ux=\"Block\" class=\"x-el x-el-div c1-1 c1-2 c1-10 c1-11 c1-15 c1-17 c1-16 c1-76 c1-b c1-c c1-89 c1-d c1-e c1-f c1-g\"><div data-ux=\"Block\" class=\"x-el x-el-div c1-1 c1-2 c1-8a c1-4 c1-s c1-76 c1-1n c1-11 c1-1o c1-10 c1-b c1-c c1-d c1-e c1-f c1-g\"><div data-ux=\"Wrapper\" class=\"x-el x-el-div c1-1 c1-2 c1-4q c1-s c1-76 c1-8a c1-b c1-c c1-d c1-e c1-f c1-g\"><div data-ux=\"WrapperInsetEmbedVideo\" class=\"x-el x-el-div c1-1 c1-2 c1-4q c1-b c1-c c1-d c1-e c1-f c1-g\"><div data-ux=\"Block\" class=\"x-el x-el-div c1-1 c1-2 c1-s c1-8b c1-76 c1-14 c1-7x c1-b c1-c c1-3g c1-d c1-e c1-f c1-g\"><iframe data-ux=\"EmbedVideo\" src=\"https://player.vimeo.com/video/952498093?h=9eb5bd1329&amp;autoplay=1&amp;loop=1&amp;autopause=0&amp;muted=1&amp;title=0&amp;byline=0&amp;portrait=0&amp;controls=0\" frameBorder=\"0\" allow=\"autoplay; fullscreen\" allowfullscreen=\"\" loading=\"lazy\" data-aid=\"HEADER_VIDEO_EMBED\" class=\"x-el x-el-iframe c1-1 c1-2 c1-4f c1-6x c1-8c c1-8d c1-4 c1-6y c1-2w c1-2x c1-2y c1-2z c1-8e c1-b c1-c c1-d c1-e c1-f c1-g\"></iframe></div></div><img src=\"https://i.vimeocdn.com/video/1862224969-ce69b1202a5f9370d760b38d7d708962c8f2ddd1d45ebccf21ea8b2b1be5c8fc-d\" alt=\"https://i.vimeocdn.com/video/1862224969-ce69b1202a5f9370d760b38d7d708962c8f2ddd1d45ebccf21ea8b2b1be5c8fc-d\" data-ux=\"Image\" data-aid=\"HEADER_VIDEO_EMBED_INSET_POSTER\" class=\"x-el x-el-img c1-1 c1-2 c1-4 c1-14 c1-10 c1-11 c1-1n c1-1o c1-37 c1-8f c1-1x c1-3d c1-b c1-c c1-8g c1-d c1-e c1-f c1-g\"/></div></div></div><div data-ux=\"Hero\" class=\"x-el x-el-div c1-1 c1-2 c1-1p c1-15 c1-77 c1-8h c1-17 c1-16 c1-12 c1-13 c1-70 c1-8i c1-8j c1-b c1-c c1-18 c1-8k c1-8l c1-8m c1-8n c1-8o c1-8p c1-d c1-8q c1-8r c1-8s c1-e c1-f c1-g\"><div data-ux=\"Block\" class=\"x-el x-el-div c1-1 c1-2 c1-15 c1-77 c1-17 c1-16 c1-6y c1-4 c1-b c1-c c1-8t c1-d c1-e c1-f c1-g\"><div data-ux=\"Block\" class=\"x-el x-el-div c1-1 c1-2 c1-10 c1-11 c1-8u c1-4 c1-b c1-c c1-d c1-e c1-f c1-g\"><div data-ux=\"Container\" class=\"x-el x-el-div c1-1 c1-2 c1-5k c1-5l c1-34 c1-32 c1-14 c1-8v c1-31 c1-33 c1-1n c1-1o c1-35 c1-b c1-c c1-18 c1-d c1-19 c1-e c1-1a c1-f c1-1b c1-g\"><div id=\"tagline-container-49743\" defaultFontSize=\"xxlarge\" class=\"x-el x-el-div c1-1 c1-2 c1-1k c1-1l c1-4q c1-s c1-14 c1-30 c1-8w c1-b c1-c c1-d c1-e c1-f c1-g\"><h1 role=\"heading\" aria-level=\"1\" data-ux=\"Tagline\" maxLines=\"4\" data-aid=\"HEADER_TAGLINE_RENDERED\" id=\"dynamic-tagline-49744\" containerId=\"tagline-container-49743\" data-typography=\"HeadingGamma\" data-font-scaled=\"true\" class=\"x-el x-el-h1 c1-1 c1-2p c1-1t c1-1k c1-1l c1-8x c1-10 c1-11 c1-1n c1-4p c1-8y c1-7e c1-14 c1-s c1-2q c1-2r c1-8z c1-7f c1-7g c1-7h c1-7i\">Willow Bend Learning Center</h1><span role=\"heading\" aria-level=\"NaN\" data-ux=\"scaler\" data-size=\"xxlarge\" data-scaler-id=\"scaler-tagline-container-49743\" aria-hidden=\"true\" data-typography=\"HeadingGamma\" data-font-scaled=\"true\" class=\"x-el x-el-span c1-1 c1-2p c1-1t c1-90 c1-91 c1-8x c1-10 c1-11 c1-1n c1-4p c1-8y c1-14 c1-1x c1-4f c1-5u c1-30 c1-92 c1-8d c1-93 c1-2r c1-8z c1-94 c1-95 c1-96 c1-97\">Willow Bend Learning Center</span><span role=\"heading\" aria-level=\"NaN\" data-ux=\"scaler\" data-size=\"xlarge\" data-scaler-id=\"scaler-tagline-container-49743\" aria-hidden=\"true\" data-typography=\"HeadingGamma\" data-font-scaled=\"true\" class=\"x-el x-el-span c1-1 c1-2p c1-1t c1-90 c1-91 c1-8x c1-10 c1-11 c1-1n c1-4p c1-8y c1-14 c1-1x c1-4f c1-5u c1-30 c1-92 c1-8d c1-7e c1-2r c1-8z c1-7f c1-7g c1-7h c1-7i\">Willow Bend Learning Center</span><span role=\"heading\" aria-level=\"NaN\" data-ux=\"scaler\" data-size=\"large\" data-scaler-id=\"scaler-tagline-container-49743\" aria-hidden=\"true\" data-typography=\"HeadingGamma\" data-font-scaled=\"true\" class=\"x-el x-el-span c1-1 c1-2p c1-1t c1-90 c1-91 c1-8x c1-10 c1-11 c1-1n c1-4p c1-8y c1-14 c1-1x c1-4f c1-5u c1-30 c1-92 c1-8d c1-29 c1-2r c1-8z c1-2a c1-2b c1-2c c1-2d\">Willow Bend Learning Center</span></div></div><div data-ux=\"Block\" class=\"x-el x-el-div c1-1 c1-2 c1-4 c1-15 c1-98 c1-99 c1-9a c1-17 c1-50 c1-b c1-c c1-9b c1-d c1-e c1-f c1-g\"><div style=\"max-width:100%\"><a rel=\"noopener\" data-ux-btn=\"primary\" data-ux=\"ButtonPrimary\" color=\"PRIMARY\" fill=\"SOLID\" shape=\"SQUARE\" decoration=\"NONE\" shadow=\"SHADOW1\" data-aid=\"HEADER_CTA_BTN\" href=\"https://willowbendlc.com/ola/services/center-tour\" target=\"_blank\" data-tccl=\"ux2.header.cta_button.click,click\" data-typography=\"ButtonAlpha\" class=\"x-el x-el-a c1-5x c1-1j c1-9c c1-30 c1-2i c1-9d c1-9e c1-16 c1-17 c1-1p c1-2g c1-1l c1-1k c1-s c1-14 c1-5t c1-7j c1-4s c1-4t c1-9f c1-49 c1-9g c1-9h c1-z c1-b c1-5h c1-78 c1-60 c1-9i c1-9j c1-9k c1-n c1-9l c1-9m c1-9n c1-9o c1-9p c1-9q c1-9r c1-9s c1-9t c1-9u c1-9v c1-9w c1-9x c1-9y c1-9z c1-a0 c1-a1 c1-a2 c1-65 c1-66 c1-67 c1-68\">Schedule a Tour</a></div></div></div></div></div></div></div></div></section>  </div></div></div><div id=\"6f60d337-1043-4e9c-a226-54c3051f6c66\" class=\"widget widget-content widget-content-content-1\"><div data-ux=\"Widget\" role=\"region\" id=\"6f60d337-1043-4e9c-a226-54c3051f6c66\" class=\"x-el x-el-div x-el c1-1 c1-2 c1-v c1-b c1-c c1-d c1-e c1-f c1-g c1-1 c1-2 c1-b c1-c c1-d c1-e c1-f c1-g\"><div> <section data-ux=\"Section\" class=\"x-el x-el-section c1-1 c1-2 c1-v c1-h c1-i c1-b c1-c c1-q c1-r c1-d c1-e c1-f c1-g\"><div data-ux=\"Container\" class=\"x-el x-el-div c1-1 c1-2 c1-10 c1-11 c1-12 c1-13 c1-14 c1-b c1-c c1-18 c1-d c1-19 c1-e c1-1a c1-f c1-1b c1-g\"><div data-ux=\"Grid\" class=\"x-el x-el-div c1-1 c1-2 c1-15 c1-a3 c1-a4 c1-98 c1-1n c1-a5 c1-1o c1-a6 c1-4r c1-17 c1-b c1-c c1-a7 c1-a8 c1-a9 c1-aa c1-d c1-e c1-f c1-g\"><div data-ux=\"GridCell\" class=\"x-el x-el-div c1-1 c1-2 c1-a3 c1-8h c1-ab c1-ac c1-14 c1-31 c1-ad c1-33 c1-ae c1-b c1-c c1-af c1-ag c1-ah c1-ai c1-aj c1-ak c1-d c1-al c1-am c1-e c1-f c1-g\"><div data-ux=\"Block\" class=\"x-el x-el-div c1-1 c1-2 c1-1p c1-b c1-c c1-d c1-e c1-f c1-g\"><span data-ux=\"Element\" class=\"x-el x-el-span c1-1 c1-2 c1-b c1-c c1-d c1-e c1-f c1-g\"><img src=\"//img1.wsimg.com/isteam/ip/3373a061-5c71-4743-91b3-d0f1ecdee87a/picture.jpeg/:/cr=t:0%25,l:0%25,w:100%25,h:100%25/rs=w:400,cg:true\" srcSet=\"//img1.wsimg.com/isteam/ip/3373a061-5c71-4743-91b3-d0f1ecdee87a/picture.jpeg/:/cr=t:0%25,l:0%25,w:100%25,h:100%25/rs=w:400,cg:true, //img1.wsimg.com/isteam/ip/3373a061-5c71-4743-91b3-d0f1ecdee87a/picture.jpeg/:/cr=t:0%25,l:0%25,w:100%25,h:100%25/rs=w:800,cg:true 2x, //img1.wsimg.com/isteam/ip/3373a061-5c71-4743-91b3-d0f1ecdee87a/picture.jpeg/:/cr=t:0%25,l:0%25,w:100%25,h:100%25/rs=w:1200,cg:true 3x\" alt=\"Infants doing playtime with the kids at Willow Bend Learning Center\" data-ux=\"Image\" data-aid=\"CONTENT_IMAGE1_RENDERED\" class=\"x-el x-el-img c1-1 c1-2 c1-4 c1-14 c1-10 c1-11 c1-1n c1-7m c1-37 c1-an c1-2q c1-49 c1-b c1-c c1-ao c1-d c1-ap c1-e c1-f c1-g\"/></span></div></div><div data-ux=\"GridCell\" class=\"x-el x-el-div c1-1 c1-2 c1-a3 c1-8h c1-ab c1-ac c1-14 c1-31 c1-ad c1-33 c1-ae c1-15 c1-16 c1-b c1-c c1-af c1-ag c1-ah c1-ai c1-aj c1-ak c1-d c1-aq c1-ar c1-e c1-f c1-g\"><div data-ux=\"ContentBasic\" id=\"7bdb1c82-5b26-4fe9-8f77-f6fbb5834380\" class=\"x-el x-el-div x-el c1-1 c1-2 c1-15 c1-77 c1-4 c1-as c1-at c1-4r c1-au c1-av c1-b c1-c c1-aw c1-ax c1-d c1-e c1-f c1-g c1-1 c1-2 c1-b c1-c c1-d c1-e c1-f c1-g\"><h4 role=\"heading\" aria-level=\"4\" data-ux=\"ContentHeading\" data-aid=\"CONTENT_HEADLINE1_RENDERED\" data-typography=\"HeadingAlpha\" data-font-scaled=\"true\" class=\"x-el x-el-h4 c1-1 c1-2p c1-1t c1-1k c1-1l c1-8w c1-5k c1-5l c1-1n c1-1o c1-2r c1-1c c1-7e c1-7f c1-7g c1-7h c1-7i\">Welcome to Willow Bend Learning Center!</h4><div data-ux=\"ContentText\" alignment=\"left\" data-aid=\"CONTENT_DESCRIPTION1_RENDERED\" fontScaleMultiplier=\"1.26\" data-typography=\"BodyAlpha\" data-font-scaled=\"true\" class=\"x-el c1-1 c1-2 c1-1k c1-1l c1-1m c1-1n c1-1o c1-ay c1-az c1-b0 c1-b1 c1-b2 c1-b3 c1-b4 c1-b5 c1-b6 c1-b7 c1-b8 c1-b9 c1-ba c1-bb c1-bc c1-bd c1-be c1-bf c1-bg c1-bh c1-bi c1-bj c1-bk c1-bl c1-bm c1-bn c1-bo c1-bp c1-8h c1-b c1-bq c1-br c1-1t c1-bs c1-bt c1-bu c1-bv c1-bw c1-bx c1-by x-rt\"><p style=\"margin:0\"><span>At Willow Bend Learning Center in Plano, Texas, our preschool, montessori, and general childcare &amp; daycare programs foster a nurturing environment where children explore and thrive.&nbsp;</span></p><p style=\"margin:0\"><span><br></span></p><p style=\"margin:0\"><span>Our experienced teachers guide playful learning experiences that spark curiosity and build essential skills.</span></p><p style=\"margin:0\"><span><br></span></p><p style=\"margin:0\"><span>We provide:</span></p><p style=\"margin:0\"><span><br></span></p><p style=\"margin:0\"><ul>\n",
            "  <li><strong class=\"x-el x-el-span c1-2e c1-2f c1-b c1-2k c1-69 c1-5h c1-bz\">A Blended Curriculum of Montessori and Whole Languages</strong></li>\n",
            "  <li><strong class=\"x-el x-el-span c1-2e c1-2f c1-b c1-2k c1-69 c1-5h c1-bz\">A Safe &amp; Secure Environment</strong></li>\n",
            "  <li><strong class=\"x-el x-el-span c1-2e c1-2f c1-b c1-2k c1-69 c1-5h c1-bz\">An Individualized Approach for your Child</strong></li>\n",
            "  <li><strong class=\"x-el x-el-span c1-2e c1-2f c1-b c1-2k c1-69 c1-5h c1-bz\">Open Communication between Parents and Teachers</strong></li>\n",
            "  <li><strong class=\"x-el x-el-span c1-2e c1-2f c1-b c1-2k c1-69 c1-5h c1-bz\">A Clean and Modern Facility</strong></li>\n",
            "</ul></p><p style=\"margin:0\"><span><br></span></p><p style=\"margin:0\"><span>Schedule a tour and discover how Willow Bend can <strong class=\"x-el x-el-span c1-2e c1-2f c1-b c1-2k c1-69 c1-5h c1-bz\">nurture your child's curiosity!</strong></span></p></div></div></div></div></div></section>  </div></div></div><div id=\"7590b0e2-95e6-4b8b-b39d-bdae679d839a\" class=\"widget widget-html widget-html-html-1\"><div data-ux=\"Widget\" role=\"region\" class=\"x-el x-el-div x-el c1-1 c1-2 c1-3 c1-b c1-c c1-d c1-e c1-f c1-g c1-1 c1-2 c1-b c1-c c1-d c1-e c1-f c1-g\"><div> <section data-ux=\"Section\" data-aid=\"HTML_SECTION_RENDERED\" class=\"x-el x-el-section c1-1 c1-2 c1-3 c1-h c1-i c1-b c1-c c1-q c1-r c1-d c1-e c1-f c1-g\"><div data-ux=\"Container\" class=\"x-el x-el-div c1-1 c1-2 c1-10 c1-11 c1-12 c1-13 c1-14 c1-b c1-c c1-18 c1-d c1-19 c1-e c1-1a c1-f c1-1b c1-g\"><h2 role=\"heading\" aria-level=\"2\" data-ux=\"SectionHeading\" data-aid=\"HTML_SECTION_TITLE_RENDERED\" data-typography=\"HeadingAlpha\" data-font-scaled=\"true\" class=\"x-el x-el-h2 c1-1 c1-2p c1-1t c1-1k c1-1l c1-8w c1-5k c1-5l c1-1n c1-t c1-4r c1-2r c1-6m c1-7e c1-c3 c1-7f c1-7g c1-7h c1-7i\"><span data-ux=\"Element\" class=\"\">We Love Our Willow Bend Family 💙💛</span></h2><div data-ux=\"Grid\" class=\"x-el x-el-div c1-1 c1-2 c1-15 c1-a3 c1-a4 c1-98 c1-1n c1-a5 c1-1o c1-a6 c1-b c1-c c1-a7 c1-a8 c1-a9 c1-aa c1-d c1-e c1-f c1-g\"><div data-ux=\"GridCell\" class=\"x-el x-el-div c1-1 c1-2 c1-a3 c1-8h c1-ab c1-c7 c1-14 c1-31 c1-ad c1-33 c1-ae c1-b c1-c c1-ah c1-ai c1-aj c1-ak c1-d c1-c8 c1-c9 c1-e c1-f c1-g\"><div data-ux=\"Element\" id=\"bs-13\" class=\"x-el x-el-div c1-1 c1-2 c1-b c1-c c1-d c1-e c1-f c1-g\"><iframe id=\"iframe-149745\" frameBorder=\"0\" sandbox=\"allow-scripts allow-same-origin allow-forms allow-popups allow-presentation allow-top-navigation\" src=\"javascript: window.frameElement.getAttribute(&quot;srcdoc&quot;);\" srcDoc=\"&lt;script&gt;window.onmessage = function(event) {event.source.postMessage({iframeId: event.data, scrollHeight: document.body.getBoundingClientRect().height || document.body.scrollHeight}, event.origin);};&lt;/script&gt;&lt;body style=&#x27;margin: 0&#x27;&gt;&lt;div class=&quot;birdeyeWidget&quot;&gt;&lt;script type=&quot;text/javascript&quot; src=&quot;https://birdeye.com/embed/v4/151138650307593/8/3806846205&quot;&gt;&lt;/script&gt;\n",
            "&lt;div id=&quot;bf-revz-widget-3806846205&quot;&gt;\n",
            "&lt;div class=&quot;bf-dv&quot;&gt;&lt;span class=&quot;bf-spn&quot;&gt;powered by &lt;a class=&quot;bf-pwr&quot; href=&quot;https://birdeye.com&quot; target=&quot;_blank&quot;&gt;BirdEye&lt;/a&gt;&lt;/span&gt;\n",
            "\n",
            "&lt;/div&gt;\n",
            "&lt;a target=&quot;_blank&quot; href=&quot;https://threebestrated.com/preschools-in-plano-tx&quot; style=&quot;display:inline-block; border:0;&quot;&gt;&lt;img style=&quot;width:350px; display:block;&quot; width=&quot;350&quot; src=&quot;https://threebestrated.com/awards/preschools-plano-2024-clr.svg&quot; alt=&quot;Best Preschools in Plano&quot; /&gt;&lt;/a&gt;\n",
            "&lt;/div&gt;\n",
            "&lt;/div&gt;\n",
            "&lt;/div&gt;\n",
            "\n",
            "&lt;/body&gt;\" style=\"width:100%;height:undefinedpx;overflow:visible;transition:height 1.5s ease;-webkit-transition:height 1.5s ease;-moz-transition:height .25s ease\"></iframe></div></div></div></div></section>  </div></div></div><div id=\"faf94ea2-ee9e-497d-b98d-61e980cd68a0\" class=\"widget widget-gallery widget-gallery-gallery-1\"><div data-ux=\"Widget\" role=\"region\" id=\"faf94ea2-ee9e-497d-b98d-61e980cd68a0\" class=\"x-el x-el-div x-el c1-1 c1-2 c1-3 c1-b c1-c c1-d c1-e c1-f c1-g c1-1 c1-2 c1-b c1-c c1-d c1-e c1-f c1-g\"><div> <section data-ux=\"Section\" data-test-radpack=\"client\" class=\"x-el x-el-section c1-1 c1-2 c1-3 c1-h c1-i c1-b c1-c c1-q c1-r c1-d c1-e c1-f c1-g\"><div data-ux=\"Container\" class=\"x-el x-el-div c1-1 c1-2 c1-10 c1-11 c1-12 c1-13 c1-14 c1-b c1-c c1-18 c1-d c1-19 c1-e c1-1a c1-f c1-1b c1-g\"><h2 role=\"heading\" aria-level=\"2\" data-ux=\"SectionHeading\" data-aid=\"GALLERY_SECTION_TITLE_RENDERED\" data-typography=\"HeadingAlpha\" data-font-scaled=\"true\" class=\"x-el x-el-h2 c1-1 c1-2p c1-1t c1-1k c1-1l c1-8w c1-5k c1-5l c1-1n c1-t c1-4r c1-2r c1-6m c1-7e c1-c3 c1-7f c1-7g c1-7h c1-7i\"><span data-ux=\"Element\" class=\"\">Our Recent Events</span></h2></div><div data-ux=\"Element\" id=\"bs-14\" class=\"x-el x-el-div c1-1 c1-2 c1-b c1-c c1-d c1-e c1-f c1-g\"><div><div data-ux=\"Container\" data-test-radpack=\"bootstrap2\" class=\"x-el x-el-div c1-1 c1-2 c1-10 c1-11 c1-12 c1-13 c1-14 c1-b c1-c c1-18 c1-d c1-19 c1-e c1-1a c1-f c1-1b c1-g\"><div data-ux=\"Grid\" class=\"x-el x-el-div c1-1 c1-2 c1-15 c1-a3 c1-a4 c1-98 c1-1n c1-a5 c1-ca c1-a6 c1-b c1-c c1-a7 c1-a8 c1-cb c1-aa c1-d c1-e c1-f c1-g\"><div data-ux=\"GridCell\" class=\"x-el x-el-div c1-1 c1-2 c1-a3 c1-8h c1-ab c1-ac c1-14 c1-31 c1-ad c1-5i c1-ae c1-b c1-c c1-ah c1-ai c1-cc c1-ak c1-d c1-e c1-f c1-g\"><div data-ux=\"Carousel\" class=\"x-el x-el-div c1-1 c1-2 c1-b c1-c c1-d c1-e c1-f c1-g\"><div class=\"carousel\" style=\"width:100%;height:auto\"><div class=\"carousel-container-inner\" style=\"width:100%;height:auto;margin-bottom:0\"><div class=\"carousel-viewport\" style=\"width:100%;height:600px\"><ul class=\"carousel-track\" style=\"line-height:0;transform:translateX(NaNpx);transition:none\"><li style=\"margin-left:5px;height:600px;width:inherit;overflow-y:hidden;min-height:600px;overflow-x:hidden;min-width:inherit;opacity:0.3\" data-index=\"-2\" class=\"carousel-slide carousel-slide-loading\"></li><li style=\"margin-left:5px;height:600px;width:inherit;overflow-y:hidden;min-height:600px;overflow-x:hidden;min-width:inherit;opacity:0.3\" data-index=\"-1\" class=\"carousel-slide carousel-slide-loading\"></li><li style=\"margin-left:5px;height:600px;width:inherit;overflow-y:hidden;min-height:600px;overflow-x:hidden;min-width:inherit;opacity:1\" data-index=\"0\" class=\"carousel-slide carousel-slide-selected carousel-slide-loading\"></li><li style=\"margin-left:5px;height:600px;width:inherit;overflow-y:hidden;min-height:600px;overflow-x:hidden;min-width:inherit;opacity:0.3\" data-index=\"1\" class=\"carousel-slide carousel-slide-loading\"></li><li style=\"margin-left:5px;height:600px;width:inherit;overflow-y:hidden;min-height:600px;overflow-x:hidden;min-width:inherit;opacity:0.3\" data-index=\"2\" class=\"carousel-slide carousel-slide-loading\"></li><li style=\"margin-left:5px;height:600px;width:inherit;overflow-y:hidden;min-height:600px;overflow-x:hidden;min-width:inherit;opacity:0.3\" data-index=\"3\" class=\"carousel-slide carousel-slide-loading\"></li><li style=\"margin-left:5px;height:600px;width:inherit;overflow-y:hidden;min-height:600px;overflow-x:hidden;min-width:inherit;opacity:0.3\" data-index=\"4\" class=\"carousel-slide carousel-slide-loading\"></li><li style=\"margin-left:5px;height:600px;width:inherit;overflow-y:hidden;min-height:600px;overflow-x:hidden;min-width:inherit;opacity:1\" data-index=\"5\" class=\"carousel-slide  carousel-slide-loading\"></li><li style=\"margin-left:5px;height:600px;width:inherit;overflow-y:hidden;min-height:600px;overflow-x:hidden;min-width:inherit;opacity:0.3\" data-index=\"6\" class=\"carousel-slide carousel-slide-loading\"></li></ul></div><div data-ux=\"Block\" class=\"x-el x-el-div c1-1 c1-2 c1-50 c1-b c1-c c1-d c1-e c1-f c1-g\"><div style=\"overflow:hidden;width:100%\"><div data-ux=\"Block\" class=\"x-el x-el-div c1-1 c1-2 c1-s c1-b c1-c c1-d c1-e c1-f c1-g\"><button data-ux=\"Block\" class=\"x-el x-el-button c1-1 c1-2 c1-1x c1-b c1-c c1-d c1-e c1-f c1-g\"><svg viewBox=\"0 0 24 24\" fill=\"currentColor\" width=\"28\" height=\"28\" data-ux=\"Icon\" data-edit-interactive=\"true\" class=\"x-el x-el-svg c1-1 c1-2 c1-cd c1-2q c1-37 c1-b c1-c c1-d c1-e c1-f c1-g\"><path fill-rule=\"evenodd\" d=\"M15.836 19.774c.335.294.84.04.84-.423l.02-14.813c.001-.447-.48-.698-.81-.425l-8.693 7.204a.56.56 0 0 0-.01.836l8.653 7.621z\"></path></svg></button><ul style=\"list-style:none;padding:0;margin:0;text-align:left;white-space:nowrap;transition:margin-left 0.5s;margin-left:0\" data-aid=\"THUMBNAIL_NAV_LIST\"></ul><button data-ux=\"Block\" class=\"x-el x-el-button c1-1 c1-2 c1-4q c1-4f c1-z c1-2w c1-2x c1-2y c1-2z c1-ce c1-cf c1-cg c1-2i c1-ch c1-6x c1-ci c1-31 c1-32 c1-33 c1-34 c1-35 c1-b c1-c c1-d c1-e c1-f c1-g\"><svg viewBox=\"0 0 24 24\" fill=\"currentColor\" width=\"28\" height=\"28\" data-ux=\"Icon\" data-edit-interactive=\"true\" class=\"x-el x-el-svg c1-1 c1-2 c1-cd c1-2q c1-37 c1-b c1-c c1-d c1-e c1-f c1-g\"><path fill-rule=\"evenodd\" d=\"M7.861 4.125c-.335-.293-.84-.039-.84.424L7 19.362c0 .446.481.697.811.424l8.693-7.203a.56.56 0 0 0 .011-.836L7.861 4.125z\"></path></svg></button></div></div></div><div data-ux=\"Block\" class=\"x-el x-el-div c1-1 c1-2 c1-cj c1-ck c1-b c1-c c1-cl c1-d c1-e c1-f c1-g\"><button data-ux=\"CarouselButtonPrevious\" data-aid=\"GALLERY_SCROLL_LEFT_ARROW\" class=\"x-el x-el-button c1-1 c1-2 c1-8d c1-2w c1-2x c1-2y c1-2z c1-4s c1-4t c1-34 c1-32 c1-ch c1-49 c1-cm c1-60 c1-6x c1-cn c1-4f c1-z c1-co c1-cp c1-b c1-cq c1-cr c1-65 c1-cs c1-ct c1-1w c1-1f c1-66 c1-67 c1-68\"><svg viewBox=\"0 0 24 24\" fill=\"currentColor\" width=\"28\" height=\"28\" data-ux=\"Icon\" data-edit-interactive=\"true\" class=\"x-el x-el-svg c1-1 c1-2 c1-69 c1-2q c1-37 c1-b c1-60 c1-65 c1-66 c1-67 c1-68\"><path fill-rule=\"evenodd\" d=\"M15.836 19.774c.335.294.84.04.84-.423l.02-14.813c.001-.447-.48-.698-.81-.425l-8.693 7.204a.56.56 0 0 0-.01.836l8.653 7.621z\"></path></svg></button><button data-ux=\"CarouselButtonNext\" data-aid=\"GALLERY_SCROLL_RIGHT_ARROW\" class=\"x-el x-el-button c1-1 c1-2 c1-ci c1-2w c1-2x c1-2y c1-2z c1-4s c1-4t c1-34 c1-32 c1-ch c1-49 c1-cm c1-60 c1-6x c1-cn c1-4f c1-z c1-co c1-cp c1-b c1-cq c1-cr c1-65 c1-cs c1-ct c1-1w c1-1f c1-66 c1-67 c1-68\"><svg viewBox=\"0 0 24 24\" fill=\"currentColor\" width=\"28\" height=\"28\" data-ux=\"Icon\" data-edit-interactive=\"true\" class=\"x-el x-el-svg c1-1 c1-2 c1-69 c1-2q c1-37 c1-b c1-60 c1-65 c1-66 c1-67 c1-68\"><path fill-rule=\"evenodd\" d=\"M7.861 4.125c-.335-.293-.84-.039-.84.424L7 19.362c0 .446.481.697.811.424l8.693-7.203a.56.56 0 0 0 .011-.836L7.861 4.125z\"></path></svg></button></div></div></div></div></div></div></div></div></div></section>  </div></div></div><div id=\"df09f3b0-03ec-4b4b-ab26-30920c2dde2c\" class=\"widget widget-content widget-content-content-2\"><div data-ux=\"Widget\" role=\"region\" id=\"df09f3b0-03ec-4b4b-ab26-30920c2dde2c\" class=\"x-el x-el-div x-el c1-1 c1-2 c1-v c1-b c1-c c1-d c1-e c1-f c1-g c1-1 c1-2 c1-b c1-c c1-d c1-e c1-f c1-g\"><div> <section data-ux=\"Section\" class=\"x-el x-el-section c1-1 c1-2 c1-3 c1-h c1-i c1-b c1-c c1-q c1-r c1-d c1-e c1-f c1-g\"><div data-ux=\"Container\" class=\"x-el x-el-div c1-1 c1-2 c1-10 c1-11 c1-12 c1-13 c1-14 c1-b c1-c c1-18 c1-d c1-19 c1-e c1-1a c1-f c1-1b c1-g\"><h2 role=\"heading\" aria-level=\"2\" data-ux=\"SectionHeading\" data-aid=\"CONTENT_SECTION_TITLE_RENDERED\" data-typography=\"HeadingAlpha\" data-font-scaled=\"true\" class=\"x-el x-el-h2 c1-1 c1-2p c1-1t c1-1k c1-1l c1-8w c1-5k c1-5l c1-1n c1-t c1-4r c1-2r c1-6m c1-7e c1-c3 c1-7f c1-7g c1-7h c1-7i\"><span data-ux=\"Element\" class=\"\">Check out the Programs at Willow Bend!</span></h2><div data-ux=\"ContentCards\" class=\"x-el x-el-div x-el c1-1 c1-2 c1-1p c1-17 c1-b c1-c c1-aw c1-ax c1-d c1-e c1-f c1-g c1-1 c1-2 c1-15 c1-a3 c1-a4 c1-98 c1-1n c1-a5 c1-ca c1-a6 c1-b c1-c c1-a7 c1-a8 c1-cb c1-aa c1-d c1-e c1-f c1-g\"><div data-ux=\"GridCell\" class=\"x-el x-el-div c1-1 c1-2 c1-a3 c1-8h c1-ab c1-ac c1-14 c1-31 c1-ad c1-5i c1-ae c1-15 c1-b c1-c c1-cu c1-cv c1-ah c1-ai c1-cc c1-ak c1-d c1-al c1-am c1-e c1-f c1-g\"><div data-ux=\"ContentCard\" class=\"x-el x-el-div x-el c1-1 c1-2 c1-s c1-15 c1-77 c1-16 c1-1p c1-24 c1-4 c1-as c1-au c1-av c1-8h c1-v c1-20 c1-1z c1-b c1-c c1-aw c1-ax c1-d c1-e c1-f c1-g c1-1 c1-2 c1-b c1-c c1-d c1-e c1-f c1-g\"><div data-ux=\"Block\" class=\"x-el x-el-div c1-1 c1-2 c1-4 c1-s c1-cw c1-b c1-c c1-3m c1-d c1-1y c1-e c1-f c1-g\"><h4 role=\"heading\" aria-level=\"4\" data-ux=\"ContentCardHeading\" data-aid=\"CONTENT_HEADLINE1_RENDERED\" data-typography=\"HeadingGamma\" data-font-scaled=\"true\" class=\"x-el x-el-h4 c1-1 c1-2p c1-1t c1-1k c1-1l c1-8x c1-5k c1-5l c1-1n c1-1o c1-8v c1-6x c1-5t c1-7j c1-2r c1-1c c1-29 c1-cx c1-2a c1-2b c1-2c c1-2d\">Infants</h4><h4 role=\"heading\" aria-level=\"4\" data-ux=\"ContentCardHeading\" data-typography=\"HeadingGamma\" data-font-scaled=\"true\" class=\"x-el x-el-h4 c1-1 c1-2p c1-1t c1-1k c1-1l c1-8x c1-5k c1-5l c1-1n c1-t c1-5u c1-4f c1-8v c1-6x c1-5t c1-7j c1-2r c1-1c c1-29 c1-2a c1-cy c1-2b c1-2c c1-2d\">Preschool</h4><h4 role=\"heading\" aria-level=\"4\" data-ux=\"ContentCardHeading\" data-typography=\"HeadingGamma\" data-font-scaled=\"true\" class=\"x-el x-el-h4 c1-1 c1-2p c1-1t c1-1k c1-1l c1-8x c1-5k c1-5l c1-1n c1-t c1-5u c1-4f c1-8v c1-6x c1-5t c1-7j c1-2r c1-1c c1-29 c1-cz c1-2a c1-2b c1-2c c1-2d\">Toddlers</h4></div><div data-ux=\"ContentCardWrapperImage\" class=\"x-el x-el-div c1-1 c1-2 c1-2q c1-10 c1-11 c1-1p c1-4 c1-d0 c1-b c1-c c1-d c1-e c1-f c1-g\"><a data-ux=\"Element\" href=\"/infants\" target=\"\" rel=\"\" data-page=\"9ee01b10-ab0c-4d59-830e-08c9b02e0804\" class=\"x-el x-el-a c1-1 c1-2 c1-2g c1-2i c1-b c1-c c1-d c1-e c1-f c1-g\"><img data-lazyimg=\"true\" data-srclazy=\"//img1.wsimg.com/isteam/ip/3373a061-5c71-4743-91b3-d0f1ecdee87a/infants-thumb.jpg/:/cr=t:0%25,l:0%25,w:100%25,h:100%25/rs=w:388,cg:true\" src=\"data:image/gif;base64,R0lGODlhAQABAAD/ACwAAAAAAQABAAACADs=\" srcSet=\"//img1.wsimg.com/isteam/ip/static/transparent_placeholder.png/:/rs=w:388,h:291,cg:true,m,i:true/qt=q:1/ll=n:true 451w, //img1.wsimg.com/isteam/ip/static/transparent_placeholder.png/:/rs=w:388,h:291,cg:true,m,i:true/qt=q:1/ll=n:true 768w, //img1.wsimg.com/isteam/ip/static/transparent_placeholder.png/:/rs=w:388,h:291,cg:true,m,i:true/qt=q:1/ll=n:true 1024w, //img1.wsimg.com/isteam/ip/static/transparent_placeholder.png/:/rs=w:388,h:291,cg:true,m,i:true/qt=q:1/ll=n:true 1280w, //img1.wsimg.com/isteam/ip/static/transparent_placeholder.png/:/rs=w:388,h:291,cg:true,m,i:true/qt=q:1/ll=n:true 1536w\" sizes=\"(min-width: 451px) and (max-width: 767px) 767px, (min-width: 768px) and (max-width: 1023px) 1023px, (min-width: 1024px) and (max-width: 1279px) 1279px, (min-width: 1280px) and (max-width: 1535px) 1535px, (min-width: 1536px) 1536px\" data-srcsetlazy=\"//img1.wsimg.com/isteam/ip/3373a061-5c71-4743-91b3-d0f1ecdee87a/infants-thumb.jpg/:/cr=t:0%25,l:0%25,w:100%25,h:100%25/rs=w:388,cg:true, //img1.wsimg.com/isteam/ip/3373a061-5c71-4743-91b3-d0f1ecdee87a/infants-thumb.jpg/:/cr=t:0%25,l:0%25,w:100%25,h:100%25/rs=w:400,cg:true 2x\" alt=\"Happy child at Willow Bend Learning Center!\" data-ux=\"Image\" data-aid=\"CONTENT_IMAGE1_RENDERED\" class=\"x-el x-el-img c1-1 c1-2 c1-4 c1-14 c1-10 c1-11 c1-1n c1-1o c1-37 c1-an c1-49 c1-b c1-c c1-ao c1-d1 c1-d c1-e c1-f c1-g\"/></a></div></div></div><div data-ux=\"GridCell\" class=\"x-el x-el-div c1-1 c1-2 c1-a3 c1-8h c1-ab c1-ac c1-14 c1-31 c1-ad c1-5i c1-ae c1-15 c1-b c1-c c1-cu c1-cv c1-ah c1-ai c1-cc c1-ak c1-d c1-al c1-am c1-e c1-f c1-g\"><div data-ux=\"ContentCard\" class=\"x-el x-el-div x-el c1-1 c1-2 c1-s c1-15 c1-77 c1-16 c1-1p c1-24 c1-4 c1-as c1-au c1-av c1-8h c1-v c1-20 c1-1z c1-b c1-c c1-aw c1-ax c1-d c1-e c1-f c1-g c1-1 c1-2 c1-b c1-c c1-d c1-e c1-f c1-g\"><div data-ux=\"Block\" class=\"x-el x-el-div c1-1 c1-2 c1-4 c1-s c1-cw c1-b c1-c c1-3m c1-d c1-1y c1-e c1-f c1-g\"><h4 role=\"heading\" aria-level=\"4\" data-ux=\"ContentCardHeading\" data-aid=\"CONTENT_HEADLINE2_RENDERED\" data-typography=\"HeadingGamma\" data-font-scaled=\"true\" class=\"x-el x-el-h4 c1-1 c1-2p c1-1t c1-1k c1-1l c1-8x c1-5k c1-5l c1-1n c1-1o c1-8v c1-6x c1-5t c1-7j c1-2r c1-1c c1-29 c1-cx c1-2a c1-2b c1-2c c1-2d\">Toddlers</h4><h4 role=\"heading\" aria-level=\"4\" data-ux=\"ContentCardHeading\" data-typography=\"HeadingGamma\" data-font-scaled=\"true\" class=\"x-el x-el-h4 c1-1 c1-2p c1-1t c1-1k c1-1l c1-8x c1-5k c1-5l c1-1n c1-t c1-5u c1-4f c1-8v c1-6x c1-5t c1-7j c1-2r c1-1c c1-29 c1-2a c1-cy c1-2b c1-2c c1-2d\">Preschool</h4><h4 role=\"heading\" aria-level=\"4\" data-ux=\"ContentCardHeading\" data-typography=\"HeadingGamma\" data-font-scaled=\"true\" class=\"x-el x-el-h4 c1-1 c1-2p c1-1t c1-1k c1-1l c1-8x c1-5k c1-5l c1-1n c1-t c1-5u c1-4f c1-8v c1-6x c1-5t c1-7j c1-2r c1-1c c1-29 c1-cz c1-2a c1-2b c1-2c c1-2d\">Toddlers</h4></div><div data-ux=\"ContentCardWrapperImage\" class=\"x-el x-el-div c1-1 c1-2 c1-2q c1-10 c1-11 c1-1p c1-4 c1-d0 c1-b c1-c c1-d c1-e c1-f c1-g\"><a data-ux=\"Element\" href=\"/toddlers-1\" target=\"\" rel=\"\" data-page=\"c924713a-8a7d-439c-8e2a-d1a227b03421\" class=\"x-el x-el-a c1-1 c1-2 c1-2g c1-2i c1-b c1-c c1-d c1-e c1-f c1-g\"><img data-lazyimg=\"true\" data-srclazy=\"//img1.wsimg.com/isteam/ip/3373a061-5c71-4743-91b3-d0f1ecdee87a/toddlers-thumb.jpg/:/cr=t:0%25,l:0%25,w:100%25,h:100%25/rs=w:388,cg:true\" src=\"data:image/gif;base64,R0lGODlhAQABAAD/ACwAAAAAAQABAAACADs=\" srcSet=\"//img1.wsimg.com/isteam/ip/static/transparent_placeholder.png/:/rs=w:388,h:291,cg:true,m,i:true/qt=q:1/ll=n:true 451w, //img1.wsimg.com/isteam/ip/static/transparent_placeholder.png/:/rs=w:388,h:291,cg:true,m,i:true/qt=q:1/ll=n:true 768w, //img1.wsimg.com/isteam/ip/static/transparent_placeholder.png/:/rs=w:388,h:291,cg:true,m,i:true/qt=q:1/ll=n:true 1024w, //img1.wsimg.com/isteam/ip/static/transparent_placeholder.png/:/rs=w:388,h:291,cg:true,m,i:true/qt=q:1/ll=n:true 1280w, //img1.wsimg.com/isteam/ip/static/transparent_placeholder.png/:/rs=w:388,h:291,cg:true,m,i:true/qt=q:1/ll=n:true 1536w\" sizes=\"(min-width: 451px) and (max-width: 767px) 767px, (min-width: 768px) and (max-width: 1023px) 1023px, (min-width: 1024px) and (max-width: 1279px) 1279px, (min-width: 1280px) and (max-width: 1535px) 1535px, (min-width: 1536px) 1536px\" data-srcsetlazy=\"//img1.wsimg.com/isteam/ip/3373a061-5c71-4743-91b3-d0f1ecdee87a/toddlers-thumb.jpg/:/cr=t:0%25,l:0%25,w:100%25,h:100%25/rs=w:388,cg:true, //img1.wsimg.com/isteam/ip/3373a061-5c71-4743-91b3-d0f1ecdee87a/toddlers-thumb.jpg/:/cr=t:0%25,l:0%25,w:100%25,h:100%25/rs=w:400,cg:true 2x\" alt=\"Toddlers playing at Willow Bend Learning Center\" data-ux=\"Image\" data-aid=\"CONTENT_IMAGE2_RENDERED\" class=\"x-el x-el-img c1-1 c1-2 c1-4 c1-14 c1-10 c1-11 c1-1n c1-1o c1-37 c1-an c1-49 c1-b c1-c c1-ao c1-d1 c1-d c1-e c1-f c1-g\"/></a></div></div></div><div data-ux=\"GridCell\" class=\"x-el x-el-div c1-1 c1-2 c1-a3 c1-8h c1-ab c1-ac c1-14 c1-31 c1-ad c1-5i c1-ae c1-15 c1-b c1-c c1-cu c1-cv c1-ah c1-ai c1-cc c1-ak c1-d c1-al c1-am c1-e c1-f c1-g\"><div data-ux=\"ContentCard\" class=\"x-el x-el-div x-el c1-1 c1-2 c1-s c1-15 c1-77 c1-16 c1-1p c1-24 c1-4 c1-as c1-au c1-av c1-8h c1-v c1-20 c1-1z c1-b c1-c c1-aw c1-ax c1-d c1-e c1-f c1-g c1-1 c1-2 c1-b c1-c c1-d c1-e c1-f c1-g\"><div data-ux=\"Block\" class=\"x-el x-el-div c1-1 c1-2 c1-4 c1-s c1-cw c1-b c1-c c1-3m c1-d c1-1y c1-e c1-f c1-g\"><h4 role=\"heading\" aria-level=\"4\" data-ux=\"ContentCardHeading\" data-aid=\"CONTENT_HEADLINE3_RENDERED\" data-typography=\"HeadingGamma\" data-font-scaled=\"true\" class=\"x-el x-el-h4 c1-1 c1-2p c1-1t c1-1k c1-1l c1-8x c1-5k c1-5l c1-1n c1-1o c1-8v c1-6x c1-5t c1-7j c1-2r c1-1c c1-29 c1-cx c1-2a c1-2b c1-2c c1-2d\">Preschool</h4><h4 role=\"heading\" aria-level=\"4\" data-ux=\"ContentCardHeading\" data-typography=\"HeadingGamma\" data-font-scaled=\"true\" class=\"x-el x-el-h4 c1-1 c1-2p c1-1t c1-1k c1-1l c1-8x c1-5k c1-5l c1-1n c1-t c1-5u c1-4f c1-8v c1-6x c1-5t c1-7j c1-2r c1-1c c1-29 c1-2a c1-cy c1-2b c1-2c c1-2d\">Preschool</h4><h4 role=\"heading\" aria-level=\"4\" data-ux=\"ContentCardHeading\" data-typography=\"HeadingGamma\" data-font-scaled=\"true\" class=\"x-el x-el-h4 c1-1 c1-2p c1-1t c1-1k c1-1l c1-8x c1-5k c1-5l c1-1n c1-t c1-5u c1-4f c1-8v c1-6x c1-5t c1-7j c1-2r c1-1c c1-29 c1-cz c1-2a c1-2b c1-2c c1-2d\">After School</h4></div><div data-ux=\"ContentCardWrapperImage\" class=\"x-el x-el-div c1-1 c1-2 c1-2q c1-10 c1-11 c1-1p c1-4 c1-d0 c1-b c1-c c1-d c1-e c1-f c1-g\"><a data-ux=\"Element\" href=\"/pre-school-1\" target=\"\" rel=\"\" data-page=\"1d2025a5-f394-4ad4-a492-c765a1cdcf62\" class=\"x-el x-el-a c1-1 c1-2 c1-2g c1-2i c1-b c1-c c1-d c1-e c1-f c1-g\"><img data-lazyimg=\"true\" data-srclazy=\"//img1.wsimg.com/isteam/ip/3373a061-5c71-4743-91b3-d0f1ecdee87a/pschool-thumb.jpg/:/cr=t:0%25,l:0%25,w:100%25,h:100%25/rs=w:388,cg:true\" src=\"data:image/gif;base64,R0lGODlhAQABAAD/ACwAAAAAAQABAAACADs=\" srcSet=\"//img1.wsimg.com/isteam/ip/static/transparent_placeholder.png/:/rs=w:388,h:291,cg:true,m,i:true/qt=q:1/ll=n:true 451w, //img1.wsimg.com/isteam/ip/static/transparent_placeholder.png/:/rs=w:388,h:291,cg:true,m,i:true/qt=q:1/ll=n:true 768w, //img1.wsimg.com/isteam/ip/static/transparent_placeholder.png/:/rs=w:388,h:291,cg:true,m,i:true/qt=q:1/ll=n:true 1024w, //img1.wsimg.com/isteam/ip/static/transparent_placeholder.png/:/rs=w:388,h:291,cg:true,m,i:true/qt=q:1/ll=n:true 1280w, //img1.wsimg.com/isteam/ip/static/transparent_placeholder.png/:/rs=w:388,h:291,cg:true,m,i:true/qt=q:1/ll=n:true 1536w\" sizes=\"(min-width: 451px) and (max-width: 767px) 767px, (min-width: 768px) and (max-width: 1023px) 1023px, (min-width: 1024px) and (max-width: 1279px) 1279px, (min-width: 1280px) and (max-width: 1535px) 1535px, (min-width: 1536px) 1536px\" data-srcsetlazy=\"//img1.wsimg.com/isteam/ip/3373a061-5c71-4743-91b3-d0f1ecdee87a/pschool-thumb.jpg/:/cr=t:0%25,l:0%25,w:100%25,h:100%25/rs=w:388,cg:true, //img1.wsimg.com/isteam/ip/3373a061-5c71-4743-91b3-d0f1ecdee87a/pschool-thumb.jpg/:/cr=t:0%25,l:0%25,w:100%25,h:100%25/rs=w:400,cg:true 2x\" alt=\"Child learning at Willow Bend Learning Center\" data-ux=\"Image\" data-aid=\"CONTENT_IMAGE3_RENDERED\" class=\"x-el x-el-img c1-1 c1-2 c1-4 c1-14 c1-10 c1-11 c1-1n c1-1o c1-37 c1-an c1-49 c1-b c1-c c1-ao c1-d1 c1-d c1-e c1-f c1-g\"/></a></div></div></div><div data-ux=\"GridCell\" class=\"x-el x-el-div c1-1 c1-2 c1-a3 c1-8h c1-ab c1-ac c1-14 c1-31 c1-ad c1-5i c1-ae c1-15 c1-b c1-c c1-cu c1-cv c1-ah c1-ai c1-cc c1-ak c1-d c1-al c1-am c1-e c1-f c1-g\"><div data-ux=\"ContentCard\" class=\"x-el x-el-div x-el c1-1 c1-2 c1-s c1-15 c1-77 c1-16 c1-1p c1-24 c1-4 c1-as c1-au c1-av c1-8h c1-v c1-20 c1-1z c1-b c1-c c1-aw c1-ax c1-d c1-e c1-f c1-g c1-1 c1-2 c1-b c1-c c1-d c1-e c1-f c1-g\"><div data-ux=\"Block\" class=\"x-el x-el-div c1-1 c1-2 c1-4 c1-s c1-cw c1-b c1-c c1-3m c1-d c1-1y c1-e c1-f c1-g\"><h4 role=\"heading\" aria-level=\"4\" data-ux=\"ContentCardHeading\" data-aid=\"CONTENT_HEADLINE4_RENDERED\" data-typography=\"HeadingGamma\" data-font-scaled=\"true\" class=\"x-el x-el-h4 c1-1 c1-2p c1-1t c1-1k c1-1l c1-8x c1-5k c1-5l c1-1n c1-1o c1-8v c1-6x c1-5t c1-7j c1-2r c1-1c c1-29 c1-cx c1-2a c1-2b c1-2c c1-2d\">After School</h4><h4 role=\"heading\" aria-level=\"4\" data-ux=\"ContentCardHeading\" data-typography=\"HeadingGamma\" data-font-scaled=\"true\" class=\"x-el x-el-h4 c1-1 c1-2p c1-1t c1-1k c1-1l c1-8x c1-5k c1-5l c1-1n c1-t c1-5u c1-4f c1-8v c1-6x c1-5t c1-7j c1-2r c1-1c c1-29 c1-2a c1-cy c1-2b c1-2c c1-2d\">After School</h4><h4 role=\"heading\" aria-level=\"4\" data-ux=\"ContentCardHeading\" data-typography=\"HeadingGamma\" data-font-scaled=\"true\" class=\"x-el x-el-h4 c1-1 c1-2p c1-1t c1-1k c1-1l c1-8x c1-5k c1-5l c1-1n c1-t c1-5u c1-4f c1-8v c1-6x c1-5t c1-7j c1-2r c1-1c c1-29 c1-cz c1-2a c1-2b c1-2c c1-2d\">After School</h4></div><div data-ux=\"ContentCardWrapperImage\" class=\"x-el x-el-div c1-1 c1-2 c1-2q c1-10 c1-11 c1-1p c1-4 c1-d0 c1-b c1-c c1-d c1-e c1-f c1-g\"><a data-ux=\"Element\" href=\"/after-school-1\" target=\"\" rel=\"\" data-page=\"91eb0200-513e-4880-b735-19c50d39d3d6\" class=\"x-el x-el-a c1-1 c1-2 c1-2g c1-2i c1-b c1-c c1-d c1-e c1-f c1-g\"><img data-lazyimg=\"true\" data-srclazy=\"//img1.wsimg.com/isteam/ip/3373a061-5c71-4743-91b3-d0f1ecdee87a/aschool-thumb.jpg/:/cr=t:0%25,l:0%25,w:100%25,h:100%25/rs=w:388,cg:true\" src=\"data:image/gif;base64,R0lGODlhAQABAAD/ACwAAAAAAQABAAACADs=\" srcSet=\"//img1.wsimg.com/isteam/ip/static/transparent_placeholder.png/:/rs=w:388,h:291,cg:true,m,i:true/qt=q:1/ll=n:true 451w, //img1.wsimg.com/isteam/ip/static/transparent_placeholder.png/:/rs=w:388,h:291,cg:true,m,i:true/qt=q:1/ll=n:true 768w, //img1.wsimg.com/isteam/ip/static/transparent_placeholder.png/:/rs=w:388,h:291,cg:true,m,i:true/qt=q:1/ll=n:true 1024w, //img1.wsimg.com/isteam/ip/static/transparent_placeholder.png/:/rs=w:388,h:291,cg:true,m,i:true/qt=q:1/ll=n:true 1280w, //img1.wsimg.com/isteam/ip/static/transparent_placeholder.png/:/rs=w:388,h:291,cg:true,m,i:true/qt=q:1/ll=n:true 1536w\" sizes=\"(min-width: 451px) and (max-width: 767px) 767px, (min-width: 768px) and (max-width: 1023px) 1023px, (min-width: 1024px) and (max-width: 1279px) 1279px, (min-width: 1280px) and (max-width: 1535px) 1535px, (min-width: 1536px) 1536px\" data-srcsetlazy=\"//img1.wsimg.com/isteam/ip/3373a061-5c71-4743-91b3-d0f1ecdee87a/aschool-thumb.jpg/:/cr=t:0%25,l:0%25,w:100%25,h:100%25/rs=w:388,cg:true, //img1.wsimg.com/isteam/ip/3373a061-5c71-4743-91b3-d0f1ecdee87a/aschool-thumb.jpg/:/cr=t:0%25,l:0%25,w:100%25,h:100%25/rs=w:400,cg:true 2x\" alt=\"Child on slide at Willow Bend Learning Center\" data-ux=\"Image\" class=\"x-el x-el-img c1-1 c1-2 c1-4 c1-14 c1-10 c1-11 c1-1n c1-1o c1-37 c1-an c1-49 c1-b c1-c c1-ao c1-d1 c1-d c1-e c1-f c1-g\"/></a></div></div></div><div data-ux=\"GridCell\" class=\"x-el x-el-div c1-1 c1-2 c1-a3 c1-8h c1-ab c1-ac c1-14 c1-31 c1-ad c1-5i c1-ae c1-15 c1-b c1-c c1-cu c1-cv c1-ah c1-ai c1-cc c1-ak c1-d c1-al c1-am c1-e c1-f c1-g\"><div data-ux=\"ContentCard\" class=\"x-el x-el-div x-el c1-1 c1-2 c1-s c1-15 c1-77 c1-16 c1-1p c1-24 c1-4 c1-as c1-au c1-av c1-8h c1-v c1-20 c1-1z c1-b c1-c c1-aw c1-ax c1-d c1-e c1-f c1-g c1-1 c1-2 c1-b c1-c c1-d c1-e c1-f c1-g\"><div data-ux=\"Block\" class=\"x-el x-el-div c1-1 c1-2 c1-4 c1-s c1-cw c1-b c1-c c1-3m c1-d c1-1y c1-e c1-f c1-g\"><h4 role=\"heading\" aria-level=\"4\" data-ux=\"ContentCardHeading\" data-aid=\"CONTENT_HEADLINE5_RENDERED\" data-typography=\"HeadingGamma\" data-font-scaled=\"true\" class=\"x-el x-el-h4 c1-1 c1-2p c1-1t c1-1k c1-1l c1-8x c1-5k c1-5l c1-1n c1-1o c1-8v c1-6x c1-5t c1-7j c1-2r c1-1c c1-29 c1-cx c1-2a c1-2b c1-2c c1-2d\">Summer Camp</h4><h4 role=\"heading\" aria-level=\"4\" data-ux=\"ContentCardHeading\" data-typography=\"HeadingGamma\" data-font-scaled=\"true\" class=\"x-el x-el-h4 c1-1 c1-2p c1-1t c1-1k c1-1l c1-8x c1-5k c1-5l c1-1n c1-t c1-5u c1-4f c1-8v c1-6x c1-5t c1-7j c1-2r c1-1c c1-29 c1-2a c1-cy c1-2b c1-2c c1-2d\">After School</h4><h4 role=\"heading\" aria-level=\"4\" data-ux=\"ContentCardHeading\" data-typography=\"HeadingGamma\" data-font-scaled=\"true\" class=\"x-el x-el-h4 c1-1 c1-2p c1-1t c1-1k c1-1l c1-8x c1-5k c1-5l c1-1n c1-t c1-5u c1-4f c1-8v c1-6x c1-5t c1-7j c1-2r c1-1c c1-29 c1-cz c1-2a c1-2b c1-2c c1-2d\">Summer Camp</h4></div><div data-ux=\"ContentCardWrapperImage\" class=\"x-el x-el-div c1-1 c1-2 c1-2q c1-10 c1-11 c1-1p c1-4 c1-d0 c1-b c1-c c1-d c1-e c1-f c1-g\"><a data-ux=\"Element\" href=\"/summer-camp\" target=\"\" rel=\"\" data-page=\"388786b2-fc5f-4bdc-8613-24096d1c7527\" class=\"x-el x-el-a c1-1 c1-2 c1-2g c1-2i c1-b c1-c c1-d c1-e c1-f c1-g\"><img data-lazyimg=\"true\" data-srclazy=\"//img1.wsimg.com/isteam/ip/3373a061-5c71-4743-91b3-d0f1ecdee87a/enrichment-thumb.jpg/:/cr=t:0%25,l:0%25,w:100%25,h:100%25/rs=w:388,cg:true\" src=\"data:image/gif;base64,R0lGODlhAQABAAD/ACwAAAAAAQABAAACADs=\" srcSet=\"//img1.wsimg.com/isteam/ip/static/transparent_placeholder.png/:/rs=w:388,h:291,cg:true,m,i:true/qt=q:1/ll=n:true 451w, //img1.wsimg.com/isteam/ip/static/transparent_placeholder.png/:/rs=w:388,h:291,cg:true,m,i:true/qt=q:1/ll=n:true 768w, //img1.wsimg.com/isteam/ip/static/transparent_placeholder.png/:/rs=w:388,h:291,cg:true,m,i:true/qt=q:1/ll=n:true 1024w, //img1.wsimg.com/isteam/ip/static/transparent_placeholder.png/:/rs=w:388,h:291,cg:true,m,i:true/qt=q:1/ll=n:true 1280w, //img1.wsimg.com/isteam/ip/static/transparent_placeholder.png/:/rs=w:388,h:291,cg:true,m,i:true/qt=q:1/ll=n:true 1536w\" sizes=\"(min-width: 451px) and (max-width: 767px) 767px, (min-width: 768px) and (max-width: 1023px) 1023px, (min-width: 1024px) and (max-width: 1279px) 1279px, (min-width: 1280px) and (max-width: 1535px) 1535px, (min-width: 1536px) 1536px\" data-srcsetlazy=\"//img1.wsimg.com/isteam/ip/3373a061-5c71-4743-91b3-d0f1ecdee87a/enrichment-thumb.jpg/:/cr=t:0%25,l:0%25,w:100%25,h:100%25/rs=w:388,cg:true, //img1.wsimg.com/isteam/ip/3373a061-5c71-4743-91b3-d0f1ecdee87a/enrichment-thumb.jpg/:/cr=t:0%25,l:0%25,w:100%25,h:100%25/rs=w:400,cg:true 2x\" alt=\"Children showing their arts &amp; crafts at Willow Bend Learning Center\" data-ux=\"Image\" class=\"x-el x-el-img c1-1 c1-2 c1-4 c1-14 c1-10 c1-11 c1-1n c1-1o c1-37 c1-an c1-49 c1-b c1-c c1-ao c1-d1 c1-d c1-e c1-f c1-g\"/></a></div></div></div></div></div></section>  </div></div></div><div id=\"a6401657-e0a6-436b-902b-bfc938922a9b\" class=\"widget widget-appointments widget-appointments-appointments-2\"><div data-ux=\"Widget\" role=\"region\" id=\"a6401657-e0a6-436b-902b-bfc938922a9b\" class=\"x-el x-el-div x-el c1-1 c1-2 c1-3 c1-b c1-c c1-d c1-e c1-f c1-g c1-1 c1-2 c1-b c1-c c1-d c1-e c1-f c1-g\"><div> <div data-ux=\"Element\" id=\"bs-15\" class=\"x-el x-el-div c1-1 c1-2 c1-d2 c1-b c1-c c1-d c1-e c1-f c1-g\"><div style=\"min-height:100vh\"></div></div>  </div></div></div><div id=\"a723dbbb-f8c1-4cf3-9b6e-78b45db09156\" class=\"widget widget-content widget-content-content-1\"><div data-ux=\"Widget\" role=\"region\" id=\"a723dbbb-f8c1-4cf3-9b6e-78b45db09156\" class=\"x-el x-el-div x-el c1-1 c1-2 c1-v c1-b c1-c c1-d c1-e c1-f c1-g c1-1 c1-2 c1-b c1-c c1-d c1-e c1-f c1-g\"><div> <section data-ux=\"Section\" class=\"x-el x-el-section c1-1 c1-2 c1-v c1-h c1-i c1-b c1-c c1-q c1-r c1-d c1-e c1-f c1-g\"><div data-ux=\"Container\" class=\"x-el x-el-div c1-1 c1-2 c1-10 c1-11 c1-12 c1-13 c1-14 c1-b c1-c c1-18 c1-d c1-19 c1-e c1-1a c1-f c1-1b c1-g\"><h2 role=\"heading\" aria-level=\"2\" data-ux=\"SectionHeading\" data-aid=\"CONTENT_SECTION_TITLE_RENDERED\" data-typography=\"HeadingAlpha\" data-font-scaled=\"true\" class=\"x-el x-el-h2 c1-1 c1-2p c1-1t c1-1k c1-1l c1-8w c1-5k c1-5l c1-1n c1-t c1-4r c1-2r c1-1c c1-7e c1-c3 c1-7f c1-7g c1-7h c1-7i\"><span data-ux=\"Element\" class=\"\">What makes WBLC the best childcare center in Plano?</span></h2><div data-ux=\"Grid\" class=\"x-el x-el-div c1-1 c1-2 c1-15 c1-a3 c1-a4 c1-98 c1-1n c1-a5 c1-1o c1-a6 c1-4r c1-17 c1-b c1-c c1-a7 c1-a8 c1-a9 c1-aa c1-d c1-e c1-f c1-g\"><div data-ux=\"GridCell\" class=\"x-el x-el-div c1-1 c1-2 c1-a3 c1-8h c1-ab c1-ac c1-14 c1-31 c1-ad c1-33 c1-ae c1-b c1-c c1-af c1-ag c1-ah c1-ai c1-aj c1-ak c1-d c1-al c1-am c1-e c1-f c1-g\"><div data-ux=\"Block\" class=\"x-el x-el-div c1-1 c1-2 c1-1p c1-b c1-c c1-d c1-e c1-f c1-g\"><span data-ux=\"Element\" class=\"x-el x-el-span c1-1 c1-2 c1-b c1-c c1-d c1-e c1-f c1-g\"><img data-lazyimg=\"true\" data-srclazy=\"//img1.wsimg.com/isteam/ip/3373a061-5c71-4743-91b3-d0f1ecdee87a/wblc%20pic%206.jpeg/:/rs=w:400,cg:true,m\" src=\"data:image/gif;base64,R0lGODlhAQABAAD/ACwAAAAAAQABAAACADs=\" srcSet=\"//img1.wsimg.com/isteam/ip/static/transparent_placeholder.png/:/rs=w:400,h:533,cg:true,m,i:true/qt=q:1/ll=n:true 451w, //img1.wsimg.com/isteam/ip/static/transparent_placeholder.png/:/rs=w:400,h:533,cg:true,m,i:true/qt=q:1/ll=n:true 768w, //img1.wsimg.com/isteam/ip/static/transparent_placeholder.png/:/rs=w:400,h:533,cg:true,m,i:true/qt=q:1/ll=n:true 1024w, //img1.wsimg.com/isteam/ip/static/transparent_placeholder.png/:/rs=w:400,h:533,cg:true,m,i:true/qt=q:1/ll=n:true 1280w, //img1.wsimg.com/isteam/ip/static/transparent_placeholder.png/:/rs=w:400,h:533,cg:true,m,i:true/qt=q:1/ll=n:true 1536w\" sizes=\"(min-width: 451px) and (max-width: 767px) 767px, (min-width: 768px) and (max-width: 1023px) 1023px, (min-width: 1024px) and (max-width: 1279px) 1279px, (min-width: 1280px) and (max-width: 1535px) 1535px, (min-width: 1536px) 1536px\" data-srcsetlazy=\"//img1.wsimg.com/isteam/ip/3373a061-5c71-4743-91b3-d0f1ecdee87a/wblc%20pic%206.jpeg/:/rs=w:400,cg:true,m, //img1.wsimg.com/isteam/ip/3373a061-5c71-4743-91b3-d0f1ecdee87a/wblc%20pic%206.jpeg/:/rs=w:720,cg:true,m 2x\" data-ux=\"Image\" data-aid=\"CONTENT_IMAGE1_RENDERED\" class=\"x-el x-el-img c1-1 c1-2 c1-4 c1-14 c1-10 c1-11 c1-1n c1-7m c1-37 c1-d3 c1-2q c1-49 c1-b c1-c c1-d4 c1-d c1-ap c1-e c1-f c1-g\"/></span></div></div><div data-ux=\"GridCell\" class=\"x-el x-el-div c1-1 c1-2 c1-a3 c1-8h c1-ab c1-ac c1-14 c1-31 c1-ad c1-33 c1-ae c1-15 c1-16 c1-b c1-c c1-af c1-ag c1-ah c1-ai c1-aj c1-ak c1-d c1-aq c1-ar c1-e c1-f c1-g\"><div data-ux=\"ContentBasic\" id=\"6c59c9ae-d411-4a2f-817b-f90f65251b27\" class=\"x-el x-el-div x-el c1-1 c1-2 c1-15 c1-77 c1-4 c1-as c1-at c1-4r c1-au c1-av c1-b c1-c c1-aw c1-ax c1-d c1-e c1-f c1-g c1-1 c1-2 c1-b c1-c c1-d c1-e c1-f c1-g\"><div data-ux=\"ContentText\" alignment=\"left\" data-aid=\"CONTENT_DESCRIPTION1_RENDERED\" fontScaleMultiplier=\"1.26\" data-typography=\"BodyAlpha\" data-font-scaled=\"true\" class=\"x-el c1-1 c1-2 c1-1k c1-1l c1-1m c1-1n c1-1o c1-ay c1-az c1-b0 c1-b1 c1-b2 c1-b3 c1-b4 c1-b5 c1-b6 c1-b7 c1-b8 c1-b9 c1-ba c1-bb c1-bc c1-bd c1-be c1-bf c1-bg c1-bh c1-bi c1-bj c1-bk c1-bl c1-bm c1-bn c1-bo c1-bp c1-8h c1-b c1-bq c1-br c1-1t c1-bs c1-bt c1-bu c1-bv c1-bw c1-bx c1-by x-rt\"><p style=\"margin:0\"><span>Finding the perfect childcare in Plano, Texas can feel overwhelming.&nbsp;</span></p><p style=\"margin:0\"><span><br></span></p><p style=\"margin:0\"><span><strong class=\"x-el x-el-span c1-2e c1-2f c1-b c1-2k c1-69 c1-5h c1-bz\">Willow Bend Learning Center</strong> stands out with our commitment to fostering a nurturing environment where your child thrives. We offer daycare, preschool, and <strong class=\"x-el x-el-span c1-2e c1-2f c1-b c1-2k c1-69 c1-5h c1-bz\">Montessori</strong> programs, along with enriching <strong class=\"x-el x-el-span c1-2e c1-2f c1-b c1-2k c1-69 c1-5h c1-bz\">summer camps</strong>.</span></p><p style=\"margin:0\"><span><br></span></p><p style=\"margin:0\"><span><strong class=\"x-el x-el-span c1-2e c1-2f c1-b c1-2k c1-69 c1-5h c1-bz\">Why Choose Willow Bend Learning Center?</strong></span></p><p style=\"margin:0\"><span><br></span></p><p style=\"margin:0\"><span>Many Plano daycare centers and preschools fall short. Here's what sets us apart:</span></p><p style=\"margin:0\"><span><br></span></p><p style=\"margin:0\"><ul>\n",
            "  <li><strong class=\"x-el x-el-span c1-2e c1-2f c1-b c1-2k c1-69 c1-5h c1-bz\">Safety First:</strong> We prioritize a safe and secure environment with childproofing and warm, inviting spaces.</li>\n",
            "  <li><strong class=\"x-el x-el-span c1-2e c1-2f c1-b c1-2k c1-69 c1-5h c1-bz\">Exceptional Teachers:</strong> &nbsp;Our experienced educators create a space for open communication, celebrate individuality, and use positive reinforcement.</li>\n",
            "  <li><strong class=\"x-el x-el-span c1-2e c1-2f c1-b c1-2k c1-69 c1-5h c1-bz\">Montessori &amp; Play-Based Learning:</strong> &nbsp;We combine the <strong class=\"x-el x-el-span c1-2e c1-2f c1-b c1-2k c1-69 c1-5h c1-bz\">Montessori</strong> method with a focus on exploration and play through age-appropriate activities and ample outdoor time.</li>\n",
            "  <li><strong class=\"x-el x-el-span c1-2e c1-2f c1-b c1-2k c1-69 c1-5h c1-bz\">Nurturing Environment:</strong> We foster a sense of belonging with group activities, celebrate achievements, and encourage independence with clear expectations.</li>\n",
            "  <li><strong class=\"x-el x-el-span c1-2e c1-2f c1-b c1-2k c1-69 c1-5h c1-bz\">Mindfulness &amp; Self-Care:</strong> We introduce mindfulness practices and healthy habits to support emotional regulation and well-being.</li>\n",
            "  <li><strong class=\"x-el x-el-span c1-2e c1-2f c1-b c1-2k c1-69 c1-5h c1-bz\">Summer Camp Fun:</strong> &nbsp;Our summer camps offer engaging activities that keep learning alive during breaks.</li>\n",
            "</ul></p><p style=\"margin:0\"><span><br></span></p><p style=\"margin:0\"><span><br></span></p><p style=\"margin:0\"><span><strong class=\"x-el x-el-span c1-2e c1-2f c1-b c1-2k c1-69 c1-5h c1-bz\">10 Signs You're in a Top Plano Childcare Center:</strong></span></p><p style=\"margin:0\"><span><br></span></p><p style=\"margin:0\"><span><br></span></p><p style=\"margin:0\"><ul>\n",
            "  <li><strong class=\"x-el x-el-span c1-2e c1-2f c1-b c1-2k c1-69 c1-5h c1-bz\">Safe and Welcoming Space</strong> childproofing, bright colors, secure outdoor play area</li>\n",
            "  <li><strong class=\"x-el x-el-span c1-2e c1-2f c1-b c1-2k c1-69 c1-5h c1-bz\">Open Communication</strong> active listening, opportunities for self-expression</li>\n",
            "  <li><strong class=\"x-el x-el-span c1-2e c1-2f c1-b c1-2k c1-69 c1-5h c1-bz\">Sense of Belonging</strong> teamwork activities, celebrating individuality</li>\n",
            "  <li><strong class=\"x-el x-el-span c1-2e c1-2f c1-b c1-2k c1-69 c1-5h c1-bz\">Exploration and Play</strong> age-appropriate toys, access to nature</li>\n",
            "  <li><strong class=\"x-el x-el-span c1-2e c1-2f c1-b c1-2k c1-69 c1-5h c1-bz\">Positive Reinforcement</strong> encouragement, celebrating achievements</li>\n",
            "  <li><strong class=\"x-el x-el-span c1-2e c1-2f c1-b c1-2k c1-69 c1-5h c1-bz\">Clear Boundaries</strong> age-appropriate rules, visual aids for expectations</li>\n",
            "  <li><strong class=\"x-el x-el-span c1-2e c1-2f c1-b c1-2k c1-69 c1-5h c1-bz\">Encouraging Independence</strong> age-appropriate choices, building life skills</li>\n",
            "  <li><strong class=\"x-el x-el-span c1-2e c1-2f c1-b c1-2k c1-69 c1-5h c1-bz\">Teachers Show Affection</strong> high-fives, modeling gentle interactions</li>\n",
            "  <li><strong class=\"x-el x-el-span c1-2e c1-2f c1-b c1-2k c1-69 c1-5h c1-bz\">Mindfulness &amp; Self-Care</strong> deep breathing exercises, healthy habits</li>\n",
            "  <li><strong class=\"x-el x-el-span c1-2e c1-2f c1-b c1-2k c1-69 c1-5h c1-bz\">Support When Needed</strong> open communication with parents, access to resources</li>\n",
            "</ul></p><p style=\"margin:0\"><span><br></span></p><p style=\"margin:0\"><span><br></span></p><p style=\"margin:0\"><span>Ready to discover the Willow Bend Learning Center difference? Contact us today for a tour!&nbsp;</span></p><p style=\"margin:0\"><span><br></span></p><p style=\"margin:0\"><span>We're confident you'll see why we're a top-rated childcare center in Plano, Texas, offering daycare, preschool, Montessori programs, and summer camps!</span></p></div></div></div></div></div></section>  </div></div></div><div id=\"5046628a-9392-494a-b049-8b6aa460ccfc\" class=\"widget widget-content widget-content-content-1\"><div data-ux=\"Widget\" role=\"region\" id=\"5046628a-9392-494a-b049-8b6aa460ccfc\" class=\"x-el x-el-div x-el c1-1 c1-2 c1-3 c1-b c1-c c1-d c1-e c1-f c1-g c1-1 c1-2 c1-b c1-c c1-d c1-e c1-f c1-g\"><div> <section data-ux=\"Section\" class=\"x-el x-el-section c1-1 c1-2 c1-3 c1-h c1-i c1-b c1-c c1-q c1-r c1-d c1-e c1-f c1-g\"><div data-ux=\"Container\" class=\"x-el x-el-div c1-1 c1-2 c1-10 c1-11 c1-12 c1-13 c1-14 c1-b c1-c c1-18 c1-d c1-19 c1-e c1-1a c1-f c1-1b c1-g\"><div data-ux=\"Grid\" class=\"x-el x-el-div c1-1 c1-2 c1-15 c1-a3 c1-a4 c1-98 c1-1n c1-a5 c1-1o c1-a6 c1-4r c1-17 c1-b c1-c c1-a7 c1-a8 c1-a9 c1-aa c1-d c1-e c1-f c1-g\"><div data-ux=\"GridCell\" class=\"x-el x-el-div c1-1 c1-2 c1-a3 c1-8h c1-ab c1-ac c1-14 c1-31 c1-ad c1-33 c1-ae c1-b c1-c c1-af c1-ag c1-ah c1-ai c1-aj c1-ak c1-d c1-al c1-am c1-e c1-f c1-g\"><div data-ux=\"Block\" class=\"x-el x-el-div c1-1 c1-2 c1-1p c1-b c1-c c1-d c1-e c1-f c1-g\"><span data-ux=\"Element\" class=\"x-el x-el-span c1-1 c1-2 c1-b c1-c c1-d c1-e c1-f c1-g\"><picture data-lazyimg=\"true\" class=\"x-el x-el-picture c1-1 c1-2 c1-4 c1-6y c1-1p c1-d5 c1-35 c1-b c1-c c1-d c1-e c1-f c1-g\"><img data-ux=\"Image\" data-lazyimg=\"true\" data-srclazy=\"//img1.wsimg.com/isteam/ip/3373a061-5c71-4743-91b3-d0f1ecdee87a/download.png/:/cr=t:0%25,l:0%25,w:100%25,h:100%25/rs=w:400,h:400,cg:true\" src=\"data:image/gif;base64,R0lGODlhAQABAAD/ACwAAAAAAQABAAACADs=\" srcSet=\"//img1.wsimg.com/isteam/ip/static/transparent_placeholder.png/:/rs=w:400,h:400,cg:true,m,i:true/qt=q:1/ll=n:true 451w, //img1.wsimg.com/isteam/ip/static/transparent_placeholder.png/:/rs=w:400,h:400,cg:true,m,i:true/qt=q:1/ll=n:true 768w, //img1.wsimg.com/isteam/ip/static/transparent_placeholder.png/:/rs=w:400,h:400,cg:true,m,i:true/qt=q:1/ll=n:true 1024w, //img1.wsimg.com/isteam/ip/static/transparent_placeholder.png/:/rs=w:400,h:400,cg:true,m,i:true/qt=q:1/ll=n:true 1280w, //img1.wsimg.com/isteam/ip/static/transparent_placeholder.png/:/rs=w:400,h:400,cg:true,m,i:true/qt=q:1/ll=n:true 1536w\" sizes=\"(min-width: 451px) and (max-width: 767px) 767px, (min-width: 768px) and (max-width: 1023px) 1023px, (min-width: 1024px) and (max-width: 1279px) 1279px, (min-width: 1280px) and (max-width: 1535px) 1535px, (min-width: 1536px) 1536px\" alt=\"Willow Bend Learning Center is Licensed by the Department of Family Protective Services (DFPS)\" data-aid=\"CONTENT_IMAGE1_RENDERED\" class=\"x-el x-el-img c1-1 c1-2 c1-4 c1-14 c1-10 c1-11 c1-1n c1-7m c1-37 c1-d6 c1-2q c1-d7 c1-b c1-c c1-d8 c1-d c1-ap c1-e c1-f c1-g\"/></picture></span></div></div><div data-ux=\"GridCell\" class=\"x-el x-el-div c1-1 c1-2 c1-a3 c1-8h c1-ab c1-ac c1-14 c1-31 c1-ad c1-33 c1-ae c1-15 c1-16 c1-b c1-c c1-af c1-ag c1-ah c1-ai c1-aj c1-ak c1-d c1-aq c1-ar c1-e c1-f c1-g\"><div data-ux=\"ContentBasic\" id=\"2587b71e-e908-4755-a6ee-d2e711d8f047\" class=\"x-el x-el-div x-el c1-1 c1-2 c1-15 c1-77 c1-4 c1-as c1-at c1-4r c1-au c1-av c1-b c1-c c1-aw c1-ax c1-d c1-e c1-f c1-g c1-1 c1-2 c1-b c1-c c1-d c1-e c1-f c1-g\"><div data-ux=\"ContentText\" alignment=\"left\" data-aid=\"CONTENT_DESCRIPTION1_RENDERED\" fontScaleMultiplier=\"1.26\" data-typography=\"BodyAlpha\" data-font-scaled=\"true\" class=\"x-el c1-1 c1-2 c1-1k c1-1l c1-1m c1-1n c1-1o c1-ay c1-az c1-b0 c1-b1 c1-b2 c1-b3 c1-b4 c1-b5 c1-b6 c1-b7 c1-b8 c1-b9 c1-ba c1-bb c1-bc c1-bd c1-be c1-bf c1-bg c1-bh c1-bi c1-bj c1-bk c1-bl c1-bm c1-bn c1-bo c1-bp c1-8h c1-b c1-4w c1-br c1-1t c1-bs c1-bt c1-bu c1-bv c1-bw c1-bx c1-by x-rt\"><p style=\"margin:0\"><span>For more information about our preschool programs compliance history, check us out at <a class=\"x-el x-el-a c1-2e c1-2f c1-c2 c1-1k c1-1l c1-2h c1-2i c1-c4 c1-b c1-d9 c1-2l c1-da c1-db\" class=\"x-el x-el-a c1-2e c1-2f c1-c2 c1-1k c1-1l c1-2h c1-2i c1-c4 c1-b c1-d9 c1-2l c1-da c1-db\" href=\"https://childcare.hhs.texas.gov/Public/childcaresearch\" rel=\"noopener\" target=\"_blank\">Texas Department of Family and Protective Services</a></span></p></div></div></div></div></div></section>  </div></div></div><div id=\"aaa503e0-caef-4ad6-a6ad-087063b73a28\" class=\"widget widget-social widget-social-social-1\"><div data-ux=\"Widget\" role=\"region\" id=\"aaa503e0-caef-4ad6-a6ad-087063b73a28\" class=\"x-el x-el-div x-el c1-1 c1-2 c1-9h c1-b c1-c c1-d c1-e c1-f c1-g c1-1 c1-2 c1-b c1-c c1-d c1-e c1-f c1-g\"><div> <section data-ux=\"Section\" class=\"x-el x-el-section c1-1 c1-2 c1-9h c1-h c1-i c1-b c1-c c1-q c1-r c1-d c1-e c1-f c1-g\"><div data-ux=\"Container\" class=\"x-el x-el-div c1-1 c1-2 c1-10 c1-11 c1-12 c1-13 c1-14 c1-31 c1-33 c1-b c1-c c1-18 c1-d c1-19 c1-e c1-1a c1-f c1-1b c1-g\"><div data-ux=\"Intro\" class=\"x-el x-el-div x-el c1-1 c1-2 c1-t c1-4r c1-b c1-c c1-c3 c1-d c1-e c1-f c1-g c1-1 c1-2 c1-b c1-c c1-d c1-e c1-f c1-g\"><h2 role=\"heading\" aria-level=\"2\" data-ux=\"SectionHeading\" data-typography=\"HeadingAlpha\" data-font-scaled=\"true\" class=\"x-el x-el-h2 c1-1 c1-2p c1-1t c1-1k c1-1l c1-8w c1-5k c1-5l c1-1n c1-1o c1-4r c1-2r c1-dc c1-7e c1-c3 c1-7f c1-ap c1-7g c1-7h c1-7i\"><span data-ux=\"Element\" class=\"\">Our Facebook Followers Are The Best 😁</span></h2></div><div data-ux=\"Block\" data-aid=\"SOCIAL_SOCIAL_LINKS\" class=\"x-el x-el-div c1-1 c1-2 c1-15 c1-17 c1-dd c1-de c1-31 c1-33 c1-98 c1-df c1-dg c1-b c1-c c1-d c1-e c1-f c1-g\"><a rel=\"noopener\" role=\"link\" aria-haspopup=\"true\" data-ux=\"Link\" target=\"_blank\" data-aid=\"SOCIAL_FACEBOOK_LINK\" aria-label=\"Facebook Social Link\" href=\"https://www.facebook.com/wblc1/\" data-typography=\"LinkAlpha\" class=\"x-el x-el-a c1-2e c1-2f c1-2g c1-1k c1-1l c1-2h c1-2i c1-dh c1-b c1-di c1-c c1-2l c1-dj c1-dk c1-d c1-e c1-f c1-g\" data-tccl=\"ux2.SOCIAL.social1.Section.Default.Link.Default.49748.click,click\"><svg viewBox=\"0 0 24 24\" fill=\"currentColor\" width=\"40\" height=\"40\" data-ux=\"IconSocial\" class=\"x-el x-el-svg c1-1 c1-2 c1-dc c1-2q c1-37 c1-7v c1-dl c1-6k c1-b c1-c c1-dm c1-dn c1-d c1-do c1-dp c1-dq c1-dr c1-ds c1-dt c1-du c1-dv c1-e c1-f c1-g\"><path d=\"M20 12.047C20 7.603 16.418 4 12 4s-8 3.603-8 8.047c0 4.017 2.925 7.346 6.75 7.95v-5.624H8.719v-2.326h2.031v-1.773c0-2.017 1.194-3.13 3.022-3.13.875 0 1.79.157 1.79.157v1.98h-1.008c-.994 0-1.304.62-1.304 1.257v1.51h2.219l-.355 2.325H13.25v5.624c3.825-.604 6.75-3.933 6.75-7.95z\"></path></svg></a></div></div></section>  </div></div></div><div id=\"fed92281-6fd3-41c2-8f3b-d3db9f51c03b\" class=\"widget widget-footer widget-footer-footer-2\"><div data-ux=\"Widget\" role=\"contentinfo\" id=\"fed92281-6fd3-41c2-8f3b-d3db9f51c03b\" class=\"x-el x-el-div x-el c1-1 c1-2 c1-v c1-b c1-c c1-d c1-e c1-f c1-g c1-1 c1-2 c1-b c1-c c1-d c1-e c1-f c1-g\"><div> <section data-ux=\"Section\" class=\"x-el x-el-section c1-1 c1-2 c1-v c1-70 c1-8i c1-b c1-c c1-q c1-r c1-d c1-e c1-f c1-g\"><div data-ux=\"Divider\" class=\"x-el x-el-div c1-1 c1-2 c1-v c1-23 c1-5i c1-1x c1-b c1-c c1-d c1-e c1-f c1-g\"><div data-ux=\"Container\" class=\"x-el x-el-div c1-1 c1-2 c1-10 c1-11 c1-12 c1-13 c1-14 c1-b c1-c c1-18 c1-d c1-19 c1-e c1-1a c1-f c1-1b c1-g\"><hr aria-hidden=\"true\" role=\"separator\" data-ux=\"DividerHR\" class=\"x-el x-el-hr c1-1 c1-2 c1-dw c1-4y c1-4z c1-1n c1-1o c1-4 c1-b c1-c c1-d c1-e c1-f c1-g\"/></div></div><div data-ux=\"Container\" class=\"x-el x-el-div c1-1 c1-2 c1-10 c1-11 c1-12 c1-13 c1-14 c1-b c1-c c1-18 c1-d c1-19 c1-e c1-1a c1-f c1-1b c1-g\"><div data-ux=\"Layout\" class=\"x-el x-el-div c1-1 c1-2 c1-b c1-c c1-d c1-e c1-f c1-g\"><div data-ux=\"Grid\" class=\"x-el x-el-div c1-1 c1-2 c1-15 c1-a3 c1-a4 c1-98 c1-1n c1-5l c1-1o c1-5k c1-16 c1-1p c1-b c1-c c1-d c1-e c1-f c1-g\"><div data-ux=\"GridCell\" class=\"x-el x-el-div c1-1 c1-2 c1-a3 c1-dx c1-ab c1-ac c1-14 c1-31 c1-32 c1-33 c1-34 c1-b c1-c c1-d c1-dy c1-dz c1-e c1-f c1-g\"><div data-ux=\"FooterDetails\" data-aid=\"FOOTER_COPYRIGHT_RENDERED\" data-typography=\"DetailsGamma\" class=\"x-el c1-e0 c1-1j c1-1k c1-1l c1-1m c1-1n c1-1o c1-b c1-e1 c1-e2 c1-1t c1-e3 c1-e4 c1-e5 c1-e6 c1-e7 x-rt\"><p style=\"margin:0\"><span>Copyright © 2024 Willow Bend Learning Center - All Rights Reserved.</span></p><p style=\"margin:0\"><span><br></span></p><p style=\"margin:0\"><span><a class=\"x-el x-el-a c1-2e c1-2f c1-c2 c1-1k c1-1l c1-2h c1-2i c1-c4 c1-b c1-1s c1-2l c1-e8 c1-e9\" class=\"x-el x-el-a c1-2e c1-2f c1-c2 c1-1k c1-1l c1-2h c1-2i c1-c4 c1-b c1-1s c1-2l c1-e8 c1-e9\" href=\"https://www.privacypolicies.com/live/0366be6b-9501-43bc-b911-b3f85f20040e\" rel=\"noopener\" target=\"_blank\">Privacy Policy</a></span></p><p style=\"margin:0\"><span><br></span></p></div></div></div></div></div></section>  </div></div></div><div id=\"26c66f36-bdb8-41e6-9165-bab88a9dd233\" class=\"widget widget-messaging widget-messaging-messaging-1\"></div><div id=\"9c02c43d-d334-45c2-9e62-ab3564e13130\" class=\"widget widget-cookie-banner widget-cookie-banner-cookie-1\"><div data-ux=\"Group\" data-aid=\"FOOTER_COOKIE_BANNER_RENDERED\" id=\"9c02c43d-d334-45c2-9e62-ab3564e13130-banner\" class=\"x-el x-el-div c1-1 c1-2 c1-6w c1-ci c1-ea c1-4 c1-8a c1-4r c1-v c1-49 c1-4k c1-eb c1-ec c1-ed c1-ee c1-23 c1-13 c1-5i c1-12 c1-1n c1-5l c1-1o c1-5k c1-35 c1-b c1-c c1-ef c1-eg c1-eh c1-ei c1-ej c1-ek c1-el c1-d c1-e c1-f c1-g\"><h4 role=\"heading\" aria-level=\"4\" data-ux=\"Heading\" data-aid=\"FOOTER_COOKIE_TITLE_RENDERED\" data-typography=\"HeadingDelta\" class=\"x-el x-el-h4 c1-em c1-2 c1-1k c1-1l c1-8x c1-5k c1-5l c1-1n c1-1o c1-4t c1-b c1-1c c1-29 c1-1t c1-2a c1-2b c1-2c c1-2d\">This website uses cookies</h4><div data-ux=\"Text\" data-aid=\"FOOTER_COOKIE_MESSAGE_RENDERED\" data-typography=\"BodyAlpha\" class=\"x-el c1-1 c1-2 c1-1k c1-1l c1-1m c1-1n c1-1o c1-en c1-4k c1-b c1-bq c1-c c1-1t c1-eo c1-d c1-e c1-f c1-g x-rt\"><p style=\"margin:0\"><span>We do this to analyze our traffic and optimize your website experience.&nbsp;</span></p></div><div data-ux=\"Block\" class=\"x-el x-el-div c1-1 c1-2 c1-15 c1-22 c1-b c1-c c1-d c1-e c1-f c1-g\"><a data-ux-btn=\"primary\" data-ux=\"ButtonPrimary\" color=\"PRIMARY\" fill=\"SOLID\" shape=\"SQUARE\" decoration=\"NONE\" shadow=\"SHADOW1\" href=\"\" data-aid=\"FOOTER_COOKIE_DECLINE_RENDERED\" id=\"9c02c43d-d334-45c2-9e62-ab3564e13130-decline\" data-typography=\"ButtonAlpha\" class=\"x-el x-el-a c1-5x c1-1j c1-9c c1-15 c1-77 c1-17 c1-2i c1-ep c1-eq c1-er c1-es c1-8h c1-9d c1-16 c1-1p c1-2g c1-1l c1-1k c1-s c1-14 c1-4 c1-4d c1-4e c1-w c1-x c1-et c1-49 c1-9g c1-9h c1-z c1-b c1-5h c1-78 c1-e2 c1-eu c1-9i c1-9j c1-9k c1-n c1-9l c1-9m c1-9n c1-9o c1-9p c1-9q c1-9r c1-9s c1-9t c1-9u c1-9v c1-9w c1-9x c1-9y c1-9z c1-a0 c1-a1 c1-a2 c1-e3 c1-e5 c1-e6 c1-e7\" data-tccl=\"ux2.COOKIE_BANNER.cookie1.Group.Default.Button.Primary.49751.click,click\">No thanks</a><a data-ux-btn=\"primary\" data-ux=\"ButtonPrimary\" color=\"PRIMARY\" fill=\"SOLID\" shape=\"SQUARE\" decoration=\"NONE\" shadow=\"SHADOW1\" href=\"\" data-aid=\"FOOTER_COOKIE_CLOSE_RENDERED\" id=\"9c02c43d-d334-45c2-9e62-ab3564e13130-accept\" data-typography=\"ButtonAlpha\" class=\"x-el x-el-a c1-5x c1-1j c1-9c c1-15 c1-77 c1-17 c1-2i c1-ep c1-eq c1-er c1-es c1-8h c1-9d c1-16 c1-1p c1-2g c1-1l c1-1k c1-s c1-14 c1-4 c1-4d c1-4e c1-w c1-x c1-et c1-49 c1-9g c1-9h c1-z c1-b c1-5h c1-78 c1-e2 c1-eu c1-9i c1-9j c1-9k c1-n c1-9l c1-9m c1-9n c1-9o c1-9p c1-9q c1-9r c1-9s c1-9t c1-9u c1-9v c1-9w c1-9x c1-9y c1-9z c1-a0 c1-a1 c1-a2 c1-e3 c1-e5 c1-e6 c1-e7\" data-tccl=\"ux2.COOKIE_BANNER.cookie1.Group.Default.Button.Primary.49752.click,click\">Accept</a></div></div></div><div id=\"ae24fb2a-2242-4588-be31-687d098634c9\" class=\"widget widget-popup widget-popup-popup-1\"></div></div></div></div>\n",
            "<script type=\"text/javascript\">\"IntersectionObserver\"in window&&\"Intl\"in window&&\"Locale\"in window.Intl||document.write(`\\x3Cscript src=\"https://img1.wsimg.com/poly/v3/polyfill.min.js?rum=0&unknown=polyfill&flags=gated&features=Intl.~locale.en-CA\">\\x3C/script>`)</script>\n",
            "<script src=\"//img1.wsimg.com/blobby/go/3373a061-5c71-4743-91b3-d0f1ecdee87a/gpub/c621f5b3188e7c9c/script.js\" crossorigin></script>\n",
            "<script src=\"//img1.wsimg.com/ceph-p3-01/website-builder-data-prod/static/widgets/UX.4.39.0.js\" crossorigin></script>\n",
            "<script src=\"//img1.wsimg.com/blobby/go/3373a061-5c71-4743-91b3-d0f1ecdee87a/gpub/c909e4b2c803af95/script.js\" crossorigin></script>\n",
            "<script async src=\"https://www.googletagmanager.com/gtag/js?id=G-WT8HKE86QY\" crossorigin></script>\n",
            "<script>\"use strict\";Core.utils.onAllowCookieTracking(() => {var _window$dataLayer, _window$dataLayer$, _window$dataLayer2, _window$dataLayer2$;window.dataLayer && Array.isArray(window.dataLayer) && ((_window$dataLayer = window.dataLayer) === null || _window$dataLayer === void 0 ? void 0 : (_window$dataLayer$ = _window$dataLayer[0]) === null || _window$dataLayer$ === void 0 ? void 0 : _window$dataLayer$[0]) === \"consent\" && ((_window$dataLayer2 = window.dataLayer) === null || _window$dataLayer2 === void 0 ? void 0 : (_window$dataLayer2$ = _window$dataLayer2[0]) === null || _window$dataLayer2$ === void 0 ? void 0 : _window$dataLayer2$[1]) === \"default\" && (window.gtag = window.gtag || function () {window.dataLayer.push(arguments);}, window.gtag(\"consent\", \"update\", {ad_user_data: \"granted\",ad_personalization: \"granted\",ad_storage: \"granted\",analytics_storage: \"granted\"}));});\n",
            "\"use strict\";window.gtag = window.gtag || function () {window.dataLayer.push(arguments);}, gtag(\"js\", new Date()), gtag(\"set\", \"developer_id.dZTZmYj\", !0);\n",
            "\"use strict\";window._commercegaID = \"G-BF2FDR6KMM\", gtag(\"config\", \"G-BF2FDR6KMM\");\n",
            "\"use strict\";window._gaID = \"G-WT8HKE86QY\", gtag(\"config\", \"G-WT8HKE86QY\");\n",
            "\"use strict\";\n",
            "\n",
            "!function (f, b, e, v, n, t, s) {\n",
            "  if (f.fbq) return;\n",
            "\n",
            "  n = f.fbq = function () {\n",
            "    n.callMethod ? n.callMethod.apply(n, arguments) : n.queue.push(arguments);\n",
            "  };\n",
            "\n",
            "  if (!f._fbq) f._fbq = n;\n",
            "  n.push = n;\n",
            "  n.loaded = !0;\n",
            "  n.version = '2.0';\n",
            "  n.queue = [];\n",
            "  t = b.createElement(e);\n",
            "  t.async = !0;\n",
            "\n",
            "  t.onload = () => Core.utils.onAllowCookieTracking(() => f.fbq('consent', 'grant'));\n",
            "\n",
            "  t.src = v;\n",
            "  s = b.getElementsByTagName(e)[0];\n",
            "  s.parentNode.insertBefore(t, s);\n",
            "}(window, document, 'script', 'https://connect.facebook.net/en_US/fbevents.js');\n",
            "fbq('consent', 'revoke');\n",
            "fbq('init', '282429905966327');\n",
            "fbq('track', 'PageView');\n",
            "\n",
            "var t=document.createElement(\"script\");t.type=\"text/javascript\",t.addEventListener(\"load\",()=>{window.tti.calculateTTI(({name:t,value:e}={})=>{let i={\"wam_site_hasPopupWidget\":false,\"wam_site_hasMessagingWidget\":false,\"wam_site_headerTreatment\":\"Inset\",\"wam_site_hasSlideshow\":false,\"wam_site_hasFreemiumBanner\":false,\"wam_site_homepageFirstWidgetType\":\"CONTENT\",\"wam_site_homepageFirstWidgetPreset\":\"content1\",\"wam_site_businessCategory\":\"childcare\",\"wam_site_theme\":\"layout27\",\"wam_site_locale\":\"en-CA\",\"wam_site_fontPack\":\"cantarell\",\"wam_site_cookieBannerEnabled\":true,\"wam_site_membershipEnabled\":true,\"wam_site_hasHomepageHTML\":true,\"wam_site_hasHomepageShop\":false,\"wam_site_hasHomepageOla\":true,\"wam_site_hasHomepageBlog\":false,\"wam_site_hasShop\":false,\"wam_site_hasOla\":true,\"wam_site_planType\":\"businessPlus\",\"wam_site_isHomepage\":true,\"wam_site_htmlWidget\":true};window.networkInfo&&window.networkInfo.downlink&&(i=Object.assign({},i,{[\"wam_site_networkSpeed\"]:window.networkInfo.downlink.toFixed(2)})),window.tti.setCustomProperties(i),window.tti._collectVitals({name:t,value:e})})}),t.setAttribute(\"src\",\"//img1.wsimg.com/traffic-assets/js/tccl-tti.min.js\"),document.body.appendChild(t);</script>\n",
            "<script defer src=\"//img1.wsimg.com/traffic-assets/js/tccl.min.js\" crossorigin></script>\n",
            "<script>Core.utils.onAllowCookieTracking(()=>{let e=window.location.search,l=new URLSearchParams(e),i=l.get(\"gclid\");i&&localStorage.setItem(\"gclid\",i)});</script></body></html>\n"
          ]
        }
      ]
    },
    {
      "cell_type": "markdown",
      "source": [
        "**Using Python And Https Request To Get Website Titles.**\n",
        "\n",
        "Below are some breakdown of the main points involved in executing the code to fetch and print the title of a website using Python.\n",
        "\n",
        "**Introduction to HTTP Requests and Web Scraping**\n",
        "\n",
        "HTTP (Hypertext Transfer Protocol) is the foundation of data communication on the web. When you type a URL into your browser, your browser sends an HTTP request to the server where the website is hosted. The server then responds with the requested resources, such as HTML, images, and other data. This process allows you to view and interact with websites.\n",
        "\n",
        "In web scraping, we automate this process using code to fetch and parse the HTML content of web pages. By doing so, we can extract specific information, such as the title of a website.\n",
        "\n",
        "\n",
        "**How HTTP Requests Work in Web Scraping**\n",
        "\n",
        "**1. Sending an HTTP Request:**\n",
        "\n",
        "We use the **'requests'** library in Python to send an HTTP GET request to a website's server. This request asks the server to send back the HTML content of the webpage.\n",
        "\n",
        "**2. Receiving the Response:**\n",
        "\n",
        "The server responds to our request by sending back the HTML content of the webpage. The **'requests'** library allows us to capture this response, which we can then analyze and parse.\n",
        "\n",
        "**3. Parsing the HTML Content:**\n",
        "\n",
        "Once we have the HTML content, we use the **'BeautifulSoup'** library to parse it.\n",
        "This library provides convenient methods to navigate and search through the HTML structure, allowing us to extract the desired information, such as the title of the webpage.\n",
        "\n",
        "\n",
        "**Points in Executing the Code**\n",
        "\n",
        "**1. Setting Up the Environment**\n",
        "\n",
        "  *   Ensure you have Python installed on your system.\n",
        "  *   Install the required libraries (**'requests'** and **'beautifulsoup4'**) if they are not already installed.\n",
        "\n",
        "**2. Importing Libraries**\n",
        "\n",
        "*   Import the **'requests'** library to handle HTTP requests.\n",
        "*   Import the **'BeautifulSoup'** class from the bs4 module to parse HTML content.\n",
        "\n",
        "**3. Defining the Function**\n",
        "\n",
        "*  Define a function **'get_website_title(url)'** that:\n",
        "\n",
        " *   Takes a URL as input.\n",
        " *   Sends an HTTP GET request to the URL.\n",
        " *   Checks if the request was successful.\n",
        " *   Parses the HTML content of the webpage.\n",
        " *   Extracts and returns the title of the webpage.\n",
        " *   Handles any potential errors gracefully.\n",
        "\n",
        "**4. Setting the URL**\n",
        "\n",
        "*   Define a variable **'url'** to store the URL of the website you want to analyze.\n",
        "   Replace the placeholder URL with the actual URL of the target website.\n",
        "\n",
        "**5. Fetching the Website Title**\n",
        "\n",
        "*   Call the **'get_website_title(url)'** function with the defined URL.\n",
        "*   Store the returned title in a variable **'website_title'**.\n",
        "\n",
        "**6. Displaying the Result**\n",
        "\n",
        "*   Print the title of the website to the console.\n",
        "\n",
        "\n",
        "**Examplanations With Codes**\n",
        "\n",
        "**1. Setting Up the Environment**\n",
        "\n",
        "Ensure you have Python installed on your system. You can download it from python.org.\n",
        "\n",
        "Install the required libraries using 'pip':\n",
        "\n",
        "\n",
        "\n",
        "\n",
        "\n",
        "\n",
        "\n",
        "\n",
        "\n",
        "\n",
        "\n",
        "\n",
        "\n",
        "\n",
        "\n"
      ],
      "metadata": {
        "id": "ik_dzmhoosn9"
      }
    },
    {
      "cell_type": "code",
      "source": [
        "!pip install requests\n",
        "!pip install beautifulsoup4"
      ],
      "metadata": {
        "id": "AiBIF-w17mGX",
        "colab": {
          "base_uri": "https://localhost:8080/"
        },
        "outputId": "239adeac-316a-4819-cb30-97327f5199ad"
      },
      "execution_count": 34,
      "outputs": [
        {
          "output_type": "stream",
          "name": "stdout",
          "text": [
            "Requirement already satisfied: requests in /usr/local/lib/python3.10/dist-packages (2.31.0)\n",
            "Requirement already satisfied: charset-normalizer<4,>=2 in /usr/local/lib/python3.10/dist-packages (from requests) (3.3.2)\n",
            "Requirement already satisfied: idna<4,>=2.5 in /usr/local/lib/python3.10/dist-packages (from requests) (3.7)\n",
            "Requirement already satisfied: urllib3<3,>=1.21.1 in /usr/local/lib/python3.10/dist-packages (from requests) (2.0.7)\n",
            "Requirement already satisfied: certifi>=2017.4.17 in /usr/local/lib/python3.10/dist-packages (from requests) (2024.6.2)\n",
            "Requirement already satisfied: beautifulsoup4 in /usr/local/lib/python3.10/dist-packages (4.12.3)\n",
            "Requirement already satisfied: soupsieve>1.2 in /usr/local/lib/python3.10/dist-packages (from beautifulsoup4) (2.5)\n"
          ]
        }
      ]
    },
    {
      "cell_type": "markdown",
      "source": [
        "**2. Importing Libraries**\n",
        "\n",
        "We start by importing the necessary libraries:"
      ],
      "metadata": {
        "id": "5qOnTLM8-19Q"
      }
    },
    {
      "cell_type": "code",
      "source": [
        "import requests  # Used to send HTTP requests\n",
        "from bs4 import BeautifulSoup  # Used to parse HTML content"
      ],
      "metadata": {
        "id": "u2bqmQfb-94t"
      },
      "execution_count": 35,
      "outputs": []
    },
    {
      "cell_type": "markdown",
      "source": [
        "\n",
        "*   requests: This library allows us to send HTTP requests to fetch data from web servers.\n",
        "*   BeautifulSoup: This library helps us parse and navigate through HTML content.\n",
        "\n",
        "\n",
        "**3. Defining the Function**\n",
        "\n",
        "Define a function that will handle the entire process of fetching and extracting the website title:"
      ],
      "metadata": {
        "id": "RwMm8tCE_AdS"
      }
    },
    {
      "cell_type": "code",
      "source": [
        "def get_website_title(url):\n",
        "    try:\n",
        "        # Send a GET request to the website\n",
        "        response = requests.get(url)\n",
        "\n",
        "        # Check if the request was successful (status code 200)\n",
        "        if response.status_code == 200:\n",
        "            # Parse the HTML content using BeautifulSoup\n",
        "            soup = BeautifulSoup(response.text, 'html.parser')\n",
        "\n",
        "            # Extract the title from the parsed HTML\n",
        "            title = soup.title.string\n",
        "\n",
        "            # Return the title of the website\n",
        "            return title\n",
        "        else:\n",
        "            # If the request was not successful, return a failure message with the status code\n",
        "            return \"Failed to retrieve the webpage. Status code: {}\".format(response.status_code)\n",
        "    except Exception as e:\n",
        "        # If an error occurs, return an error message\n",
        "        return \"An error occurred: {}\".format(e)\n"
      ],
      "metadata": {
        "id": "U85bjiVL_x9N"
      },
      "execution_count": 36,
      "outputs": []
    },
    {
      "cell_type": "markdown",
      "source": [
        "\n",
        "*   Function Input: Takes the URL of the website as input.\n",
        "*   Send HTTP Request: Uses requests.get(url) to fetch the webpage content.\n",
        "*   Check Response Status: Verifies the request was successful by checking response.status_code.\n",
        "*   Parse HTML Content: Uses BeautifulSoup to parse the HTML content.\n",
        "*   Extract Title: Retrieves the content of the 'title' tag.\n",
        "*   Error Handling: Catches and handles any errors that occur during the process.\n",
        "\n",
        "\n",
        "\n",
        "**4. Setting the URL**\n",
        "\n",
        "Define the URL of the website you want to analyze:\n",
        "\n",
        "\n",
        "\n",
        "\n"
      ],
      "metadata": {
        "id": "Wtqu9L4Q_3m9"
      }
    },
    {
      "cell_type": "code",
      "source": [
        "url = 'http://example.com'  # Replace with the actual URL"
      ],
      "metadata": {
        "id": "Ciza_vKlCIhb"
      },
      "execution_count": 37,
      "outputs": []
    },
    {
      "cell_type": "markdown",
      "source": [
        "**5. Fetching the Website Title**\n",
        "\n",
        "Call the function with the URL and store the result:"
      ],
      "metadata": {
        "id": "7qdpOxOBCxks"
      }
    },
    {
      "cell_type": "code",
      "source": [
        "website_title = get_website_title(url)"
      ],
      "metadata": {
        "id": "opfGuJD2C44j"
      },
      "execution_count": 38,
      "outputs": []
    },
    {
      "cell_type": "markdown",
      "source": [
        "**6. Displaying the Result**\n",
        "\n",
        "Print the title of the website to the console:"
      ],
      "metadata": {
        "id": "14bGkl3WC87p"
      }
    },
    {
      "cell_type": "code",
      "source": [
        "print(f\"Website Title: {website_title}\")"
      ],
      "metadata": {
        "id": "IFwBvqTvDFGK",
        "colab": {
          "base_uri": "https://localhost:8080/"
        },
        "outputId": "dab7b0d4-6b42-412e-9ac2-1bd0088607bb"
      },
      "execution_count": 39,
      "outputs": [
        {
          "output_type": "stream",
          "name": "stdout",
          "text": [
            "Website Title: Example Domain\n"
          ]
        }
      ]
    },
    {
      "cell_type": "markdown",
      "source": [
        "By following the steps above, we can fetch and display the title of any website using Python. This process involves sending HTTP requests, parsing HTML content, and extracting specific elements from the HTML.\n",
        "\n",
        "\n",
        "**Complete Code with Explanations**\n",
        "\n",
        "Below is the complete code explanation from all the steps listed above:"
      ],
      "metadata": {
        "id": "CwSQoDfSDSWM"
      }
    },
    {
      "cell_type": "markdown",
      "source": [
        "## Title Proof-of-Concept"
      ],
      "metadata": {
        "id": "6iL5M8lHpl9p"
      }
    },
    {
      "cell_type": "code",
      "source": [
        "import requests\n",
        "from bs4 import BeautifulSoup\n",
        "\n",
        "def get_website_title(url):\n",
        "    try:\n",
        "        response = requests.get(url)\n",
        "        if response.status_code == 200:\n",
        "            soup = BeautifulSoup(response.text, 'html.parser')\n",
        "            title = soup.title.string\n",
        "            return title\n",
        "        else:\n",
        "            return \"Failed to retrieve the webpage. Status code: {}\".format(response.status_code)\n",
        "    except Exception as e:\n",
        "        return \"An error occurred: {}\".format(e)\n",
        "\n",
        "url = 'https://willowbendlc.com'\n",
        "\n",
        "website_title = get_website_title(url)\n",
        "print(f\"Website Title: {website_title}\")\n"
      ],
      "metadata": {
        "id": "szUNU_u5EPpC"
      },
      "execution_count": null,
      "outputs": []
    },
    {
      "cell_type": "markdown",
      "source": [
        "##Breakdown Explanation Of The Enhanced Script\n",
        "\n",
        "1. Importing Libraries:"
      ],
      "metadata": {
        "id": "wdwL79cmMwwf"
      }
    },
    {
      "cell_type": "code",
      "source": [
        "import requests\n",
        "from bs4 import BeautifulSoup\n",
        "import re"
      ],
      "metadata": {
        "id": "4XMa2bgGNAhS"
      },
      "execution_count": null,
      "outputs": []
    },
    {
      "cell_type": "markdown",
      "source": [
        "2. Defining the Function:"
      ],
      "metadata": {
        "id": "AABJf0lbPysI"
      }
    },
    {
      "cell_type": "code",
      "source": [
        "def get_website_info(url):"
      ],
      "metadata": {
        "id": "xEBSSXR8P8GM"
      },
      "execution_count": null,
      "outputs": []
    },
    {
      "cell_type": "markdown",
      "source": [
        "3. Sending an HTTP Request:"
      ],
      "metadata": {
        "id": "p7mYyG66QGt6"
      }
    },
    {
      "cell_type": "code",
      "source": [
        "response = requests.get(url)\n",
        "if response.status_code == 200:\n",
        "    soup = BeautifulSoup(response.text, 'html.parser')\n",
        "else:\n",
        "    return \"Failed to retrieve the webpage. Status code: {}\".format(response.status_code)"
      ],
      "metadata": {
        "id": "1EeqSpSMQO0j"
      },
      "execution_count": null,
      "outputs": []
    },
    {
      "cell_type": "markdown",
      "source": [
        "4. Parsing the Html"
      ],
      "metadata": {
        "id": "T0J5lqLKQZ4O"
      }
    },
    {
      "cell_type": "code",
      "source": [
        "soup = BeautifulSoup(response.text, 'html.parser')"
      ],
      "metadata": {
        "id": "lt9cZn7jQddc"
      },
      "execution_count": null,
      "outputs": []
    },
    {
      "cell_type": "markdown",
      "source": [
        "5. Extracting the Title:"
      ],
      "metadata": {
        "id": "p409E3V3Qjl_"
      }
    },
    {
      "cell_type": "code",
      "source": [
        "title = soup.title.string if soup.title else \"No title found\""
      ],
      "metadata": {
        "id": "woAaHve3Qo8a"
      },
      "execution_count": null,
      "outputs": []
    },
    {
      "cell_type": "markdown",
      "source": [
        "6. Extracting Meta Description and Keywords:"
      ],
      "metadata": {
        "id": "3mlu85jzQ1dy"
      }
    },
    {
      "cell_type": "code",
      "source": [
        "description = soup.find('meta', attrs={'name': 'description'})\n",
        "description = description['content'] if description else \"No meta description found\"\n",
        "\n",
        "keywords = soup.find('meta', attrs={'name': 'keywords'})\n",
        "keywords = keywords['content'] if keywords else \"No meta keywords found\""
      ],
      "metadata": {
        "id": "4m3OZQCBQ640"
      },
      "execution_count": null,
      "outputs": []
    },
    {
      "cell_type": "markdown",
      "source": [
        "7. Calculating Word Counts:"
      ],
      "metadata": {
        "id": "DNN1RdjVRDgz"
      }
    },
    {
      "cell_type": "code",
      "source": [
        "home_page_word_count = len(soup.get_text().split())\n",
        "page_word_count = len(soup.body.get_text().split()) if soup.body else 0"
      ],
      "metadata": {
        "id": "LvuFCTqARJ7X"
      },
      "execution_count": null,
      "outputs": []
    },
    {
      "cell_type": "markdown",
      "source": [
        "8. Counting Videos:"
      ],
      "metadata": {
        "id": "0hPwXHxJRSft"
      }
    },
    {
      "cell_type": "code",
      "source": [
        "video_count = len(soup.find_all('video'))\n",
        "\n"
      ],
      "metadata": {
        "id": "tkzauWDtRYHQ"
      },
      "execution_count": null,
      "outputs": []
    },
    {
      "cell_type": "markdown",
      "source": [
        "9. Estimating Scroll Length:"
      ],
      "metadata": {
        "id": "kljDEIjYReFW"
      }
    },
    {
      "cell_type": "code",
      "source": [
        "##python\n",
        "\n",
        "scroll_length = page_word_count / 100  # Simplistic estimate, adjust as needed\n",
        "\n"
      ],
      "metadata": {
        "id": "KuwRDllqRlxq"
      },
      "execution_count": null,
      "outputs": []
    },
    {
      "cell_type": "markdown",
      "source": [
        "10. Counting Links:"
      ],
      "metadata": {
        "id": "ysRO3l69Rpry"
      }
    },
    {
      "cell_type": "code",
      "source": [
        "##python\n",
        "\n",
        "link_count = len(soup.find_all('a'))\n",
        "\n"
      ],
      "metadata": {
        "id": "EGn_ht9uRubM"
      },
      "execution_count": null,
      "outputs": []
    },
    {
      "cell_type": "markdown",
      "source": [
        "11. Simulating SEO Page Rank:"
      ],
      "metadata": {
        "id": "27s774m8R2R8"
      }
    },
    {
      "cell_type": "code",
      "source": [
        "##python\n",
        "\n",
        "seo_page_rank = \"Simulated SEO Page Rank: 3/10\"  # Placeholder value\n"
      ],
      "metadata": {
        "id": "T9gUoywnR7aF"
      },
      "execution_count": null,
      "outputs": []
    },
    {
      "cell_type": "markdown",
      "source": [
        "12. Counting Images"
      ],
      "metadata": {
        "id": "Yh8fdUXgf1uz"
      }
    },
    {
      "cell_type": "code",
      "source": [
        "##python\n",
        "\n",
        "image_count = len(soup.find_all('img'))"
      ],
      "metadata": {
        "id": "2luQaQu1f5ds"
      },
      "execution_count": null,
      "outputs": []
    },
    {
      "cell_type": "markdown",
      "source": [
        "13. Counting Headers"
      ],
      "metadata": {
        "id": "0UWrbR99gCj7"
      }
    },
    {
      "cell_type": "code",
      "source": [
        "##python\n",
        "\n",
        "header_count = sum([len(soup.find_all(f'h{i}')) for i in range(1, 7)])\n"
      ],
      "metadata": {
        "id": "GXsMYtN7gE8T"
      },
      "execution_count": null,
      "outputs": []
    },
    {
      "cell_type": "markdown",
      "source": [
        "14. Finding External Links"
      ],
      "metadata": {
        "id": "mmbIIDubgKqA"
      }
    },
    {
      "cell_type": "code",
      "source": [
        "##python\n",
        "\n",
        "external_links = [a['href'] for a in soup.find_all('a', href=True) if a['href'].startsWith('http')]\n"
      ],
      "metadata": {
        "id": "DWhWgw7SgdeB"
      },
      "execution_count": null,
      "outputs": []
    },
    {
      "cell_type": "markdown",
      "source": [
        "15. Finding Internal links"
      ],
      "metadata": {
        "id": "s1TxgJl3gk0r"
      }
    },
    {
      "cell_type": "code",
      "source": [
        "##python\n",
        "\n",
        "internal_links = [a['href'] for a in soup.find_all('a', href=True) if not a['href'].startsWith('http')]\n"
      ],
      "metadata": {
        "id": "z-1-MKXUgoEZ"
      },
      "execution_count": null,
      "outputs": []
    },
    {
      "cell_type": "markdown",
      "source": [
        "**Extra Steps for Enhanced Functionality**\n",
        "\n",
        "1. **Setting Up the Environment:**\n",
        "\n",
        "\n",
        "*   Ensure you have the necessary libraries installed: 'requests' for sending HTTP requests and 'BeautifulSoup' for parsing HTML content.\n",
        "*   Install additional libraries if needed, such as 'lxml' for XML parsing or 'pandas' for data manipulation.\n",
        "\n",
        "2. **Sending an HTTP Request:**\n",
        "\n",
        "*   Use the 'requests' library to send a GET request to the target URL.\n",
        "*   Handle potential errors such as network issues, invalid URLs, or server errors.\n",
        "\n",
        "3. **Parsing HTML Content:**\n",
        "\n",
        "*   Use 'BeautifulSoup' to parse the HTML content of the webpage.\n",
        "*   Choose the appropriate parser ('html.parser', 'lxml', etc.) based on the complexity of the webpage.\n",
        "\n",
        "4. **Extracting the Title:**\n",
        "\n",
        "*   Locate the 'title' tag and extract its content.\n",
        "*   Handle cases where the title tag might be missing.\n",
        "\n",
        "5. **Extracting Meta Tags (SEO Tags):**\n",
        "\n",
        "*   Locate and extract meta tags such as description and keywords.\n",
        "*   Handle cases where these tags might be missing or malformed.\n",
        "\n",
        "6. **Calculating Word Counts:**\n",
        "\n",
        "*  Calculate the total word count of the home page and specific sections like the body content.\n",
        "*   Use methods to clean and split the text content accurately.\n",
        "\n",
        "7. **Counting Videos:**\n",
        "\n",
        "*   Locate and count 'video' tags on the webpage.\n",
        "*   Handle different video embedding methods (e.g., embedded iframes).\n",
        "\n",
        "8. **Estimating Scroll Length:**\n",
        "\n",
        "*   Estimate the scroll length based on the total word count or other content metrics.\n",
        "*   This is a heuristic approach and might need adjustments based on actual usage.\n",
        "\n",
        "9. **Counting Links:**\n",
        "\n",
        "*   Locate and count all 'a' tags representing hyperlinks.\n",
        "*   Consider both internal and external links for a comprehensive count.\n",
        "\n",
        "10. Count Images:\n",
        "\n",
        "*   Count the number of 'img' tags to determine the amount of image content.\n",
        "\n",
        "11. Count Scripts:\n",
        "\n",
        "*   Count the number of 'script' tags to get an idea of the amount of JavaScript on the page.\n",
        "\n",
        "12. Extract Structured Data:\n",
        "\n",
        "*   Extract JSON-LD structured data used for SEO and rich snippets.\n",
        "\n",
        "13. Extract Social Media Links:\n",
        "\n",
        " *   Extract links to social media profiles to understand the website’s social\n",
        "presence.\n",
        "\n",
        "14. **Simulating SEO Page Rank:**\n",
        "\n",
        "*   While actual SEO page rank requires external tools or APIs, simulate a placeholder value for demonstration purposes.\n",
        "\n",
        "\n",
        "\n",
        "\n",
        "\n",
        "\n"
      ],
      "metadata": {
        "id": "tRbepeeSHQuC"
      }
    },
    {
      "cell_type": "code",
      "source": [],
      "metadata": {
        "id": "nXXyabg3sqGs"
      },
      "execution_count": null,
      "outputs": []
    },
    {
      "cell_type": "markdown",
      "source": [
        "#Auto Crawler\n",
        "\n",
        "Here's the enhanced script with detailed comments explaining each step:\n"
      ],
      "metadata": {
        "id": "RBObeuV_DkZG"
      }
    },
    {
      "cell_type": "code",
      "source": [
        "import requests\n",
        "from bs4 import BeautifulSoup\n",
        "import re\n",
        "\n",
        "\n",
        "def get_website_info(url):\n",
        "    try:\n",
        "        response = requests.get(url)\n",
        "        if response.status_code == 200:\n",
        "\n",
        "            soup = BeautifulSoup(response.text, 'html.parser')\n",
        "            title = soup.title.string if soup.title else \"No title found\"\n",
        "            description = soup.find('meta', attrs={'name': 'description'})\n",
        "            description = description['content'] if description else \"No meta description found\"\n",
        "            keywords = soup.find('meta', attrs={'name': 'keywords'})\n",
        "            keywords = keywords['content'] if keywords else \"No meta keywords found\"\n",
        "            home_page_word_count = len(soup.get_text().split())\n",
        "            page_word_count = len(soup.body.get_text().split()) if soup.body else 0\n",
        "            video_count = len(soup.find_all('video'))\n",
        "            scroll_length = page_word_count / 100\n",
        "            link_count = len(soup.find_all('a'))\n",
        "            image_count = len(soup.find_all('img'))\n",
        "            header_count = sum([len(soup.find_all(f'h{i}')) for i in range(1, 7)])\n",
        "            external_links = [a['href'] for a in soup.find_all('a', href=True) if a['href'].startswith('http')]\n",
        "            internal_links = [a['href'] for a in soup.find_all('a', href=True) if not a['href'].startswith('http')]\n",
        "\n",
        "            return {\n",
        "\n",
        "                \"Title\": title,\n",
        "                \"Meta Description\": description,\n",
        "                \"Meta Keywords\": keywords,\n",
        "                \"Home Page Word Count\": home_page_word_count,\n",
        "                \"Page Word Count\": page_word_count,\n",
        "                \"Video Count\": video_count,\n",
        "                \"Scroll Length\": scroll_length,\n",
        "                \"Link Count\": link_count,\n",
        "                \"Image Count\": image_count,\n",
        "                \"Header Count\": header_count,\n",
        "                \"External Links\": external_links[:5],\n",
        "                \"Internal Links\": internal_links[:5]\n",
        "            }\n",
        "\n",
        "        else:\n",
        "            return \"Failed to retrieve the webpage. Status code: {}\".format(response.status_code)\n",
        "\n",
        "    except Exception as e:\n",
        "        return \"An error occurred: {}\".format(e)\n",
        "\n",
        "url = 'https://willowbendlc.com'\n",
        "test = get_website_info(url)\n",
        "print(test)"
      ],
      "metadata": {
        "id": "BHmvyUpJGCIr",
        "colab": {
          "base_uri": "https://localhost:8080/"
        },
        "outputId": "ab2e882f-c509-42d0-f47a-3c50ca335440"
      },
      "execution_count": 29,
      "outputs": [
        {
          "output_type": "stream",
          "name": "stdout",
          "text": [
            "{'Title': 'Preschool Programs at Willow Bend Learning Center', 'Meta Description': \"Explore our top-rated preschool programs designed to nurture your child's growth and development. Schedule a tour today!\", 'Meta Keywords': 'No meta keywords found', 'Home Page Word Count': 522, 'Page Word Count': 515, 'Video Count': 0, 'Scroll Length': 5.15, 'Link Count': 87, 'Image Count': 11, 'Header Count': 23, 'External Links': ['https://willowbendlc.com/ola/services/center-tour', 'https://childcare.hhs.texas.gov/Public/childcaresearch', 'https://www.facebook.com/wblc1/', 'https://www.privacypolicies.com/live/0366be6b-9501-43bc-b911-b3f85f20040e'], 'Internal Links': ['tel:9728671871', '/', '#', '#', '/m/account']}\n"
          ]
        }
      ]
    },
    {
      "cell_type": "markdown",
      "source": [
        "## Toheeb, please add now the ability to check these same metrics for competitors, compare those numbers side by side, and pull basic insights like \"your word count is very low, or you need more pictures\", all based on the competitive analysis of the 3-4 sites"
      ],
      "metadata": {
        "id": "sPQwL8bN11p1"
      }
    }
  ]
}